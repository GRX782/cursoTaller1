{
  "nbformat": 4,
  "nbformat_minor": 0,
  "metadata": {
    "colab": {
      "provenance": [],
      "authorship_tag": "ABX9TyNQq0SlzAJ7sHx/dpIV5Oho",
      "include_colab_link": true
    },
    "kernelspec": {
      "name": "python3",
      "display_name": "Python 3"
    },
    "language_info": {
      "name": "python"
    }
  },
  "cells": [
    {
      "cell_type": "markdown",
      "metadata": {
        "id": "view-in-github",
        "colab_type": "text"
      },
      "source": [
        "<a href=\"https://colab.research.google.com/github/GRX782/cursoTaller1/blob/main/cadenas_car%C3%A1cteres.ipynb\" target=\"_parent\"><img src=\"https://colab.research.google.com/assets/colab-badge.svg\" alt=\"Open In Colab\"/></a>"
      ]
    },
    {
      "cell_type": "markdown",
      "source": [
        "**Curso Taller 1** - Dr-Ing. José Andrés Araya Obando"
      ],
      "metadata": {
        "id": "TjkJQLuXTQe7"
      }
    },
    {
      "cell_type": "markdown",
      "source": [
        "En la lección anterior te expliqué acerca de los tipos de datos , cómo almacenarlos en variables y como utilizar todo esto junto con funciones nativas que posee Python. En esta ocasión nos vamos a concentrar exclusivamente en los tipos de datos \"string\" o \"cadenas de carácteres\""
      ],
      "metadata": {
        "id": "VBCJwxBtTXOB"
      }
    },
    {
      "cell_type": "markdown",
      "source": [
        "⏩Pregúntale a la IA ¿qué es una ***función nativa*** en Phyton? Acá te dejo algunas pistas:"
      ],
      "metadata": {
        "id": "1fOr1rcG4NQ2"
      }
    },
    {
      "cell_type": "code",
      "source": [
        "type(\"texto\")\n",
        "len([25,35.8,True,\"casa\"])"
      ],
      "metadata": {
        "colab": {
          "base_uri": "https://localhost:8080/"
        },
        "id": "JL_oyt-h7Uiz",
        "outputId": "e5d42c19-e36d-4e00-c9d1-0fbf74a68258"
      },
      "execution_count": null,
      "outputs": [
        {
          "output_type": "execute_result",
          "data": {
            "text/plain": [
              "4"
            ]
          },
          "metadata": {},
          "execution_count": 6
        }
      ]
    },
    {
      "cell_type": "markdown",
      "source": [
        "☹ En un notebook, por defecto *solo se muestra el resultado de la última instrucción en una celda*. Si quisieras que se muestren todos los resultados puedes usar print() que también es una función nativa.❗Debes tener mucho cuidado con el uso de los paréntesis, ninguno puede quedar abierto."
      ],
      "metadata": {
        "id": "I0s86Iml7_8z"
      }
    },
    {
      "cell_type": "code",
      "source": [
        "print(type(\"texto\"))\n",
        "print(len([25,35.8,True,\"casa\"]))"
      ],
      "metadata": {
        "colab": {
          "base_uri": "https://localhost:8080/"
        },
        "id": "EHlywodf8WUD",
        "outputId": "3b60dcae-5a1b-46e8-a628-ba1fdf2e8fc0"
      },
      "execution_count": null,
      "outputs": [
        {
          "output_type": "stream",
          "name": "stdout",
          "text": [
            "<class 'str'>\n",
            "4\n"
          ]
        }
      ]
    },
    {
      "cell_type": "markdown",
      "source": [
        "**Paso 1.** Determinemos la longitud de una cadena de carácteres. <br>\n",
        "⏩ Recuerda que también contabiliza los espacios en blanco entre cada una de las palabras"
      ],
      "metadata": {
        "id": "oIIBnL0zUWjB"
      }
    },
    {
      "cell_type": "code",
      "source": [
        "nombre_curso = \"Taller de Programación con Python\"\n",
        "print(nombre_curso)"
      ],
      "metadata": {
        "colab": {
          "base_uri": "https://localhost:8080/"
        },
        "id": "92ocVWmNUFgj",
        "outputId": "96099db6-5c6e-465b-ca9a-4ebd01797fc2"
      },
      "execution_count": null,
      "outputs": [
        {
          "output_type": "stream",
          "name": "stdout",
          "text": [
            "Taller de Programación con Python\n"
          ]
        }
      ]
    },
    {
      "cell_type": "code",
      "source": [
        "len(nombre_curso)"
      ],
      "metadata": {
        "colab": {
          "base_uri": "https://localhost:8080/"
        },
        "id": "GWbMznlIUfyS",
        "outputId": "322454ee-3e70-4fe6-9332-d4d9d1f4c480"
      },
      "execution_count": null,
      "outputs": [
        {
          "output_type": "execute_result",
          "data": {
            "text/plain": [
              "33"
            ]
          },
          "metadata": {},
          "execution_count": 3
        }
      ]
    },
    {
      "cell_type": "markdown",
      "source": [
        "**Paso 2.** Ahora vamos a consultar por un carácter en específico. Para ello, vamos a utilizar la **indexación** (acceder por índice). Instrucción: justo después del nombre de la variable se indica el índice (en inglés, index) dentro de unos corchetes []. Comprende entonces que las cadenas son secuencias y se accede a cada carácter por su índice. **Python cuenta desde cero**, es decir, al primer carácter le asigna un valor de cero.  <br>\n",
        "T:(0) a:(1) l:(2) l:(3) e:(4) r:(5) \" \"(6) d:(7) e:(8) \" \"(9) P:(10) r:(11) o:(12) g:(13) r:(14) a:(15) m:(16) a:(17) c:(18) i:(19) ó:(20) n:(21)\n"
      ],
      "metadata": {
        "id": "2s2XfyyFVBgx"
      }
    },
    {
      "cell_type": "code",
      "source": [
        "print(nombre_curso[5])\n",
        "print(nombre_curso[13])\n",
        "print(nombre_curso[19])"
      ],
      "metadata": {
        "colab": {
          "base_uri": "https://localhost:8080/"
        },
        "id": "2YL6ufN9U3Qi",
        "outputId": "90b2bd0c-ebad-4826-f90f-f7f1eee33cc4"
      },
      "execution_count": null,
      "outputs": [
        {
          "output_type": "stream",
          "name": "stdout",
          "text": [
            "r\n",
            "g\n",
            "i\n"
          ]
        }
      ]
    },
    {
      "cell_type": "code",
      "source": [
        "cadena = \"Hola Mundo\"\n",
        "print(f\"\"\"El carácter que se encuentra justo en el índice 6 es {cadena[6]}\"\"\")"
      ],
      "metadata": {
        "colab": {
          "base_uri": "https://localhost:8080/"
        },
        "id": "B-aTO_DddXbB",
        "outputId": "056b137f-16ae-45f4-f100-080e529eb8ca"
      },
      "execution_count": null,
      "outputs": [
        {
          "output_type": "stream",
          "name": "stdout",
          "text": [
            "El carácter que se encuentra justo en el índice 6 es u\n"
          ]
        }
      ]
    },
    {
      "cell_type": "markdown",
      "source": [
        "☹ Si el índice se excede de la cantidad de carácteres sale \"IndexError\""
      ],
      "metadata": {
        "id": "L_kdeS3gdLxq"
      }
    },
    {
      "cell_type": "code",
      "source": [
        "len(cadena)"
      ],
      "metadata": {
        "colab": {
          "base_uri": "https://localhost:8080/"
        },
        "id": "Ho8pP8CMeSCg",
        "outputId": "63768178-3588-465a-f1a0-9a5978aa1947"
      },
      "execution_count": null,
      "outputs": [
        {
          "output_type": "execute_result",
          "data": {
            "text/plain": [
              "10"
            ]
          },
          "metadata": {},
          "execution_count": 18
        }
      ]
    },
    {
      "cell_type": "code",
      "source": [
        "cadena[11]"
      ],
      "metadata": {
        "colab": {
          "base_uri": "https://localhost:8080/",
          "height": 141
        },
        "id": "7Sf0VAsReYa4",
        "outputId": "aad83a9d-859e-47d2-954b-101daf3b7b40"
      },
      "execution_count": null,
      "outputs": [
        {
          "output_type": "error",
          "ename": "IndexError",
          "evalue": "string index out of range",
          "traceback": [
            "\u001b[0;31m---------------------------------------------------------------------------\u001b[0m",
            "\u001b[0;31mIndexError\u001b[0m                                Traceback (most recent call last)",
            "\u001b[0;32m/tmp/ipython-input-1908611516.py\u001b[0m in \u001b[0;36m<cell line: 0>\u001b[0;34m()\u001b[0m\n\u001b[0;32m----> 1\u001b[0;31m \u001b[0mcadena\u001b[0m\u001b[0;34m[\u001b[0m\u001b[0;36m11\u001b[0m\u001b[0;34m]\u001b[0m\u001b[0;34m\u001b[0m\u001b[0;34m\u001b[0m\u001b[0m\n\u001b[0m",
            "\u001b[0;31mIndexError\u001b[0m: string index out of range"
          ]
        }
      ]
    },
    {
      "cell_type": "markdown",
      "source": [
        "Índices negativos cuentan desde el final: -1 es el último, -2 el penúltimo, y así sucesivamente."
      ],
      "metadata": {
        "id": "pI2qndeIedeY"
      }
    },
    {
      "cell_type": "code",
      "source": [
        "cadena[-1]"
      ],
      "metadata": {
        "colab": {
          "base_uri": "https://localhost:8080/",
          "height": 35
        },
        "id": "Dv78_MyqeqKw",
        "outputId": "03082e1d-ccc0-47e6-abf7-29de0efaa1f7"
      },
      "execution_count": null,
      "outputs": [
        {
          "output_type": "execute_result",
          "data": {
            "text/plain": [
              "'o'"
            ],
            "application/vnd.google.colaboratory.intrinsic+json": {
              "type": "string"
            }
          },
          "metadata": {},
          "execution_count": 21
        }
      ]
    },
    {
      "cell_type": "markdown",
      "source": [
        "H:(-10) o:(-9) l:(-8) a:(-7) \" \":(-6) M:(-5) u:(-4) n:(-3) d:(-2) o:(-1)"
      ],
      "metadata": {
        "id": "AeUwrSw8_6PH"
      }
    },
    {
      "cell_type": "code",
      "source": [
        "cadena = \"Hola Mundo\"\n",
        "print(cadena[-5])\n",
        "print(cadena[-10])"
      ],
      "metadata": {
        "colab": {
          "base_uri": "https://localhost:8080/"
        },
        "id": "GhXywjnNevqo",
        "outputId": "84aae2ae-01ab-4b54-a5d4-0d20aefe4c7b"
      },
      "execution_count": null,
      "outputs": [
        {
          "output_type": "stream",
          "name": "stdout",
          "text": [
            "M\n",
            "H\n"
          ]
        }
      ]
    },
    {
      "cell_type": "markdown",
      "source": [
        "**Paso 3.** Ahora te voy a explicar cómo recortar palabras"
      ],
      "metadata": {
        "id": "QHlmsW6lfRGg"
      }
    },
    {
      "cell_type": "code",
      "source": [
        "nombre =  \"José Andrés\"\n",
        "apellido = \"Araya Obando\"\n",
        "nombre_completo = nombre + \" \" + apellido\n",
        "print(nombre_completo)"
      ],
      "metadata": {
        "colab": {
          "base_uri": "https://localhost:8080/"
        },
        "id": "vDxDUYJofYug",
        "outputId": "95e09408-1598-49e7-9a7f-c8264b546301"
      },
      "execution_count": null,
      "outputs": [
        {
          "output_type": "stream",
          "name": "stdout",
          "text": [
            "José Andrés Araya Obando\n"
          ]
        }
      ]
    },
    {
      "cell_type": "code",
      "source": [
        "segundoNombre = nombre[5:11] # toma índices 5,6,7,8,9,10\n",
        "print(segundoNombre)"
      ],
      "metadata": {
        "colab": {
          "base_uri": "https://localhost:8080/"
        },
        "id": "U_bIYdV6fljn",
        "outputId": "3f0542da-4123-4c7f-a406-fdbf168fed02"
      },
      "execution_count": null,
      "outputs": [
        {
          "output_type": "stream",
          "name": "stdout",
          "text": [
            "Andrés\n"
          ]
        }
      ]
    },
    {
      "cell_type": "markdown",
      "source": [
        "Nota que le indico que llegue hasta el índice 11 (pese a que el índice 10 es precisamente el último caracter de la palabra \"Andrés\"). Esto ocurre porque Python emplea la regla de \"*inicio incluído, fin excluído*\". Nota tambien que NO indicamos un valor único dentro de los corchetes sino que colocamos un rango de índices mediante los \"dos puntos\"."
      ],
      "metadata": {
        "id": "Q5L0nPflhBw_"
      }
    },
    {
      "cell_type": "markdown",
      "source": [
        "Si no se indica un valor específico dentro del rango, Python autocompleta hasta el final"
      ],
      "metadata": {
        "id": "CFHpSlhjif29"
      }
    },
    {
      "cell_type": "code",
      "source": [
        "nombre_completo[5:]"
      ],
      "metadata": {
        "colab": {
          "base_uri": "https://localhost:8080/",
          "height": 35
        },
        "id": "z-YO3efbioiN",
        "outputId": "a9f3522f-6ac1-4a3f-ba2a-d395866cbfa3"
      },
      "execution_count": null,
      "outputs": [
        {
          "output_type": "execute_result",
          "data": {
            "text/plain": [
              "'Andrés Araya Obando'"
            ],
            "application/vnd.google.colaboratory.intrinsic+json": {
              "type": "string"
            }
          },
          "metadata": {},
          "execution_count": 29
        }
      ]
    },
    {
      "cell_type": "code",
      "source": [
        "nombre_completo[13:]"
      ],
      "metadata": {
        "colab": {
          "base_uri": "https://localhost:8080/",
          "height": 35
        },
        "id": "R0iyDOpXi9X0",
        "outputId": "e2b5729c-548b-480e-b3d2-b3cc195beb3e"
      },
      "execution_count": null,
      "outputs": [
        {
          "output_type": "execute_result",
          "data": {
            "text/plain": [
              "'raya Obando'"
            ],
            "application/vnd.google.colaboratory.intrinsic+json": {
              "type": "string"
            }
          },
          "metadata": {},
          "execution_count": 30
        }
      ]
    },
    {
      "cell_type": "markdown",
      "source": [
        "0:J 1:o 2:s 3:é 4:\" \" 5:A 6:n 7:d 8:r 9:é 10:s 11:\"  \""
      ],
      "metadata": {
        "id": "gsAezI6KkWDD"
      }
    },
    {
      "cell_type": "code",
      "source": [
        "nombre_completo[:4] # Toma de cero hasta 4 sin incluir el 4"
      ],
      "metadata": {
        "colab": {
          "base_uri": "https://localhost:8080/",
          "height": 35
        },
        "id": "ceeG3_-4jFDd",
        "outputId": "c90667d9-67ac-4ace-8b25-6d385b9d37f4"
      },
      "execution_count": null,
      "outputs": [
        {
          "output_type": "execute_result",
          "data": {
            "text/plain": [
              "'José'"
            ],
            "application/vnd.google.colaboratory.intrinsic+json": {
              "type": "string"
            }
          },
          "metadata": {},
          "execution_count": 33
        }
      ]
    },
    {
      "cell_type": "markdown",
      "source": [
        "⏰Tómate una pausa"
      ],
      "metadata": {
        "id": "Amb7eMK8RnYO"
      }
    },
    {
      "cell_type": "markdown",
      "source": [
        "**Paso 4.** Ahora te voy a explicar cómo modificar las letras mayúsculas y minúsculas"
      ],
      "metadata": {
        "id": "icnerSwEBpRF"
      }
    },
    {
      "cell_type": "markdown",
      "source": [
        "↪ Acá a propósito coloco la cadena de carácteres alternando de manera aleatoria el uso de mayúsculas y minísculas para que me entiendas mejor."
      ],
      "metadata": {
        "id": "BLxXSNx1CkBj"
      }
    },
    {
      "cell_type": "code",
      "source": [
        "equipo = \"gloRiOSo DEporTiVo saPrIssa\""
      ],
      "metadata": {
        "id": "hhEHPclTDWVD"
      },
      "execution_count": null,
      "outputs": []
    },
    {
      "cell_type": "markdown",
      "source": [
        "\"*upper*\" pone todas las letras en mayúsculas"
      ],
      "metadata": {
        "id": "SPJWqsR2DLcM"
      }
    },
    {
      "cell_type": "code",
      "source": [
        "equipo.upper()"
      ],
      "metadata": {
        "colab": {
          "base_uri": "https://localhost:8080/",
          "height": 35
        },
        "id": "oUUMLeJADTxj",
        "outputId": "c49ca660-0277-49f8-d65a-2575d95ca462"
      },
      "execution_count": null,
      "outputs": [
        {
          "output_type": "execute_result",
          "data": {
            "text/plain": [
              "'GLORIOSO DEPORTIVO SAPRISSA'"
            ],
            "application/vnd.google.colaboratory.intrinsic+json": {
              "type": "string"
            }
          },
          "metadata": {},
          "execution_count": 12
        }
      ]
    },
    {
      "cell_type": "markdown",
      "source": [
        "\"*lower*\" pone todas las letras en minúsculas"
      ],
      "metadata": {
        "id": "cayuOPrSDnY0"
      }
    },
    {
      "cell_type": "code",
      "source": [
        "equipo.lower()"
      ],
      "metadata": {
        "colab": {
          "base_uri": "https://localhost:8080/",
          "height": 35
        },
        "id": "QqCTsfCcD21T",
        "outputId": "d08ecc28-dd26-4412-cf57-b697d25761f5"
      },
      "execution_count": null,
      "outputs": [
        {
          "output_type": "execute_result",
          "data": {
            "text/plain": [
              "'glorioso deportivo saprissa'"
            ],
            "application/vnd.google.colaboratory.intrinsic+json": {
              "type": "string"
            }
          },
          "metadata": {},
          "execution_count": 13
        }
      ]
    },
    {
      "cell_type": "markdown",
      "source": [
        "\"*capitalize*\" pone solo el primer carácter de toda la cadena en mayúscula"
      ],
      "metadata": {
        "id": "NCKtS5X7D9uD"
      }
    },
    {
      "cell_type": "code",
      "source": [
        "equipo.capitalize()"
      ],
      "metadata": {
        "colab": {
          "base_uri": "https://localhost:8080/",
          "height": 35
        },
        "id": "2aunZRXQEiWa",
        "outputId": "35695a93-5b67-4ea7-ab63-8ed5be7c1536"
      },
      "execution_count": null,
      "outputs": [
        {
          "output_type": "execute_result",
          "data": {
            "text/plain": [
              "'Glorioso deportivo saprissa'"
            ],
            "application/vnd.google.colaboratory.intrinsic+json": {
              "type": "string"
            }
          },
          "metadata": {},
          "execution_count": 14
        }
      ]
    },
    {
      "cell_type": "markdown",
      "source": [
        "*title* pone la primera letra de cada palabra en mayúscula"
      ],
      "metadata": {
        "id": "1t4rXralEsvC"
      }
    },
    {
      "cell_type": "code",
      "source": [
        "equipo.title()"
      ],
      "metadata": {
        "colab": {
          "base_uri": "https://localhost:8080/",
          "height": 35
        },
        "id": "IuY9TfqrE277",
        "outputId": "f3157f60-8984-4c7d-97da-f13061e3a9da"
      },
      "execution_count": null,
      "outputs": [
        {
          "output_type": "execute_result",
          "data": {
            "text/plain": [
              "'Glorioso Deportivo Saprissa'"
            ],
            "application/vnd.google.colaboratory.intrinsic+json": {
              "type": "string"
            }
          },
          "metadata": {},
          "execution_count": 15
        }
      ]
    },
    {
      "cell_type": "markdown",
      "source": [
        "☣ Si en la cadena de carácteres hay espacios en blando a la izquierda o a la derecha, la sentencia \"capitalize()\" no se ejecutan"
      ],
      "metadata": {
        "id": "q2wdk7K1FeT5"
      }
    },
    {
      "cell_type": "code",
      "source": [
        "nombre = \" anDrés \"\n",
        "print(nombre)"
      ],
      "metadata": {
        "colab": {
          "base_uri": "https://localhost:8080/"
        },
        "id": "wLzh4PPmFtIT",
        "outputId": "5877fcb8-d6bf-4846-fd6b-8c19c00c4ed7"
      },
      "execution_count": null,
      "outputs": [
        {
          "output_type": "stream",
          "name": "stdout",
          "text": [
            " anDrés \n"
          ]
        }
      ]
    },
    {
      "cell_type": "code",
      "source": [
        "nombre.capitalize()"
      ],
      "metadata": {
        "colab": {
          "base_uri": "https://localhost:8080/",
          "height": 35
        },
        "id": "OrG134FCGVuS",
        "outputId": "8b446f71-dbc1-44ec-cab2-7560e7867d08"
      },
      "execution_count": null,
      "outputs": [
        {
          "output_type": "execute_result",
          "data": {
            "text/plain": [
              "' andrés '"
            ],
            "application/vnd.google.colaboratory.intrinsic+json": {
              "type": "string"
            }
          },
          "metadata": {},
          "execution_count": 35
        }
      ]
    },
    {
      "cell_type": "markdown",
      "source": [
        "✅ Se pueden remover los espacios vacíos con la sentencia \"strip\""
      ],
      "metadata": {
        "id": "aL43qdTRGzzI"
      }
    },
    {
      "cell_type": "code",
      "source": [
        "nombre.strip().capitalize() # se remueven los espacios en blanco a la izquierda y a la derecha"
      ],
      "metadata": {
        "colab": {
          "base_uri": "https://localhost:8080/",
          "height": 35
        },
        "id": "XfqpdlGiGyP6",
        "outputId": "6d1db0f9-2f75-4ae9-fd4f-48b16a752531"
      },
      "execution_count": null,
      "outputs": [
        {
          "output_type": "execute_result",
          "data": {
            "text/plain": [
              "'Andrés'"
            ],
            "application/vnd.google.colaboratory.intrinsic+json": {
              "type": "string"
            }
          },
          "metadata": {},
          "execution_count": 37
        }
      ]
    },
    {
      "cell_type": "code",
      "source": [
        "nombre.lstrip().capitalize() # se remueven los espacios en blanco a la izquiera"
      ],
      "metadata": {
        "colab": {
          "base_uri": "https://localhost:8080/",
          "height": 35
        },
        "id": "Kq4rP9ulHHEI",
        "outputId": "81d50ec5-0c5c-4da9-d795-58be0d9e05ce"
      },
      "execution_count": null,
      "outputs": [
        {
          "output_type": "execute_result",
          "data": {
            "text/plain": [
              "'Andrés '"
            ],
            "application/vnd.google.colaboratory.intrinsic+json": {
              "type": "string"
            }
          },
          "metadata": {},
          "execution_count": 39
        }
      ]
    },
    {
      "cell_type": "code",
      "source": [
        "nombre.rstrip().capitalize() # se remueven los espacios en blanco a la derecha"
      ],
      "metadata": {
        "colab": {
          "base_uri": "https://localhost:8080/",
          "height": 35
        },
        "id": "0bEiYvHxHgnn",
        "outputId": "42706f10-3dd9-4ef7-b10c-b4bd53660055"
      },
      "execution_count": null,
      "outputs": [
        {
          "output_type": "execute_result",
          "data": {
            "text/plain": [
              "' andrés'"
            ],
            "application/vnd.google.colaboratory.intrinsic+json": {
              "type": "string"
            }
          },
          "metadata": {},
          "execution_count": 40
        }
      ]
    },
    {
      "cell_type": "markdown",
      "source": [
        "**Tu primer programa**"
      ],
      "metadata": {
        "id": "hYqh_4-1IdyP"
      }
    },
    {
      "cell_type": "markdown",
      "source": [
        "Desarrolla un programa que le solicite al usuario su nombre completo y luego edite la entrada para desplegar la información en un formato estándar (solo la primera palabra en mayúscula) <br><br>\n",
        "**Algoritmo:** <br>\n",
        "1. Le solicita al usuario el nombre completo (para ello debes utilizar la sentencia input(). <br>\n",
        "2. Debes pasar todo el texto a minúscula y colocar solo la primera letra de cada palabra en mayúscula <br>\n",
        "3. Imprimes el resultado\n"
      ],
      "metadata": {
        "id": "aO6Fb-NIIiHH"
      }
    },
    {
      "cell_type": "code",
      "source": [
        "# Paso 1: Pedimos al usuario su nombre completo\n",
        "# Dentro del input dejo el espacio en blanco luego de los dos puntos a propósito\n",
        "nombreCompleto = input(\"Escriba su nombre completo: \")\n",
        "\n",
        "# Paso 2: Convertimos cada palabra a minúscula y luego a mayúscula inicial\n",
        "nombreCompleto = nombreCompleto.lower().title()\n",
        "\n",
        "# Paso 3: Mostramos el resultado\n",
        "print(\"El nombre con el texto ya editado es:\", nombreCompleto)\n"
      ],
      "metadata": {
        "colab": {
          "base_uri": "https://localhost:8080/"
        },
        "id": "yHSUq4S5NaTU",
        "outputId": "5b2934ee-3739-428e-edde-a14c0914588b"
      },
      "execution_count": null,
      "outputs": [
        {
          "output_type": "stream",
          "name": "stdout",
          "text": [
            "Escriba su nombre completo: JoSÉ AndrES ARAya OBanDo\n",
            "El nombre con el texto ya editado es: José Andres Araya Obando\n"
          ]
        }
      ]
    },
    {
      "cell_type": "markdown",
      "source": [
        "⚡La sentencia **input()** se utiliza comunmente para pedir datos al usuario mientras el programa está en ejecución. Ten presente que el programa se detiene y espera a que la persona escriba algo en la consola y le de \"enter\". Lo que la persona escriba se devuelve siempre como una cadena de caractéres."
      ],
      "metadata": {
        "id": "S2RwA-PSPG-Q"
      }
    },
    {
      "cell_type": "markdown",
      "source": [
        "**Ejemplo demostrativo**: creación base datos registros"
      ],
      "metadata": {
        "id": "kj9GpddoM-nr"
      }
    },
    {
      "cell_type": "markdown",
      "source": [
        "↪ Sencillamente dale correr a este programa, no hace falta que ahorita te esfuerces por comprender el código. Las estructuras que aparecen ahí las veremos más adelante. Por ahora quiero que ingreses al menos dos registros en el input y los coloques alternando las mayusculas y minúsculas de forma aletatoria. Luego quiero que notes que pese a que fuimos muy \"descuidados\" a lo hora de ingresar los registros (respecto al uso de mayúsculas y minúsculas) el programa es capaz de darle formato a las entradas y desplegar la información de una forma estandarizara en el data frame. ⏰ Quiero con este ejemplo demostrativo que notes lo útil que son estas sentencias que te he explicado para modificar cadenas de carácteres en Python."
      ],
      "metadata": {
        "id": "-9xXFTHoPzWo"
      }
    },
    {
      "cell_type": "code",
      "source": [
        "import pandas as pd\n",
        "from datetime import datetime\n",
        "from IPython.display import display\n",
        "\n",
        "# Creamos el DataFrame con columnas renombradas\n",
        "df = pd.DataFrame(columns=[\"Id\", \"Nombre completo\", \"Estado Civil\", \"Fecha de registro\"])\n",
        "\n",
        "id_persona = 1  # Contador que empieza en 1\n",
        "\n",
        "while True:\n",
        "    nombre = input(\"Escribe el nombre completo (o presiona Enter para terminar): \").strip()\n",
        "    if nombre == \"\":\n",
        "        break\n",
        "\n",
        "    # Normalizamos el nombre\n",
        "    nombre_normalizado = nombre.lower().title()\n",
        "\n",
        "    # Pedimos el estado civil\n",
        "    estado = input(\"Estado civil (Casado(a) / Soltero(a)): \").strip().title()\n",
        "\n",
        "    # Obtenemos fecha y hora actual\n",
        "    fecha = datetime.now().strftime(\"%Y-%m-%d %H:%M:%S\")\n",
        "\n",
        "    # Guardamos en el DataFrame con ID incremental\n",
        "    df.loc[len(df)] = [id_persona, nombre_normalizado, estado, fecha]\n",
        "    id_persona += 1\n",
        "\n",
        "    print(\"Guardado:\", nombre_normalizado, \"-\", estado, \"-\", fecha)\n",
        "\n",
        "# Mostrar el resultado con estilos\n",
        "df_styled = (\n",
        "    df.style\n",
        "      .hide(axis=\"index\")  # ocultamos el índice\n",
        "      .set_properties(subset=[\"Nombre completo\"], **{\"text-align\": \"left\"})\n",
        "      .set_properties(subset=[\"Id\", \"Estado Civil\", \"Fecha de registro\"], **{\"text-align\": \"center\"})\n",
        "      .set_table_styles([\n",
        "          {\"selector\": \"th\", \"props\": [(\"text-align\", \"center\")]}  # encabezados centrados\n",
        "      ])\n",
        ")\n",
        "\n",
        "print(\"\\nResumen de personas registradas:\")\n",
        "display(df_styled)\n"
      ],
      "metadata": {
        "colab": {
          "base_uri": "https://localhost:8080/",
          "height": 268
        },
        "id": "zpCNriJ2Migi",
        "outputId": "06b0cab9-ef1b-4ad2-aefa-a78707aeec37"
      },
      "execution_count": null,
      "outputs": [
        {
          "output_type": "stream",
          "name": "stdout",
          "text": [
            "Escribe el nombre completo (o presiona Enter para terminar): JOSE Andrés ARAYA obando\n",
            "Estado civil (Casado(a) / Soltero(a)): CAsado\n",
            "Guardado: Jose Andrés Araya Obando - Casado - 2025-09-05 04:46:25\n",
            "Escribe el nombre completo (o presiona Enter para terminar): Sofía PiedRA Mora\n",
            "Estado civil (Casado(a) / Soltero(a)): Soltera\n",
            "Guardado: Sofía Piedra Mora - Soltera - 2025-09-05 04:46:39\n",
            "Escribe el nombre completo (o presiona Enter para terminar): \n",
            "\n",
            "Resumen de personas registradas:\n"
          ]
        },
        {
          "output_type": "display_data",
          "data": {
            "text/plain": [
              "<pandas.io.formats.style.Styler at 0x7ff02803f110>"
            ],
            "text/html": [
              "<style type=\"text/css\">\n",
              "#T_8ea25 th {\n",
              "  text-align: center;\n",
              "}\n",
              "#T_8ea25_row0_col0, #T_8ea25_row0_col2, #T_8ea25_row0_col3, #T_8ea25_row1_col0, #T_8ea25_row1_col2, #T_8ea25_row1_col3 {\n",
              "  text-align: center;\n",
              "}\n",
              "#T_8ea25_row0_col1, #T_8ea25_row1_col1 {\n",
              "  text-align: left;\n",
              "}\n",
              "</style>\n",
              "<table id=\"T_8ea25\" class=\"dataframe\">\n",
              "  <thead>\n",
              "    <tr>\n",
              "      <th id=\"T_8ea25_level0_col0\" class=\"col_heading level0 col0\" >Id</th>\n",
              "      <th id=\"T_8ea25_level0_col1\" class=\"col_heading level0 col1\" >Nombre completo</th>\n",
              "      <th id=\"T_8ea25_level0_col2\" class=\"col_heading level0 col2\" >Estado Civil</th>\n",
              "      <th id=\"T_8ea25_level0_col3\" class=\"col_heading level0 col3\" >Fecha de registro</th>\n",
              "    </tr>\n",
              "  </thead>\n",
              "  <tbody>\n",
              "    <tr>\n",
              "      <td id=\"T_8ea25_row0_col0\" class=\"data row0 col0\" >1</td>\n",
              "      <td id=\"T_8ea25_row0_col1\" class=\"data row0 col1\" >Jose Andrés Araya Obando</td>\n",
              "      <td id=\"T_8ea25_row0_col2\" class=\"data row0 col2\" >Casado</td>\n",
              "      <td id=\"T_8ea25_row0_col3\" class=\"data row0 col3\" >2025-09-05 04:46:25</td>\n",
              "    </tr>\n",
              "    <tr>\n",
              "      <td id=\"T_8ea25_row1_col0\" class=\"data row1 col0\" >2</td>\n",
              "      <td id=\"T_8ea25_row1_col1\" class=\"data row1 col1\" >Sofía Piedra Mora</td>\n",
              "      <td id=\"T_8ea25_row1_col2\" class=\"data row1 col2\" >Soltera</td>\n",
              "      <td id=\"T_8ea25_row1_col3\" class=\"data row1 col3\" >2025-09-05 04:46:39</td>\n",
              "    </tr>\n",
              "  </tbody>\n",
              "</table>\n"
            ]
          },
          "metadata": {}
        }
      ]
    },
    {
      "cell_type": "markdown",
      "source": [
        "**Paso 5.** También podemos buscar cadenas de carácteres con la función *find()*"
      ],
      "metadata": {
        "id": "UySNxSiIMjub"
      }
    },
    {
      "cell_type": "code",
      "source": [
        "nombre = \"José AndrES ARayA OBando\" # creamos la cadena sin formato\n",
        "nombre = nombre.lower().title() # damos formato\n",
        "print(nombre) # verificamos resultado"
      ],
      "metadata": {
        "colab": {
          "base_uri": "https://localhost:8080/"
        },
        "id": "RRnlccSsSIcO",
        "outputId": "16349127-be14-43bf-e887-49def7f8db36"
      },
      "execution_count": null,
      "outputs": [
        {
          "output_type": "stream",
          "name": "stdout",
          "text": [
            "José Andres Araya Obando\n"
          ]
        }
      ]
    },
    {
      "cell_type": "code",
      "source": [
        "nombre.find(\"dres\") # devuelve el primer índice donde encuentra la cadena de caractéres"
      ],
      "metadata": {
        "colab": {
          "base_uri": "https://localhost:8080/"
        },
        "id": "CNBuqhB3S7X-",
        "outputId": "9d7c3626-c727-475f-c59e-ab5a80962dc1"
      },
      "execution_count": null,
      "outputs": [
        {
          "output_type": "execute_result",
          "data": {
            "text/plain": [
              "7"
            ]
          },
          "metadata": {},
          "execution_count": 56
        }
      ]
    },
    {
      "cell_type": "code",
      "source": [
        "nombre.find(\"drEs\") # si devuelve -1 es que no encontró la cadena de carácteres indicada"
      ],
      "metadata": {
        "colab": {
          "base_uri": "https://localhost:8080/"
        },
        "id": "oIb1APZiTR4t",
        "outputId": "1680e303-efa4-4d79-8b26-66a245858fa0"
      },
      "execution_count": null,
      "outputs": [
        {
          "output_type": "execute_result",
          "data": {
            "text/plain": [
              "-1"
            ]
          },
          "metadata": {},
          "execution_count": 57
        }
      ]
    },
    {
      "cell_type": "code",
      "source": [
        "\"dres\" in nombre # también se puede preguntar si la cadena se encuentra presente en la variable o no"
      ],
      "metadata": {
        "colab": {
          "base_uri": "https://localhost:8080/"
        },
        "id": "ys4pGOzCTe4k",
        "outputId": "bd49b4e8-7f38-4e14-97af-22c3ddc26b6c"
      },
      "execution_count": null,
      "outputs": [
        {
          "output_type": "execute_result",
          "data": {
            "text/plain": [
              "True"
            ]
          },
          "metadata": {},
          "execution_count": 58
        }
      ]
    },
    {
      "cell_type": "code",
      "source": [
        "\"drEs\" in nombre"
      ],
      "metadata": {
        "colab": {
          "base_uri": "https://localhost:8080/"
        },
        "id": "Y1d52a3ZTufV",
        "outputId": "1f8f9c44-156c-47dc-894f-1a3171c52d7c"
      },
      "execution_count": null,
      "outputs": [
        {
          "output_type": "execute_result",
          "data": {
            "text/plain": [
              "False"
            ]
          },
          "metadata": {},
          "execution_count": 59
        }
      ]
    },
    {
      "cell_type": "markdown",
      "source": [
        "**Paso 6.** Ahora te voy a explicar cómo reemplazar carácteres con la sentencia replace( , )"
      ],
      "metadata": {
        "id": "k47TdG8CT1H0"
      }
    },
    {
      "cell_type": "code",
      "source": [
        "nombre = \"José Andres ArayhA Ovando\"\n",
        "nombre = nombre.replace(\"dres\",\"drés\")\n",
        "nombre = nombre.replace(\"yhA\",\"ya\")\n",
        "nombre = nombre.replace(\"Ova\",\"Oba\")\n",
        "print(nombre)"
      ],
      "metadata": {
        "colab": {
          "base_uri": "https://localhost:8080/"
        },
        "id": "qO7JahMhT-mj",
        "outputId": "3138b794-035d-4f44-ad4f-634a21b15a6d"
      },
      "execution_count": null,
      "outputs": [
        {
          "output_type": "stream",
          "name": "stdout",
          "text": [
            "José Andrés Araya Obando\n"
          ]
        }
      ]
    },
    {
      "cell_type": "markdown",
      "source": [
        "▶ Realmente .replace(\"texto_a_buscar\", \"texto_nuevo\") no cambia la cadena original, sino que devuelve una nueva con reemplazos"
      ],
      "metadata": {
        "id": "64uMZdVAVLGy"
      }
    },
    {
      "cell_type": "markdown",
      "source": [
        "⛹ Practica escribiendo tu nombre con un error ortográfico a propósito y luego utiliza replace() para corregirlo"
      ],
      "metadata": {
        "id": "TDANsnmuVz0r"
      }
    },
    {
      "cell_type": "code",
      "source": [
        "nombre = \"Maria Lopéz\"\n",
        "nombre = nombre.replace(\"Lopéz\", \"López\")\n",
        "print(nombre)\n"
      ],
      "metadata": {
        "colab": {
          "base_uri": "https://localhost:8080/"
        },
        "id": "cMGSJTSgWDCb",
        "outputId": "f4ce1ace-f379-414a-e65f-5302205e79ba"
      },
      "execution_count": null,
      "outputs": [
        {
          "output_type": "stream",
          "name": "stdout",
          "text": [
            "Maria López\n"
          ]
        }
      ]
    },
    {
      "cell_type": "markdown",
      "source": [
        "☝ Finalmente, te quiero explicar algo importante respecto al uso de las comillas."
      ],
      "metadata": {
        "id": "FSjpPiZsWIj6"
      }
    },
    {
      "cell_type": "code",
      "source": [
        "print (\n",
        "\"\"\" Esto es una cadena de carácteres pero ...\n",
        "¿cómo hago entences para acá mismo colocar una expresión entre comillas?\"\"\"\n",
        ")"
      ],
      "metadata": {
        "colab": {
          "base_uri": "https://localhost:8080/"
        },
        "id": "ue9sXeymWz57",
        "outputId": "7b393e8c-ca2f-4d8e-bc6b-05e92de0dcff"
      },
      "execution_count": null,
      "outputs": [
        {
          "output_type": "stream",
          "name": "stdout",
          "text": [
            " Esto es una cadena de carácteres pero ...\n",
            "¿cómo hago entences para acá mismo colocar una expresión entre comillas?\n"
          ]
        }
      ]
    },
    {
      "cell_type": "code",
      "source": [
        "print(\"Hola \"mundo\"\")"
      ],
      "metadata": {
        "colab": {
          "base_uri": "https://localhost:8080/",
          "height": 106
        },
        "id": "4pVOsI8zYLLq",
        "outputId": "8c0edb9d-97f1-4b94-8271-273fe68891c3"
      },
      "execution_count": null,
      "outputs": [
        {
          "output_type": "error",
          "ename": "SyntaxError",
          "evalue": "invalid syntax. Perhaps you forgot a comma? (ipython-input-14235203.py, line 1)",
          "traceback": [
            "\u001b[0;36m  File \u001b[0;32m\"/tmp/ipython-input-14235203.py\"\u001b[0;36m, line \u001b[0;32m1\u001b[0m\n\u001b[0;31m    print(\"Hola \"mundo\"\")\u001b[0m\n\u001b[0m          ^\u001b[0m\n\u001b[0;31mSyntaxError\u001b[0m\u001b[0;31m:\u001b[0m invalid syntax. Perhaps you forgot a comma?\n"
          ]
        }
      ]
    },
    {
      "cell_type": "markdown",
      "source": [
        "✔ Para que no salga error, debes indicarle con \"\\\\\" justo a la izquierda del symbolo especial (en este caso una comilla) para que lo vea como si fuera cualquier otro carácter en la cadena"
      ],
      "metadata": {
        "id": "nDdcBU1VYTyB"
      }
    },
    {
      "cell_type": "code",
      "source": [
        "print(\"Hola \\\"mundo\\\" .... (ya con esto no va a salir un error)\")"
      ],
      "metadata": {
        "colab": {
          "base_uri": "https://localhost:8080/"
        },
        "id": "g_qahneLYsVx",
        "outputId": "d84bf738-02ff-41f8-c344-b13388d1eea3"
      },
      "execution_count": null,
      "outputs": [
        {
          "output_type": "stream",
          "name": "stdout",
          "text": [
            "Hola \"mundo\" .... (ya con esto no va a salir un error)\n"
          ]
        }
      ]
    },
    {
      "cell_type": "markdown",
      "source": [
        "<br>✌¡Excelente trabajo! Nos vemos 💯"
      ],
      "metadata": {
        "id": "li3MwZ50baFd"
      }
    }
  ]
}