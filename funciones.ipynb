{
  "nbformat": 4,
  "nbformat_minor": 0,
  "metadata": {
    "colab": {
      "provenance": [],
      "toc_visible": true,
      "authorship_tag": "ABX9TyP4fIfCfpk0WB3qcgZxEfyj",
      "include_colab_link": true
    },
    "kernelspec": {
      "name": "python3",
      "display_name": "Python 3"
    },
    "language_info": {
      "name": "python"
    }
  },
  "cells": [
    {
      "cell_type": "markdown",
      "metadata": {
        "id": "view-in-github",
        "colab_type": "text"
      },
      "source": [
        "<a href=\"https://colab.research.google.com/github/GRX782/cursoTaller1/blob/main/funciones.ipynb\" target=\"_parent\"><img src=\"https://colab.research.google.com/assets/colab-badge.svg\" alt=\"Open In Colab\"/></a>"
      ]
    },
    {
      "cell_type": "markdown",
      "source": [
        "**Curso Taller 1** - Dr-Ing. José Andrés Araya Obando"
      ],
      "metadata": {
        "id": "IJMMME99F7Dd"
      }
    },
    {
      "cell_type": "markdown",
      "source": [
        "# Flujo de ejecución e Indentación"
      ],
      "metadata": {
        "id": "ZDvGU2P4GZiM"
      }
    },
    {
      "cell_type": "markdown",
      "source": [
        "Anteriormente apredimos la importancia de la intentación. Vimos que en función de ello, Python podría perder el flujo de ejecución. Acá te muestro un ejemplo de esto:"
      ],
      "metadata": {
        "id": "yQ0l2etYWoKp"
      }
    },
    {
      "cell_type": "code",
      "source": [
        "a = 5\n",
        "print(\"El valor de a es\" , a)"
      ],
      "metadata": {
        "colab": {
          "base_uri": "https://localhost:8080/"
        },
        "id": "8-iYOIYfXHO-",
        "outputId": "e84a80b9-b266-4c3b-9949-9d6e04ce7c42"
      },
      "execution_count": null,
      "outputs": [
        {
          "output_type": "stream",
          "name": "stdout",
          "text": [
            "El valor de a es 5\n"
          ]
        }
      ]
    },
    {
      "cell_type": "code",
      "source": [
        "a = 5\n",
        "  print(\"El valor de a es\" a)"
      ],
      "metadata": {
        "colab": {
          "base_uri": "https://localhost:8080/",
          "height": 106
        },
        "id": "0eG-FihiXQ-1",
        "outputId": "4dd1b78d-88fb-4f2e-d3ce-91548cca0809"
      },
      "execution_count": null,
      "outputs": [
        {
          "output_type": "error",
          "ename": "IndentationError",
          "evalue": "unexpected indent (ipython-input-101699983.py, line 2)",
          "traceback": [
            "\u001b[0;36m  File \u001b[0;32m\"/tmp/ipython-input-101699983.py\"\u001b[0;36m, line \u001b[0;32m2\u001b[0m\n\u001b[0;31m    print(\"El valor de a es\" a)\u001b[0m\n\u001b[0m    ^\u001b[0m\n\u001b[0;31mIndentationError\u001b[0m\u001b[0;31m:\u001b[0m unexpected indent\n"
          ]
        }
      ]
    },
    {
      "cell_type": "markdown",
      "source": [
        "✅ El flujo de ejecución en Python es el orden en que el intérprete de Python lee y ejecuta las instrucciones de un programa. Pídele a la IA que te explique sus características."
      ],
      "metadata": {
        "id": "TtgRTq89bSS7"
      }
    },
    {
      "cell_type": "markdown",
      "source": [
        "👉 El programa principal es todo lo que escribimos “afuera” de las funciones, es decir, el flujo normal del código."
      ],
      "metadata": {
        "id": "TMquqqhFr_Wa"
      }
    },
    {
      "cell_type": "markdown",
      "source": [
        "# Creación y composición de funciones"
      ],
      "metadata": {
        "id": "-bwTJFrJGWv1"
      }
    },
    {
      "cell_type": "markdown",
      "source": [
        "También repasamos cómo invocar las funciones integradas que posee Python y aprendimos el concepto de \"composición de funciones\" que significa que en una misma expresión se invoquen varias funciones al mismo tiempo (como cuando programamos se calculara la hipotenusa de un triángulo)."
      ],
      "metadata": {
        "id": "Hf-1qBQeGpq3"
      }
    },
    {
      "cell_type": "markdown",
      "source": [
        "☝Además, podemos tomar el resultado de una función y pasarlo como argumento a otra función:"
      ],
      "metadata": {
        "id": "-z54CqvOS8ph"
      }
    },
    {
      "cell_type": "code",
      "source": [
        "# Creación de programa para convertir de grados a radianes\n",
        "# y calcular el seno de dicho ángulo\n",
        "\n",
        "# Preámbulo\n",
        "import math\n",
        "\n",
        "# solicito los grados al usuario\n",
        "grados = float(input(\"Ingrese el ángulo en grados: \"))\n",
        "# convertir a radianes\n",
        "radianes= math.radians(grados)\n",
        "# calcular el seno de ese ángulo\n",
        "seno = math.sin(radianes)\n",
        "# se imprime el resultado\n",
        "print(f'''El angulo en grados es {grados} y en radianes es {round(radianes,2)}\n",
        "Además,el seno del ángulo es {round(seno,2)}''')"
      ],
      "metadata": {
        "colab": {
          "base_uri": "https://localhost:8080/"
        },
        "id": "sI8LR2rBTU2R",
        "outputId": "99507b10-dc88-4969-be83-b5b6c517798b"
      },
      "execution_count": null,
      "outputs": [
        {
          "output_type": "stream",
          "name": "stdout",
          "text": [
            "Ingrese el ángulo en grados: 45\n",
            "El angulo en grados es 45.0 y en radianes es 0.79\n",
            "Además,el seno del ángulo es 0.71\n"
          ]
        }
      ]
    },
    {
      "cell_type": "markdown",
      "source": [
        "En el caso de las funciones definidas por el usuario, se debe respetar la siguiente sintáxis: <br>\n",
        "**def** nombre_funcion **(** lista parametros **):** <br>\n",
        "    ........ # instrucciones"
      ],
      "metadata": {
        "id": "6z3IRt8bZpNE"
      }
    },
    {
      "cell_type": "markdown",
      "source": [
        "*   **def** se conoce como la palabra clave <br>\n",
        "*   La primera línea del código se conoce como el **encabezado** <br>\n",
        "*   El encabezado debe terminar con el símbolo de dos puntos \":\" <br>\n",
        "*   El resto de información se conoce como el \"**cuerpo**\" y debe contener indentación. <br>\n",
        "*   Esto le permite a Python diferenciar las instrucciones de la función con el resto del \"programa general\""
      ],
      "metadata": {
        "id": "9SQDNPZAfLn2"
      }
    },
    {
      "cell_type": "code",
      "source": [
        "# 👇 Esto es parte del programa principal\n",
        "print(\"Inicio del programa\")\n",
        "\n",
        "# Defino una función (sus instrucciones van indentadas)\n",
        "def saludar():\n",
        "    # 👇 Estas instrucciones son de la función, no del programa principal\n",
        "    print(\"Hola desde dentro de la función\")\n",
        "    print(\"Todas estas líneas están indentadas\")\n",
        "\n",
        "# 👇 Volvemos al programa principal\n",
        "print(\"Antes de llamar la función\")\n",
        "\n",
        "# Llamo a la función\n",
        "saludar()\n",
        "\n",
        "# 👇 Seguimos en el programa principal\n",
        "print(\"Fin del programa\")"
      ],
      "metadata": {
        "colab": {
          "base_uri": "https://localhost:8080/"
        },
        "id": "fTbfH2YwfZ0U",
        "outputId": "67ec969c-f73a-40e7-8148-c6644d6b7148"
      },
      "execution_count": 1,
      "outputs": [
        {
          "output_type": "stream",
          "name": "stdout",
          "text": [
            "Inicio del programa\n",
            "Antes de llamar la función\n",
            "Hola desde dentro de la función\n",
            "Todas estas líneas están indentadas\n",
            "Fin del programa\n"
          ]
        }
      ]
    },
    {
      "cell_type": "markdown",
      "source": [
        "<p align=\"left\">\n",
        "  <img src=\"https://drive.google.com/uc?export=view&id=1K75ao7wTl83q4jQFEnZNEJTGU-Ztiy1k\" width=\"45%\">\n",
        "</p>\n",
        "\n"
      ],
      "metadata": {
        "id": "p4wlmAidgSmN"
      }
    },
    {
      "cell_type": "markdown",
      "source": [
        "⏳ Tómate una pausa de 15 minutos."
      ],
      "metadata": {
        "id": "LPH2Ece_VZpS"
      }
    },
    {
      "cell_type": "markdown",
      "source": [
        "# Parámetros y argumentos"
      ],
      "metadata": {
        "id": "rTjcIv-8GePM"
      }
    },
    {
      "cell_type": "markdown",
      "source": [
        "Los **parámetros** son las variables que se definen dentro de la función para indicar qué valores necesita recibir. De esta forma, actúan como \"espacios reservados\" para los datos que se van a usar (⚡ recuerda el ejemplo de cajas cuando te expliqué el concepto de variable). Ejemplo:   "
      ],
      "metadata": {
        "id": "Tojazb20X2At"
      }
    },
    {
      "cell_type": "code",
      "source": [
        "# se define la función\n",
        "def saludar(nombre):\n",
        "  print(f\"Hola {nombre}\")"
      ],
      "metadata": {
        "id": "rnHTRcCJcYzJ"
      },
      "execution_count": null,
      "outputs": []
    },
    {
      "cell_type": "markdown",
      "source": [
        "Por su parte, los **argumentos** son los valores concretos que le pasamos a la función cuando la llamamos (son los datos que reemplazan a los parámetros)"
      ],
      "metadata": {
        "id": "0ilyBOUhcpaJ"
      }
    },
    {
      "cell_type": "code",
      "source": [
        "# Se invoca la función creada (similar a las funciones integradas)\n",
        "saludar(\"Juan\")\n",
        "saludar (\"Maria\")\n",
        "saludar (\"Carlos\")\n",
        "saludar (\"Ana\")"
      ],
      "metadata": {
        "colab": {
          "base_uri": "https://localhost:8080/"
        },
        "id": "61UfTPh5c6FZ",
        "outputId": "68481b4c-d3fc-43ea-d607-5ef22db40513"
      },
      "execution_count": null,
      "outputs": [
        {
          "output_type": "stream",
          "name": "stdout",
          "text": [
            "Hola Juan\n",
            "Hola Maria\n",
            "Hola Carlos\n",
            "Hola Ana\n"
          ]
        }
      ]
    },
    {
      "cell_type": "markdown",
      "source": [
        "**Caso 1.** La función se define y no es necesario indicar parámetros"
      ],
      "metadata": {
        "id": "PxZZvlgPddpH"
      }
    },
    {
      "cell_type": "code",
      "source": [
        "# Se define la función\n",
        "# Para el nombre aplican las mismas reglas de las variables\n",
        "# ... no se puede inicar con un número, no pueden quedar espacios\n",
        "# sin caracteres especiales (por eso no se tilda)\n",
        "\n",
        "def print_cancion():\n",
        "  print(\"Donde nadie sabe de mí, y yo soy parte de todos\")\n",
        "  print(\"Me refugiaré, antes que todos despierten\")"
      ],
      "metadata": {
        "id": "lYMiqPc_duKw"
      },
      "execution_count": null,
      "outputs": []
    },
    {
      "cell_type": "code",
      "source": [
        "# se invoca la función\n",
        "# Muy importante colocar los dos párentesis\n",
        "print_cancion ()"
      ],
      "metadata": {
        "colab": {
          "base_uri": "https://localhost:8080/"
        },
        "id": "R7rZs_MieqiA",
        "outputId": "202560a2-d5e4-46b5-9598-588866d145dd"
      },
      "execution_count": null,
      "outputs": [
        {
          "output_type": "stream",
          "name": "stdout",
          "text": [
            "Donde nadie sabe de mí, y yo soy parte de todos\n",
            "Me refugiaré, antes que todos despierten\n"
          ]
        }
      ]
    },
    {
      "cell_type": "markdown",
      "source": [
        "❗Nótese que el programa corre adecuadamente sin la necesidad de definir páramertos y consecuentemente, valores."
      ],
      "metadata": {
        "id": "l0fMpzSZe8Dg"
      }
    },
    {
      "cell_type": "markdown",
      "source": [
        "⚡Recuerda, la sintaxis para llamar una nueva función es la misma de las que ya vienen integradas (con paréntesis después del nombre)"
      ],
      "metadata": {
        "id": "J6qwxJ4ugFU3"
      }
    },
    {
      "cell_type": "markdown",
      "source": [
        "**Caso 2.** Funciones integradas que poseen uno o más argumentos"
      ],
      "metadata": {
        "id": "sPtVoLIm6F61"
      }
    },
    {
      "cell_type": "code",
      "source": [
        "# Se invoca el módulo math\n",
        "import math\n",
        "print(math.sqrt(9)) # posee un argumento\n",
        "print(math.pow(2,3)) # posee dos argumentos, la base y el exponente"
      ],
      "metadata": {
        "colab": {
          "base_uri": "https://localhost:8080/"
        },
        "id": "emTlz5Xx6R-t",
        "outputId": "424dfe64-9b9c-4ac3-ba14-e2aff52503c0"
      },
      "execution_count": 3,
      "outputs": [
        {
          "output_type": "stream",
          "name": "stdout",
          "text": [
            "3.0\n",
            "8.0\n"
          ]
        }
      ]
    },
    {
      "cell_type": "markdown",
      "source": [
        "**Caso 3.** Tomamos una variable como un argumento"
      ],
      "metadata": {
        "id": "P3mHfac1642c"
      }
    },
    {
      "cell_type": "code",
      "source": [
        "# la función integrada \"print() posee un argumento que es una variable llamada \"universidad\"\n",
        "universidad = input(\"Ingrese su universidad: \")\n",
        "print(f\"Tu universidad es {universidad}\")"
      ],
      "metadata": {
        "colab": {
          "base_uri": "https://localhost:8080/"
        },
        "id": "Zz1TCRq57Bx7",
        "outputId": "3926cf8f-81b5-4780-db3f-86ed5fb348ce"
      },
      "execution_count": 5,
      "outputs": [
        {
          "output_type": "stream",
          "name": "stdout",
          "text": [
            "Ingrese su universidad: TEC\n",
            "Tu universidad es TEC\n"
          ]
        }
      ]
    },
    {
      "cell_type": "markdown",
      "source": [
        "**Caso 4.** Asignación de los argumentos mediante la definición de parámetros"
      ],
      "metadata": {
        "id": "1aWHP3uI7oRV"
      }
    },
    {
      "cell_type": "code",
      "source": [
        "# Vamos a definir una nueva función\n",
        "# Debe recibir un mensaje y lo debe desplegarse en la pantalla\n",
        "\n",
        "# en este caso es un solo argumento que lo asigna la variable \"mensaje\"\n",
        "def imprime_mensaje(mensaje):\n",
        "  print(mensaje)"
      ],
      "metadata": {
        "id": "MvEPyQFD75H9"
      },
      "execution_count": 10,
      "outputs": []
    },
    {
      "cell_type": "code",
      "source": [
        "# se invoca la función\n",
        "# trabaja con cualquier tipo de valor\n",
        "imprime_mensaje(\"Hola\")\n",
        "imprime_mensaje(5)\n",
        "imprime_mensaje(3.1416)\n",
        "imprime_mensaje(True)"
      ],
      "metadata": {
        "colab": {
          "base_uri": "https://localhost:8080/"
        },
        "id": "jRP_mOh38qc1",
        "outputId": "d4c0b7a4-3e56-45ba-bd01-b605ff15993a"
      },
      "execution_count": 11,
      "outputs": [
        {
          "output_type": "stream",
          "name": "stdout",
          "text": [
            "Hola\n",
            "5\n",
            "3.1416\n",
            "True\n"
          ]
        }
      ]
    },
    {
      "cell_type": "markdown",
      "source": [
        "**Caso 5.** Podemos definir una función que reciba varios tipos de argumentos"
      ],
      "metadata": {
        "id": "F8B8cxN69IHt"
      }
    },
    {
      "cell_type": "code",
      "source": [
        "# se define la función\n",
        "def busca (var1, var2):\n",
        "  print(f\"El primer argumento es {var1}\")\n",
        "  print(f\"El segundo argumento es {var2}\")"
      ],
      "metadata": {
        "id": "f9yreLBl9RBz"
      },
      "execution_count": 12,
      "outputs": []
    },
    {
      "cell_type": "code",
      "source": [
        "# se invoca la función\n",
        "busca(5, \"Hola\")"
      ],
      "metadata": {
        "colab": {
          "base_uri": "https://localhost:8080/"
        },
        "id": "V-axWwXd9djT",
        "outputId": "981a3d39-ca5d-4346-b46f-30c1b8f8029c"
      },
      "execution_count": 13,
      "outputs": [
        {
          "output_type": "stream",
          "name": "stdout",
          "text": [
            "El primer argumento es 5\n",
            "El segundo argumento es Hola\n"
          ]
        }
      ]
    },
    {
      "cell_type": "markdown",
      "source": [
        "✋ Nota que pasa si no coloco los argumentos. El depurador me avisa que esa función requiere dos argumentos"
      ],
      "metadata": {
        "id": "V-18Q1A99jJt"
      }
    },
    {
      "cell_type": "code",
      "source": [
        "busca()"
      ],
      "metadata": {
        "colab": {
          "base_uri": "https://localhost:8080/",
          "height": 141
        },
        "id": "USsWn3eU9tIr",
        "outputId": "d34f5e96-0284-44ce-a24b-b28c5a8f8822"
      },
      "execution_count": 14,
      "outputs": [
        {
          "output_type": "error",
          "ename": "TypeError",
          "evalue": "busca() missing 2 required positional arguments: 'var1' and 'var2'",
          "traceback": [
            "\u001b[0;31m---------------------------------------------------------------------------\u001b[0m",
            "\u001b[0;31mTypeError\u001b[0m                                 Traceback (most recent call last)",
            "\u001b[0;32m/tmp/ipython-input-2459412575.py\u001b[0m in \u001b[0;36m<cell line: 0>\u001b[0;34m()\u001b[0m\n\u001b[0;32m----> 1\u001b[0;31m \u001b[0mbusca\u001b[0m\u001b[0;34m(\u001b[0m\u001b[0;34m)\u001b[0m\u001b[0;34m\u001b[0m\u001b[0;34m\u001b[0m\u001b[0m\n\u001b[0m",
            "\u001b[0;31mTypeError\u001b[0m: busca() missing 2 required positional arguments: 'var1' and 'var2'"
          ]
        }
      ]
    },
    {
      "cell_type": "markdown",
      "source": [
        "Lo mismo ocurre si le coloco más argumentos de la cuenta. Noten que cuando digitan la función ahí mismo les avisa cuántos argumentos solicita. Como dice \"any\" ya nos esta avisando que puede ser cualquier tipo de dato"
      ],
      "metadata": {
        "id": "tgQ9BkcP-ARE"
      }
    },
    {
      "cell_type": "code",
      "source": [
        "busca(\"Hola\",2,True)"
      ],
      "metadata": {
        "colab": {
          "base_uri": "https://localhost:8080/",
          "height": 141
        },
        "id": "W0p1Mw3N9579",
        "outputId": "8f8c4ba3-f184-49ea-cbde-d023fc99b5ae"
      },
      "execution_count": 15,
      "outputs": [
        {
          "output_type": "error",
          "ename": "TypeError",
          "evalue": "busca() takes 2 positional arguments but 3 were given",
          "traceback": [
            "\u001b[0;31m---------------------------------------------------------------------------\u001b[0m",
            "\u001b[0;31mTypeError\u001b[0m                                 Traceback (most recent call last)",
            "\u001b[0;32m/tmp/ipython-input-2301180924.py\u001b[0m in \u001b[0;36m<cell line: 0>\u001b[0;34m()\u001b[0m\n\u001b[0;32m----> 1\u001b[0;31m \u001b[0mbusca\u001b[0m\u001b[0;34m(\u001b[0m\u001b[0;34m\"Hola\"\u001b[0m\u001b[0;34m,\u001b[0m\u001b[0;36m2\u001b[0m\u001b[0;34m,\u001b[0m\u001b[0;32mTrue\u001b[0m\u001b[0;34m)\u001b[0m\u001b[0;34m\u001b[0m\u001b[0;34m\u001b[0m\u001b[0m\n\u001b[0m",
            "\u001b[0;31mTypeError\u001b[0m: busca() takes 2 positional arguments but 3 were given"
          ]
        }
      ]
    },
    {
      "cell_type": "markdown",
      "source": [
        "**Caso 6.** Podemos asignar argumentos con valores predeterminados"
      ],
      "metadata": {
        "id": "5PiddLcf-eAl"
      }
    },
    {
      "cell_type": "code",
      "source": [
        "# se define la función\n",
        "def func1 (a,b=2,c=True):\n",
        "  print(f\"El valor de a es {a}\")\n",
        "  print(f\"El valor de b es {b}\")\n",
        "  print(f\"El valor de c es {c}\")\n"
      ],
      "metadata": {
        "id": "02rkIrbG-lOc"
      },
      "execution_count": 18,
      "outputs": []
    },
    {
      "cell_type": "code",
      "source": [
        "# Se invoca la función\n",
        "# no hace falta indicar los otros argumentos porque son valores predeterminados\n",
        "func1(\"casa\")"
      ],
      "metadata": {
        "colab": {
          "base_uri": "https://localhost:8080/"
        },
        "id": "KG_aUgGs_LMO",
        "outputId": "ce45e021-2245-496f-de05-941153ca5fa0"
      },
      "execution_count": 19,
      "outputs": [
        {
          "output_type": "stream",
          "name": "stdout",
          "text": [
            "El valor de a es casa\n",
            "El valor de b es 2\n",
            "El valor de c es True\n"
          ]
        }
      ]
    },
    {
      "cell_type": "markdown",
      "source": [
        "⚡ Pese a que posea valores predeterminados, igual los puedo cambiar"
      ],
      "metadata": {
        "id": "wyMcw3dE_fSG"
      }
    },
    {
      "cell_type": "code",
      "source": [
        "# se invoca la función\n",
        "# debo respetar el tipo de dato que está predeterminado\n",
        "func1(3.14,6,False)"
      ],
      "metadata": {
        "colab": {
          "base_uri": "https://localhost:8080/"
        },
        "id": "j04pgJObAMMa",
        "outputId": "3c85f3ad-9e5d-433f-b9c8-9b9916efc2d4"
      },
      "execution_count": 22,
      "outputs": [
        {
          "output_type": "stream",
          "name": "stdout",
          "text": [
            "El valor de a es 3.14\n",
            "El valor de b es 6\n",
            "El valor de c es False\n"
          ]
        }
      ]
    },
    {
      "cell_type": "markdown",
      "source": [
        "☣ **Advertencia:** Las variables creadas dentro de una función (parámetros) existen solamente dentro de esa función y no podrán ser utilizadas fuera de ella."
      ],
      "metadata": {
        "id": "bpJw3UXNHoyE"
      }
    },
    {
      "cell_type": "code",
      "source": [
        "# Crear una función que recibe dos números y los suma\n",
        "def suma(n1, n2):\n",
        "    # Convertimos a float para evitar problemas de tipo\n",
        "    n1 = float(n1)\n",
        "    n2 = float(n2)\n",
        "\n",
        "    suma = n1 + n2\n",
        "    print(f\"La suma es {suma}\")"
      ],
      "metadata": {
        "id": "wkDnR50zH8hQ"
      },
      "execution_count": 24,
      "outputs": []
    },
    {
      "cell_type": "code",
      "source": [
        "print(n1,n2)"
      ],
      "metadata": {
        "colab": {
          "base_uri": "https://localhost:8080/",
          "height": 141
        },
        "id": "Uh8vGhSGJp8I",
        "outputId": "4c7a82de-3e5a-4838-866a-b7a37329145f"
      },
      "execution_count": 27,
      "outputs": [
        {
          "output_type": "error",
          "ename": "NameError",
          "evalue": "name 'n1' is not defined",
          "traceback": [
            "\u001b[0;31m---------------------------------------------------------------------------\u001b[0m",
            "\u001b[0;31mNameError\u001b[0m                                 Traceback (most recent call last)",
            "\u001b[0;32m/tmp/ipython-input-2296529372.py\u001b[0m in \u001b[0;36m<cell line: 0>\u001b[0;34m()\u001b[0m\n\u001b[0;32m----> 1\u001b[0;31m \u001b[0mprint\u001b[0m\u001b[0;34m(\u001b[0m\u001b[0mn1\u001b[0m\u001b[0;34m,\u001b[0m\u001b[0mn2\u001b[0m\u001b[0;34m)\u001b[0m\u001b[0;34m\u001b[0m\u001b[0;34m\u001b[0m\u001b[0m\n\u001b[0m",
            "\u001b[0;31mNameError\u001b[0m: name 'n1' is not defined"
          ]
        }
      ]
    },
    {
      "cell_type": "markdown",
      "source": [
        "⏳ Recuerda que cuando usamos input(), Python siempre devuelve el dato como una cadena de caracteres (string), aunque lo que escribamos parezca un número. En la función que escribimos, usamos float() para convertir ese texto en un número decimal. De esta forma, aunque input() entregue una cadena, la función ya está preparada para hacer la conversión automáticamente."
      ],
      "metadata": {
        "id": "L46-NbadJEI-"
      }
    },
    {
      "cell_type": "code",
      "source": [
        "# entrada de datos por parte del usuario\n",
        "# input arroja el resultado como un\n",
        "a = input(\"Ingrese el primer número: \")\n",
        "b = input(\"Ingrese el segundo número: \")"
      ],
      "metadata": {
        "colab": {
          "base_uri": "https://localhost:8080/"
        },
        "id": "77LiR-6qIcps",
        "outputId": "c420988e-503f-4141-b0e7-7209bad50741"
      },
      "execution_count": 25,
      "outputs": [
        {
          "name": "stdout",
          "output_type": "stream",
          "text": [
            "Ingrese el primer número: 22\n",
            "Ingrese el segundo número: 5.5\n"
          ]
        }
      ]
    },
    {
      "cell_type": "code",
      "source": [
        "# se invoca la función\n",
        "suma(a,b)"
      ],
      "metadata": {
        "colab": {
          "base_uri": "https://localhost:8080/"
        },
        "id": "1w-mAESIJhSw",
        "outputId": "d9be905b-1564-48ca-a4bb-3f651ac497a9"
      },
      "execution_count": 26,
      "outputs": [
        {
          "output_type": "stream",
          "name": "stdout",
          "text": [
            "La suma es 27.5\n"
          ]
        }
      ]
    },
    {
      "cell_type": "markdown",
      "source": [
        "**Caso 7.** Definición de **variables globales** mediante la sentencia de declaración \"**global**\""
      ],
      "metadata": {
        "id": "SQN2ZEknKOuc"
      }
    },
    {
      "cell_type": "markdown",
      "source": [
        "✉ En general, lo recomendable es evitar variables globales si no es necesario, porque pueden hacer el programa más difícil de entender. Pero hay casos sencillos donde conviene, por ejemplo, cuando queremos que una función cambie un valor y ese cambio también se vea en el programa principal."
      ],
      "metadata": {
        "id": "h5JKstsvKbMK"
      }
    },
    {
      "cell_type": "code",
      "source": [
        "# Variable global\n",
        "contador = 0\n",
        "\n",
        "def saludar():\n",
        "    global contador   # Indicamos que vamos a usar la variable global\n",
        "    contador += 1     # Cada vez que se llame la función, aumenta el contador\n",
        "    print(\"¡Hola!\")\n",
        "\n",
        "# Programa principal\n",
        "saludar()\n",
        "saludar()\n",
        "\n",
        "print(f\"La función fue llamada {contador} veces.\")"
      ],
      "metadata": {
        "colab": {
          "base_uri": "https://localhost:8080/"
        },
        "id": "8H9Z6jQPKmFP",
        "outputId": "2d423a17-24df-4422-d83e-237ec43cd20b"
      },
      "execution_count": 31,
      "outputs": [
        {
          "output_type": "stream",
          "name": "stdout",
          "text": [
            "¡Hola!\n",
            "¡Hola!\n",
            "La función fue llamada 2 veces.\n"
          ]
        }
      ]
    },
    {
      "cell_type": "markdown",
      "source": [
        "⚡ El símbolo \"+=\" se llama operador de asignación compuesta. Es exactamente lo mismo que escribir:"
      ],
      "metadata": {
        "id": "p5Bzmb2uLQBM"
      }
    },
    {
      "cell_type": "code",
      "source": [
        "contador = contador + 1"
      ],
      "metadata": {
        "id": "ZInAkeeqLZHF"
      },
      "execution_count": 30,
      "outputs": []
    },
    {
      "cell_type": "code",
      "source": [
        "# Ejemplo didáctico\n",
        "# contador = 0\n",
        "print(contador)   # 0\n",
        "\n",
        "contador += 1\n",
        "print(contador)   # 1\n",
        "\n",
        "contador += 1\n",
        "print(contador)   # 2\n",
        "\n",
        "contador -= 1\n",
        "print(contador)   # 1"
      ],
      "metadata": {
        "colab": {
          "base_uri": "https://localhost:8080/"
        },
        "id": "ikqJHQtHLjoU",
        "outputId": "0cd5c534-2181-4cd5-d3d9-bb44b617db1c"
      },
      "execution_count": 32,
      "outputs": [
        {
          "output_type": "stream",
          "name": "stdout",
          "text": [
            "2\n",
            "3\n",
            "4\n",
            "3\n"
          ]
        }
      ]
    },
    {
      "cell_type": "markdown",
      "source": [
        "📌 Lo que hace \"**global**\" es indicarle a Python que una variable que aparece dentro de una función no debe tratarse como local, sino que corresponde a una variable ya existente en el ámbito global (el programa principal)."
      ],
      "metadata": {
        "id": "2iAnALfFRqvl"
      }
    },
    {
      "cell_type": "code",
      "source": [
        "x = 10   # variable global\n",
        "\n",
        "def cambiar():\n",
        "    global x   # usamos la variable global\n",
        "\n",
        "    # Pedimos un nuevo valor al usuario\n",
        "    # int() convierte el dato a número entero\n",
        "    x = int(input(\"Ingrese el nuevo valor para x: \"))\n",
        "\n",
        "# Programa principal\n",
        "print(f\"Valor inicial de x: {x}\")\n",
        "cambiar()\n",
        "print(f\"Valor final de x: {x}\")"
      ],
      "metadata": {
        "colab": {
          "base_uri": "https://localhost:8080/"
        },
        "id": "zkXMy7L7Srd5",
        "outputId": "5c92b15c-54ff-4e80-d3c8-8c7e848683e4"
      },
      "execution_count": 36,
      "outputs": [
        {
          "output_type": "stream",
          "name": "stdout",
          "text": [
            "Valor inicial de x: 10\n",
            "Ingrese el nuevo valor para x: 14\n",
            "Valor final de x: 14\n"
          ]
        }
      ]
    },
    {
      "cell_type": "markdown",
      "source": [
        "❌ La función int() convierte una cadena de texto en un número entero. Pero si el usuario escribe un número con decimales (por ejemplo, 35.5), Python mostrará un error porque ese valor no es un entero válido. En esos casos es mejor usar float(), que sí acepta números con decimales."
      ],
      "metadata": {
        "id": "DaesHNWzU_kZ"
      }
    },
    {
      "cell_type": "code",
      "source": [
        "x = 10   # variable global\n",
        "\n",
        "def cambiar():\n",
        "    global x   # usamos la variable global\n",
        "\n",
        "    # Pedimos un nuevo valor al usuario\n",
        "    # int() convierte el dato a número entero\n",
        "    x = int(input(\"Ingrese el nuevo valor para x: \"))\n",
        "\n",
        "# Programa principal\n",
        "print(f\"Valor inicial de x: {x}\")\n",
        "cambiar()\n",
        "print(f\"Valor final de x: {x}\")"
      ],
      "metadata": {
        "colab": {
          "base_uri": "https://localhost:8080/",
          "height": 349
        },
        "outputId": "387d81f5-bec3-47a8-8df9-e49fbff7c62e",
        "id": "lbggI6hbVJ9z"
      },
      "execution_count": 37,
      "outputs": [
        {
          "name": "stdout",
          "output_type": "stream",
          "text": [
            "Valor inicial de x: 10\n",
            "Ingrese el nuevo valor para x: 35.6\n"
          ]
        },
        {
          "output_type": "error",
          "ename": "ValueError",
          "evalue": "invalid literal for int() with base 10: '35.6'",
          "traceback": [
            "\u001b[0;31m---------------------------------------------------------------------------\u001b[0m",
            "\u001b[0;31mValueError\u001b[0m                                Traceback (most recent call last)",
            "\u001b[0;32m/tmp/ipython-input-3066304155.py\u001b[0m in \u001b[0;36m<cell line: 0>\u001b[0;34m()\u001b[0m\n\u001b[1;32m     10\u001b[0m \u001b[0;31m# Programa principal\u001b[0m\u001b[0;34m\u001b[0m\u001b[0;34m\u001b[0m\u001b[0m\n\u001b[1;32m     11\u001b[0m \u001b[0mprint\u001b[0m\u001b[0;34m(\u001b[0m\u001b[0;34mf\"Valor inicial de x: {x}\"\u001b[0m\u001b[0;34m)\u001b[0m\u001b[0;34m\u001b[0m\u001b[0;34m\u001b[0m\u001b[0m\n\u001b[0;32m---> 12\u001b[0;31m \u001b[0mcambiar\u001b[0m\u001b[0;34m(\u001b[0m\u001b[0;34m)\u001b[0m\u001b[0;34m\u001b[0m\u001b[0;34m\u001b[0m\u001b[0m\n\u001b[0m\u001b[1;32m     13\u001b[0m \u001b[0mprint\u001b[0m\u001b[0;34m(\u001b[0m\u001b[0;34mf\"Valor final de x: {x}\"\u001b[0m\u001b[0;34m)\u001b[0m\u001b[0;34m\u001b[0m\u001b[0;34m\u001b[0m\u001b[0m\n",
            "\u001b[0;32m/tmp/ipython-input-3066304155.py\u001b[0m in \u001b[0;36mcambiar\u001b[0;34m()\u001b[0m\n\u001b[1;32m      6\u001b[0m     \u001b[0;31m# Pedimos un nuevo valor al usuario\u001b[0m\u001b[0;34m\u001b[0m\u001b[0;34m\u001b[0m\u001b[0m\n\u001b[1;32m      7\u001b[0m     \u001b[0;31m# int() convierte el dato a número entero\u001b[0m\u001b[0;34m\u001b[0m\u001b[0;34m\u001b[0m\u001b[0m\n\u001b[0;32m----> 8\u001b[0;31m     \u001b[0mx\u001b[0m \u001b[0;34m=\u001b[0m \u001b[0mint\u001b[0m\u001b[0;34m(\u001b[0m\u001b[0minput\u001b[0m\u001b[0;34m(\u001b[0m\u001b[0;34m\"Ingrese el nuevo valor para x: \"\u001b[0m\u001b[0;34m)\u001b[0m\u001b[0;34m)\u001b[0m\u001b[0;34m\u001b[0m\u001b[0;34m\u001b[0m\u001b[0m\n\u001b[0m\u001b[1;32m      9\u001b[0m \u001b[0;34m\u001b[0m\u001b[0m\n\u001b[1;32m     10\u001b[0m \u001b[0;31m# Programa principal\u001b[0m\u001b[0;34m\u001b[0m\u001b[0;34m\u001b[0m\u001b[0m\n",
            "\u001b[0;31mValueError\u001b[0m: invalid literal for int() with base 10: '35.6'"
          ]
        }
      ]
    },
    {
      "cell_type": "markdown",
      "source": [
        "⚡ Excelente trabajo, te felicito por llevar al día la materia del curso."
      ],
      "metadata": {
        "id": "FsXwVxuzVNck"
      }
    }
  ]
}