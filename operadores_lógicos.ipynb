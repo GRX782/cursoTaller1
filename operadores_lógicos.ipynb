{
  "nbformat": 4,
  "nbformat_minor": 0,
  "metadata": {
    "colab": {
      "provenance": [],
      "authorship_tag": "ABX9TyOp5fEq8w6zO0+VGg3+gkXK",
      "include_colab_link": true
    },
    "kernelspec": {
      "name": "python3",
      "display_name": "Python 3"
    },
    "language_info": {
      "name": "python"
    }
  },
  "cells": [
    {
      "cell_type": "markdown",
      "metadata": {
        "id": "view-in-github",
        "colab_type": "text"
      },
      "source": [
        "<a href=\"https://colab.research.google.com/github/GRX782/cursoTaller1/blob/main/operadores_l%C3%B3gicos.ipynb\" target=\"_parent\"><img src=\"https://colab.research.google.com/assets/colab-badge.svg\" alt=\"Open In Colab\"/></a>"
      ]
    },
    {
      "cell_type": "markdown",
      "source": [
        "**Curso Taller 1** - Dr-Ing. José Andrés Araya Obando"
      ],
      "metadata": {
        "id": "YPhWes7I9EXw"
      }
    },
    {
      "cell_type": "markdown",
      "source": [
        "En Python los **operadores lógicos** te permiten combinar condiciones y resultan muy útiles en estructuras condicionales como if, while ...."
      ],
      "metadata": {
        "id": "q-USFh1yyl20"
      }
    },
    {
      "cell_type": "markdown",
      "source": [
        "⚡Imagina que le haces preguntas a Python que solo puede responder SI o NO"
      ],
      "metadata": {
        "id": "Ug6V52Kc0tFM"
      }
    },
    {
      "cell_type": "code",
      "execution_count": 2,
      "metadata": {
        "id": "5GHpz1L19Alf",
        "colab": {
          "base_uri": "https://localhost:8080/"
        },
        "outputId": "778bbf48-7abf-421b-97d1-71b3d895865e"
      },
      "outputs": [
        {
          "output_type": "stream",
          "name": "stdout",
          "text": [
            "True\n"
          ]
        }
      ],
      "source": [
        "print(5>3) # True (es verdad que 5 es mayor que 3)"
      ]
    },
    {
      "cell_type": "code",
      "source": [
        "print(10 == 20) # False (es falso que 10 es igual a 20)"
      ],
      "metadata": {
        "colab": {
          "base_uri": "https://localhost:8080/"
        },
        "id": "_6XvOgUm1GBm",
        "outputId": "1e6c9184-8070-40e5-9d2f-c29bef14dad8"
      },
      "execution_count": 3,
      "outputs": [
        {
          "output_type": "stream",
          "name": "stdout",
          "text": [
            "False\n"
          ]
        }
      ]
    },
    {
      "cell_type": "code",
      "source": [
        "print(\"hola\" == \"hola\") # True (es verdad que hola es igual a hola)"
      ],
      "metadata": {
        "colab": {
          "base_uri": "https://localhost:8080/"
        },
        "id": "GVW0VPya1P6x",
        "outputId": "bb534b0e-d774-4776-8b1c-9ec630dd7ad1"
      },
      "execution_count": 4,
      "outputs": [
        {
          "output_type": "stream",
          "name": "stdout",
          "text": [
            "True\n"
          ]
        }
      ]
    },
    {
      "cell_type": "markdown",
      "source": [
        "✌Entonces los operadores lógicos nos ayudan a combinar varias preguntas \"SI/NO\" para tomar decisiones"
      ],
      "metadata": {
        "id": "GRlmk-ON1aMx"
      }
    },
    {
      "cell_type": "markdown",
      "source": [
        "### **Operador \"and\"**"
      ],
      "metadata": {
        "id": "lqMCpwbU3IJi"
      }
    },
    {
      "cell_type": "markdown",
      "source": [
        "⏭ Practica cambiando los argumentos de las variables y nota qué pasa en la salida"
      ],
      "metadata": {
        "id": "YrzZmdks40Qa"
      }
    },
    {
      "cell_type": "code",
      "source": [
        "# Significa: ¿se cumplen todas las condiciones?\n",
        "# Imagina que quieres entrar a ver una películo para mayores de 18\n",
        "# Necesitas: tener cumplidos como mínimo 18 años y tener dinero\n",
        "# Si falta una de las cosas, NO puedes entrar\n",
        "\n",
        "edad = 16\n",
        "tiene_dinero = True\n",
        "\n",
        "puede_entrar = edad >= 18 and tiene_dinero\n",
        "print(puede_entrar)"
      ],
      "metadata": {
        "colab": {
          "base_uri": "https://localhost:8080/"
        },
        "id": "l35sjGO21olg",
        "outputId": "7717b0c0-0170-4b0a-d594-68e43438de0d"
      },
      "execution_count": 13,
      "outputs": [
        {
          "output_type": "stream",
          "name": "stdout",
          "text": [
            "False\n"
          ]
        }
      ]
    },
    {
      "cell_type": "code",
      "source": [
        "# El ejemplo anterior también se puede resolver con un \"if\"\n",
        "if edad >= 18 and tiene_dinero:\n",
        "    print(\"Puedes entrar\")\n",
        "else:\n",
        "    print(\"No puedes entrar\")"
      ],
      "metadata": {
        "colab": {
          "base_uri": "https://localhost:8080/"
        },
        "id": "IeIx4vvW2wdp",
        "outputId": "fb4b5c71-da55-4cda-d025-26a27d08980e"
      },
      "execution_count": 14,
      "outputs": [
        {
          "output_type": "stream",
          "name": "stdout",
          "text": [
            "No puedes entrar\n"
          ]
        }
      ]
    },
    {
      "cell_type": "markdown",
      "source": [
        "### **Operador \"or\"**"
      ],
      "metadata": {
        "id": "zJPF-tPy3X9y"
      }
    },
    {
      "cell_type": "code",
      "source": [
        "# Significa: ¿se cumple al menos una condición?\n",
        "# Piensa en un día libre.\n",
        "# Necesitas: que sea sabado, domingo o feriado"
      ],
      "metadata": {
        "id": "v7HmVR-K3kLz"
      },
      "execution_count": null,
      "outputs": []
    },
    {
      "cell_type": "code",
      "source": [
        "es_sabado = False\n",
        "es_domingo = False\n",
        "es_feriado = False\n",
        "\n",
        "esta_libre = es_sabado or es_domingo or es_feriado\n",
        "print(esta_libre)"
      ],
      "metadata": {
        "colab": {
          "base_uri": "https://localhost:8080/"
        },
        "id": "26i4Hv5y35G2",
        "outputId": "7635c20b-00bb-4160-bd41-a999161f6d0d"
      },
      "execution_count": 17,
      "outputs": [
        {
          "output_type": "stream",
          "name": "stdout",
          "text": [
            "False\n"
          ]
        }
      ]
    },
    {
      "cell_type": "code",
      "source": [
        "# ahora combinando \"or\" con un condicional\n",
        "if es_sabado or es_domingo or es_feriado:\n",
        "    print(\"Si tengo tiempo libre\")\n",
        "else:\n",
        "    print(\"Estoy comprometido, no puedo salir\")"
      ],
      "metadata": {
        "colab": {
          "base_uri": "https://localhost:8080/"
        },
        "id": "X4Ag5yan4Uy6",
        "outputId": "fe4f7600-559a-4831-f6c0-1d5b7756a4bb"
      },
      "execution_count": 18,
      "outputs": [
        {
          "output_type": "stream",
          "name": "stdout",
          "text": [
            "Estoy comprometido, no puedo salir\n"
          ]
        }
      ]
    },
    {
      "cell_type": "markdown",
      "source": [
        "### **Operador \"not\"**"
      ],
      "metadata": {
        "id": "4II7Qknd5Ml9"
      }
    },
    {
      "cell_type": "code",
      "source": [
        "# Significa: \"lo contrario\"\n",
        "# Invierte la respuesta\n",
        "# Si algo es verdadero lo hace falso\n",
        "# Si es falso lo hace verdadero\n",
        "\n",
        "# Partamos del hecho que no puedo salir si está lloviendo (no quiero mojarme)\n",
        "# Pregunto: ¿está lloviendo?\n",
        "esta_lloviendo = True\n",
        "# Pregunto: ¿puedo salir?\n",
        "# Para que se cumpla esa condición debo ocurrir todo lo contrario a esta_lloviendo\n",
        "puedo_salir = not esta_lloviendo\n",
        "print(puedo_salir)"
      ],
      "metadata": {
        "colab": {
          "base_uri": "https://localhost:8080/"
        },
        "id": "glgKjRVG5USC",
        "outputId": "d72a6494-069f-41f1-a1e8-5c6ed9edd417"
      },
      "execution_count": 23,
      "outputs": [
        {
          "output_type": "stream",
          "name": "stdout",
          "text": [
            "False\n"
          ]
        }
      ]
    },
    {
      "cell_type": "code",
      "source": [
        "# Imaginemos otro ejemplo.\n",
        "# Quiero salir a jugar pero la condición es que haya terminado primero la tarea\n",
        "tengo_tarea = True\n",
        "puedo_jugar = not tengo_tarea\n",
        "print(puedo_jugar) # False si tengo tarea"
      ],
      "metadata": {
        "colab": {
          "base_uri": "https://localhost:8080/"
        },
        "id": "FzT4OMw2600F",
        "outputId": "30d08e25-dfec-4b52-cf2d-54308fb0f1f9"
      },
      "execution_count": 24,
      "outputs": [
        {
          "output_type": "stream",
          "name": "stdout",
          "text": [
            "False\n"
          ]
        }
      ]
    },
    {
      "cell_type": "markdown",
      "source": [
        "### **Ahora un ejemplo con \"while\"**"
      ],
      "metadata": {
        "id": "ydHv6jh28wHk"
      }
    },
    {
      "cell_type": "code",
      "source": [
        "print(\"=== CONTROL DE CEMENTO ===\")\n",
        "\n",
        "cemento = 50  # sacos disponibles\n",
        "cemento_minimo = 10  # mínimo permitido\n",
        "\n",
        "# Continuar MIENTRAS haya más cemento que el mínimo\n",
        "while cemento > cemento_minimo:\n",
        "    print(f\"\\nCemento disponible: {cemento} sacos\")\n",
        "    print(f\"Mínimo permitido: {cemento_minimo} sacos\")\n",
        "\n",
        "    sacos_usar = int(input(\"¿Cuántos sacos vas a usar?: \"))\n",
        "\n",
        "    cemento = cemento - sacos_usar\n",
        "    print(f\"Te quedan: {cemento} sacos\")\n",
        "\n",
        "print(\"\\n⚠️ ALERTA: Cemento bajo el mínimo!\")\n",
        "print(f\"Solo quedan {cemento} sacos. ¡Pide más cemento!\")"
      ],
      "metadata": {
        "colab": {
          "base_uri": "https://localhost:8080/"
        },
        "id": "QetAeAEw9ALl",
        "outputId": "5f0ec825-f28a-4574-d981-f3d0df0f9755"
      },
      "execution_count": 25,
      "outputs": [
        {
          "output_type": "stream",
          "name": "stdout",
          "text": [
            "=== CONTROL DE CEMENTO ===\n",
            "\n",
            "Cemento disponible: 50 sacos\n",
            "Mínimo permitido: 10 sacos\n",
            "¿Cuántos sacos vas a usar?: 20\n",
            "Te quedan: 30 sacos\n",
            "\n",
            "Cemento disponible: 30 sacos\n",
            "Mínimo permitido: 10 sacos\n",
            "¿Cuántos sacos vas a usar?: 10\n",
            "Te quedan: 20 sacos\n",
            "\n",
            "Cemento disponible: 20 sacos\n",
            "Mínimo permitido: 10 sacos\n",
            "¿Cuántos sacos vas a usar?: 15\n",
            "Te quedan: 5 sacos\n",
            "\n",
            "⚠️ ALERTA: Cemento bajo el mínimo!\n",
            "Solo quedan 5 sacos. ¡Pide más cemento!\n"
          ]
        }
      ]
    },
    {
      "cell_type": "markdown",
      "source": [
        "**Versión con operadores lógicos**"
      ],
      "metadata": {
        "id": "XxNRZBIS-6bU"
      }
    },
    {
      "cell_type": "code",
      "source": [
        "print(\"=== CONTROL DE CEMENTO ===\")\n",
        "\n",
        "cemento = 50\n",
        "cemento_minimo = 10\n",
        "continuar = \"si\"\n",
        "\n",
        "# Condición 1: continuar MIENTRAS haya más cemento que el mínimo\n",
        "# Condición 2: si el usuario quiera seguir\n",
        "while cemento > cemento_minimo and continuar == \"si\":\n",
        "    print(f\"\\nCemento disponible: {cemento} sacos\")\n",
        "    print(f\"Mínimo permitido: {cemento_minimo} sacos\")\n",
        "\n",
        "    sacos_usar = int(input(\"¿Cuántos sacos vas a usar?: \"))\n",
        "\n",
        "    # Verificar que no use más de lo disponible\n",
        "    if sacos_usar > cemento:\n",
        "        print(f\"❌ Error: Solo tienes {cemento} sacos disponibles\")\n",
        "        continue\n",
        "\n",
        "    # Verificar que no baje del mínimo\n",
        "    # no coloco esto dentro de un elif porque ambas condiciones\n",
        "    # (que no se use mas del disponble o que baje del mínimo)\n",
        "    # podrían ser verdaderas.\n",
        "    # Si usamos elif la segunda condición solo se evaluaría cunado\n",
        "    # la primera sea falsa\n",
        "    if cemento - sacos_usar <= cemento_minimo:\n",
        "        cemento = cemento - sacos_usar\n",
        "        print(f\"Te quedan: {cemento} sacos\")\n",
        "        print(\"⚠️ ALERTA: Cemento en el mínimo o por debajo!\")\n",
        "        print(\"¡Pide más cemento!\")\n",
        "        break  # Sale del while\n",
        "\n",
        "    # Si todo está bien\n",
        "    cemento = cemento - sacos_usar\n",
        "    print(f\"✓ Te quedan: {cemento} sacos\")\n",
        "\n",
        "    continuar = input(\"¿Quieres seguir usando cemento? (si/no): \")\n",
        "\n",
        "# Mensaje final (siempre se muestra al salir del while)\n",
        "print(\"\\n=== FIN DEL PROGRAMA ===\")\n",
        "print(f\"Cemento final: {cemento} sacos\")"
      ],
      "metadata": {
        "colab": {
          "base_uri": "https://localhost:8080/"
        },
        "id": "xRQ1FkDp_cO8",
        "outputId": "ce221ed0-e583-4cb0-bc13-5b0761611f00"
      },
      "execution_count": 29,
      "outputs": [
        {
          "output_type": "stream",
          "name": "stdout",
          "text": [
            "=== CONTROL DE CEMENTO ===\n",
            "\n",
            "Cemento disponible: 50 sacos\n",
            "Mínimo permitido: 10 sacos\n",
            "¿Cuántos sacos vas a usar?: 10\n",
            "✓ Te quedan: 40 sacos\n",
            "¿Quieres seguir usando cemento? (si/no): si\n",
            "\n",
            "Cemento disponible: 40 sacos\n",
            "Mínimo permitido: 10 sacos\n",
            "¿Cuántos sacos vas a usar?: 35\n",
            "Te quedan: 5 sacos\n",
            "⚠️ ALERTA: Cemento en el mínimo o por debajo!\n",
            "¡Pide más cemento!\n",
            "\n",
            "=== FIN DEL PROGRAMA ===\n",
            "Cemento final: 5 sacos\n"
          ]
        }
      ]
    },
    {
      "cell_type": "markdown",
      "source": [
        "❗Practica ingresando distintos valores, analiza cada una de las salidas del programa y analiza el código para comprender por qué brinda esa respuesta"
      ],
      "metadata": {
        "id": "zZAgR3paB1vY"
      }
    },
    {
      "cell_type": "markdown",
      "source": [
        "**Pseudocódigo**"
      ],
      "metadata": {
        "id": "-7Ld_CqaCdGs"
      }
    },
    {
      "cell_type": "markdown",
      "source": [
        "PROGRAMA Control de cemento\n",
        "\n",
        "INICIO\n",
        "    // Inicialización de variables <br>\n",
        "    cemento ← 50 <br>\n",
        "    cemento_minimo ← 10 <br>\n",
        "    continuar ← \"si\" <br>\n",
        "    \n",
        "    IMPRIMIR \"=== CONTROL DE CEMENTO ===\"\n",
        "    \n",
        "    // Ciclo con dos condiciones usando AND\n",
        "    MIENTRAS (cemento > cemento_minimo) Y (continuar == \"si\") HACER\n",
        "        \n",
        "        IMPRIMIR \"Cemento disponible: \", cemento, \" sacos\"\n",
        "        IMPRIMIR \"Mínimo permitido: \", cemento_minimo, \" sacos\"\n",
        "        \n",
        "        IMPRIMIR \"¿Cuántos sacos vas a usar?: \"\n",
        "        LEER sacos_usar\n",
        "        \n",
        "        // Validación 1: verificar que no exceda el disponible\n",
        "        SI (sacos_usar > cemento) ENTONCES\n",
        "            IMPRIMIR \"❌ Error: Solo tienes \", cemento, \" sacos disponibles\"\n",
        "            CONTINUAR  // Vuelve al inicio del MIENTRAS sin ejecutar el resto\n",
        "        FIN SI\n",
        "        \n",
        "        // Validación 2: verificar que no baje del mínimo\n",
        "        SI (cemento - sacos_usar <= cemento_minimo) ENTONCES\n",
        "            cemento ← cemento - sacos_usar\n",
        "            IMPRIMIR \"Te quedan: \", cemento, \" sacos\"\n",
        "            IMPRIMIR \"⚠️ ALERTA: Cemento en el mínimo o por debajo!\"\n",
        "            IMPRIMIR \"¡Pide más cemento!\"\n",
        "            ROMPER  // Sale del MIENTRAS inmediatamente\n",
        "        FIN SI\n",
        "        \n",
        "        // Si pasa ambas validaciones, procesar normalmente\n",
        "        cemento ← cemento - sacos_usar\n",
        "        IMPRIMIR \"✓ Te quedan: \", cemento, \" sacos\"\n",
        "        \n",
        "        IMPRIMIR \"¿Quieres seguir usando cemento? (si/no): \"\n",
        "        LEER continuar\n",
        "        \n",
        "    FIN MIENTRAS\n",
        "    \n",
        "    // Mensaje final\n",
        "    IMPRIMIR \"=== FIN DEL PROGRAMA ===\"\n",
        "    IMPRIMIR \"Cemento final: \", cemento, \" sacos\"\n",
        "    \n",
        "FIN"
      ],
      "metadata": {
        "id": "9bqPiWZTEbm8"
      }
    }
  ]
}