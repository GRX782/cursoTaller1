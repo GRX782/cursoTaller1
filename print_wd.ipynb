{
  "nbformat": 4,
  "nbformat_minor": 0,
  "metadata": {
    "colab": {
      "provenance": [],
      "toc_visible": true,
      "authorship_tag": "ABX9TyPfTFNAi1JG1VaD3rGM8Y2G",
      "include_colab_link": true
    },
    "kernelspec": {
      "name": "python3",
      "display_name": "Python 3"
    },
    "language_info": {
      "name": "python"
    }
  },
  "cells": [
    {
      "cell_type": "markdown",
      "metadata": {
        "id": "view-in-github",
        "colab_type": "text"
      },
      "source": [
        "<a href=\"https://colab.research.google.com/github/GRX782/cursoTaller1/blob/main/print_wd.ipynb\" target=\"_parent\"><img src=\"https://colab.research.google.com/assets/colab-badge.svg\" alt=\"Open In Colab\"/></a>"
      ]
    },
    {
      "cell_type": "markdown",
      "source": [
        "# Datos administrativos"
      ],
      "metadata": {
        "id": "Vbpm6cTmw7fs"
      }
    },
    {
      "cell_type": "markdown",
      "source": [
        "Escuela de Ingeniería en Construcción - Curso Taller 1"
      ],
      "metadata": {
        "id": "iNCXtN9IwxcT"
      }
    },
    {
      "cell_type": "markdown",
      "source": [
        "♟ Dr-Ing. José Andrés Araya Obando"
      ],
      "metadata": {
        "id": "6sKi72PTw2Kb"
      }
    },
    {
      "cell_type": "markdown",
      "source": [
        "# Directorio de trabajo"
      ],
      "metadata": {
        "id": "BUBQDKvcxQM0"
      }
    },
    {
      "cell_type": "markdown",
      "source": [
        "☣ **Advertencia:** si no repasaste todo lo que vimos en la clase de introducción, te vas a encontrar con muchos conceptos que no sabrás realmente de qué te estoy hablando. Si no has repasado eso, no pierdas el tiempo acá y empieza por eso cuanto antes."
      ],
      "metadata": {
        "id": "IXO_e0mP4YuQ"
      }
    },
    {
      "cell_type": "markdown",
      "source": [
        "En esta clase te voy a explicar paso a paso cómo consultar el directorio de trabajo \"Wd\" (por sus siglas en inglés) en el que estás trabajando y a la vez familiarizarte desde ya con los entornos de programación. El WD es muy importante porque es donde se cargan los archivos (subsistema de entrada) y ahí mismo se descargan tus resultados (subsistema de salida). Te lo dije, si no repasaste probablemente no me entendiste lo que te acabo de explicar. Como dicen en Colombia, ¡pilas pues!"
      ],
      "metadata": {
        "id": "NbxUFlojxXJs"
      }
    },
    {
      "cell_type": "markdown",
      "source": [
        "⭐**Concepto:** un \"Entorno de Desarrollo Integrado (IDE)\" es un software que reune en un solo lugar todo lo que necesitas para escribir, probar y correr código desde tu computadora. Posee un editor para escribir tu código, un intérprete para traducir y ejecutar el código (recuerda que lo traduce a código binario, ¡si! es una locura eso), un depurador para encontrar y corregir errores (que algunas veces es tu amigo y en otras tu enemigo jaja)"
      ],
      "metadata": {
        "id": "Aieqvlib2URO"
      }
    },
    {
      "cell_type": "markdown",
      "source": [
        "✋**Aclaración:** Google colab y otros \"notebooks\" que están disponibles por ahí, no se consideran un IDE, sino que mas bien se considera como un entorno de programación en la nube. Si yo sé que estas pensando que se parecen mucho pero ten en cuenta lo siguiente: en efecto si se parecen porque puedes escribir, ejecutar y depurar código, tiene ademas ejecutor de código, ejecución inmediata, integración con librerías y visualización de resultados. La direrencia radica mas bien a que los notebooks están limitados para funciones y gestion de proyectos avanzados, aunado al hecho que se corre en la nube y depende también de conexión de red y el estado y comportamiento de los servidores. Pero te tengo buenas noticias, para el curso, los notebooks son abramuadoramente capaces y hasta exceden por mucho la capacidad que requerimos para ejecutar nuestras herramientas. Finalmente, a mi me encantan porque puedes interactuar todo el tiempo con la IA. Recuerda todas las ventajas que discutimos en clase de contar con esta herramienta tan valiosa, entendido claro está, desde un uso ético y responsable.  "
      ],
      "metadata": {
        "id": "-tBu6EEH6Omy"
      }
    },
    {
      "cell_type": "markdown",
      "source": [
        "¡Que aburrido! hablo mucho. Perdón, era necesario explicarte esas cosas. Pero bueno, a lo que vinimos. Te voy a explicar paso a paso cómo consultar en qué directorio de trabajo está trabajando tu IDE. Para esto requieres la sentencia \"*import*\" que importa la librería \"*os*\" y la funcion *getwd()* donde precisamente \"*get*\" se refiere a \"obtener\" el directorio de trabajo \"WD\" por sus siglas en inglés"
      ],
      "metadata": {
        "id": "ZHJWpCC52UxK"
      }
    },
    {
      "cell_type": "markdown",
      "source": [
        "✅ **Consejo:** Vamos no pierdas tiempo, consúltale a la IA qué es una \"Librería\" en Python, para qué sirven y como se utilizan"
      ],
      "metadata": {
        "id": "k05KHuZa08z-"
      }
    },
    {
      "cell_type": "code",
      "source": [
        "import os"
      ],
      "metadata": {
        "id": "04K5WyvxxhZs"
      },
      "execution_count": 2,
      "outputs": []
    },
    {
      "cell_type": "markdown",
      "source": [
        "Para consultar cuál es el directorio de trabajo vamos a utilizar también la sentencia \"print()\" que precisamente es la que primero se utiliza cuando estamos aprendiendo a programar, !es un clásico¡ >>> Presta especial atención al uso de los paréntesis, no puede quedar ninguno abierto"
      ],
      "metadata": {
        "id": "UZGblJFNyJ09"
      }
    },
    {
      "cell_type": "code",
      "source": [
        "print(\"Hola\")"
      ],
      "metadata": {
        "colab": {
          "base_uri": "https://localhost:8080/"
        },
        "id": "2sH_23pxarxy",
        "outputId": "e5398e90-c933-4af6-a962-69a9368a18cf"
      },
      "execution_count": 35,
      "outputs": [
        {
          "output_type": "stream",
          "name": "stdout",
          "text": [
            "Hola\n"
          ]
        }
      ]
    },
    {
      "cell_type": "markdown",
      "source": [
        "*print()* puede integrar texto y funciones a la vez, mira:"
      ],
      "metadata": {
        "id": "i3UZ3Obja1eK"
      }
    },
    {
      "cell_type": "code",
      "source": [
        "print(\"Directorio de trabajo actual: \",os.getcwd())"
      ],
      "metadata": {
        "colab": {
          "base_uri": "https://localhost:8080/"
        },
        "id": "yLac7lSVxmi0",
        "outputId": "e63aae50-5d2a-4fc7-afa8-0fe7e12d8d42"
      },
      "execution_count": 4,
      "outputs": [
        {
          "output_type": "stream",
          "name": "stdout",
          "text": [
            "Directorio de trabajo actual:  /content\n"
          ]
        }
      ]
    },
    {
      "cell_type": "markdown",
      "source": [
        "Ten presente que /content es el directorio de trabajo por defecto"
      ],
      "metadata": {
        "id": "7C4cEaiTy90t"
      }
    },
    {
      "cell_type": "markdown",
      "source": [
        "¿Notaste que chiva? Cuando invocamos *print() *podemos incluir un mensaje lo cual permite una mejor comprensión de qué es lo que es realmente el resultado que estamos viendo. Para ello debes colocar el texto entre comillas. Nota que despues que puse los dos puntos coloqué un espacio. Eso es intencionalmente para que cuando print() despliegue el resultado este no quede pegado al texto, ¡se vería horrible!. Recuerda también lo que conversamos en clase, los datos debe estar disponibles, actualizados y muy importante, dar contexto. En ese sentido, integrar texto en el print() soluciona todo eso."
      ],
      "metadata": {
        "id": "n57nxSPH9Fns"
      }
    },
    {
      "cell_type": "markdown",
      "source": [
        "☣ **Cuidado:** si bien estamos utilizando el lenguaje de programación Python, debes tener cuidado si utilizas otra IDE u otro notebook porque la sintaxis puede cambiar. Si perdón, no te desanimes, NO es como darle copy-paste y ya. Como dicen popularmente, \"se tenía que decir y SE DIJO\" jaja"
      ],
      "metadata": {
        "id": "h5uBbLH11ac1"
      }
    },
    {
      "cell_type": "markdown",
      "source": [
        "⏰ !DETENTE! Ya te expliqué muchas cosas, levántate de tu asiento y ve a hacer lo mas importante de cualquier sesión de trabajo que es \"tomar café\", vamos descansa un poco, no es necesario correr con esto ⌛"
      ],
      "metadata": {
        "id": "FKvxBEUr-TaL"
      }
    },
    {
      "cell_type": "markdown",
      "source": [
        "¡Listo volviste!. En ocasiones queremos consultar sencillamente el directorio de trabajo por lo que puedes utilizar este atajo que obtiene el mismo resultado pero cuidado por que no da contexto."
      ],
      "metadata": {
        "id": "uaTBIkDDCLP1"
      }
    },
    {
      "cell_type": "code",
      "source": [
        "!pwd"
      ],
      "metadata": {
        "colab": {
          "base_uri": "https://localhost:8080/"
        },
        "id": "Y2C4wUjwBJgl",
        "outputId": "f0400129-baeb-4040-9769-761dfd4a1d82"
      },
      "execution_count": 5,
      "outputs": [
        {
          "output_type": "stream",
          "name": "stdout",
          "text": [
            "/content\n"
          ]
        }
      ]
    },
    {
      "cell_type": "markdown",
      "source": [
        "Ahora quiero que corras intencionalmente esta línea de código: Dile a la IA que te explique el error. Nuevamente notarás que en programación no se pueden mezclar papas con chayotes."
      ],
      "metadata": {
        "id": "yNsqz8o1C5PV"
      }
    },
    {
      "cell_type": "code",
      "source": [
        "print(\"Directorio de trabajo actual: \",!pwd)"
      ],
      "metadata": {
        "id": "zK9-kCNADYeu"
      },
      "execution_count": null,
      "outputs": []
    },
    {
      "cell_type": "markdown",
      "source": [
        "El directorio /content es un directorio temporal que está en la nube de Google, pero no en tu Google Drive. Todo lo que guardes ahí se borra al cerrar la sesión o reiniciar el entorno."
      ],
      "metadata": {
        "id": "veYG2X0SDNLG"
      }
    },
    {
      "cell_type": "markdown",
      "source": [
        "Por ejemplo, puedes consultar que archivos están en ese directorio"
      ],
      "metadata": {
        "id": "rgohTZc2GTaI"
      }
    },
    {
      "cell_type": "code",
      "source": [
        "!ls /content"
      ],
      "metadata": {
        "colab": {
          "base_uri": "https://localhost:8080/"
        },
        "id": "RUg0m3G-EGVG",
        "outputId": "5b90cdd7-7eeb-402e-acd2-e466a27a9181"
      },
      "execution_count": 7,
      "outputs": [
        {
          "output_type": "stream",
          "name": "stdout",
          "text": [
            "sample_data\n"
          ]
        }
      ]
    },
    {
      "cell_type": "markdown",
      "source": [
        "Crear una carpeta de ejemplo dentro de /content\n"
      ],
      "metadata": {
        "id": "Crs1PwdTGlW4"
      }
    },
    {
      "cell_type": "code",
      "source": [
        "!mkdir /content/ejemplo"
      ],
      "metadata": {
        "id": "H6EWmQvMGp1P"
      },
      "execution_count": 8,
      "outputs": []
    },
    {
      "cell_type": "markdown",
      "source": [
        "Verificar que la carpeta se creó"
      ],
      "metadata": {
        "id": "41Zr65TvGuUb"
      }
    },
    {
      "cell_type": "code",
      "source": [
        "!ls /content"
      ],
      "metadata": {
        "colab": {
          "base_uri": "https://localhost:8080/"
        },
        "id": "vIhobcwMG14R",
        "outputId": "cd5d8897-88b8-4df0-b47e-35e0b896e4e7"
      },
      "execution_count": 9,
      "outputs": [
        {
          "output_type": "stream",
          "name": "stdout",
          "text": [
            "ejemplo  sample_data\n"
          ]
        }
      ]
    },
    {
      "cell_type": "markdown",
      "source": [
        "\"sample data\" es un conjunto de archivos de ejemplo que Google incluye por defecto en todos los entornos. Miremos que tiene:"
      ],
      "metadata": {
        "id": "wY6ISZUhHRbw"
      }
    },
    {
      "cell_type": "code",
      "source": [
        "!ls /content/sample_data"
      ],
      "metadata": {
        "colab": {
          "base_uri": "https://localhost:8080/"
        },
        "id": "98cNaf5XHkQI",
        "outputId": "bd401e8c-27e5-4253-f42a-c0f7045a5140"
      },
      "execution_count": 10,
      "outputs": [
        {
          "output_type": "stream",
          "name": "stdout",
          "text": [
            "anscombe.json\t\t      mnist_test.csv\n",
            "california_housing_test.csv   mnist_train_small.csv\n",
            "california_housing_train.csv  README.md\n"
          ]
        }
      ]
    },
    {
      "cell_type": "markdown",
      "source": [
        "¿Que ganas ver que tiene california_housing_test. csv cierto?. A continuación te explico cómo hacerlo:"
      ],
      "metadata": {
        "id": "LpwoDbRkHp14"
      }
    },
    {
      "cell_type": "markdown",
      "source": [
        "✅ **Consejo:** pregúntale a la IA qué es un archivo .cvs"
      ],
      "metadata": {
        "id": "sBR14uJmIGc5"
      }
    },
    {
      "cell_type": "code",
      "source": [
        "import pandas as pd\n",
        "\n",
        "# Ruta del archivo de ejemplo en Colab\n",
        "ruta = \"/content/sample_data/california_housing_test.csv\"\n",
        "\n",
        "# Leer el CSV\n",
        "df = pd.read_csv(ruta)\n",
        "\n",
        "# Mostrar las primeras filas\n",
        "df.head()"
      ],
      "metadata": {
        "colab": {
          "base_uri": "https://localhost:8080/",
          "height": 206
        },
        "id": "sgX8fCNdHs_o",
        "outputId": "57d377fd-a53b-4013-fba6-f503f98f3a2a"
      },
      "execution_count": 11,
      "outputs": [
        {
          "output_type": "execute_result",
          "data": {
            "text/plain": [
              "   longitude  latitude  housing_median_age  total_rooms  total_bedrooms  \\\n",
              "0    -122.05     37.37                27.0       3885.0           661.0   \n",
              "1    -118.30     34.26                43.0       1510.0           310.0   \n",
              "2    -117.81     33.78                27.0       3589.0           507.0   \n",
              "3    -118.36     33.82                28.0         67.0            15.0   \n",
              "4    -119.67     36.33                19.0       1241.0           244.0   \n",
              "\n",
              "   population  households  median_income  median_house_value  \n",
              "0      1537.0       606.0         6.6085            344700.0  \n",
              "1       809.0       277.0         3.5990            176500.0  \n",
              "2      1484.0       495.0         5.7934            270500.0  \n",
              "3        49.0        11.0         6.1359            330000.0  \n",
              "4       850.0       237.0         2.9375             81700.0  "
            ],
            "text/html": [
              "\n",
              "  <div id=\"df-b3d1c6b5-a937-4524-9fe3-1ae06590b8ef\" class=\"colab-df-container\">\n",
              "    <div>\n",
              "<style scoped>\n",
              "    .dataframe tbody tr th:only-of-type {\n",
              "        vertical-align: middle;\n",
              "    }\n",
              "\n",
              "    .dataframe tbody tr th {\n",
              "        vertical-align: top;\n",
              "    }\n",
              "\n",
              "    .dataframe thead th {\n",
              "        text-align: right;\n",
              "    }\n",
              "</style>\n",
              "<table border=\"1\" class=\"dataframe\">\n",
              "  <thead>\n",
              "    <tr style=\"text-align: right;\">\n",
              "      <th></th>\n",
              "      <th>longitude</th>\n",
              "      <th>latitude</th>\n",
              "      <th>housing_median_age</th>\n",
              "      <th>total_rooms</th>\n",
              "      <th>total_bedrooms</th>\n",
              "      <th>population</th>\n",
              "      <th>households</th>\n",
              "      <th>median_income</th>\n",
              "      <th>median_house_value</th>\n",
              "    </tr>\n",
              "  </thead>\n",
              "  <tbody>\n",
              "    <tr>\n",
              "      <th>0</th>\n",
              "      <td>-122.05</td>\n",
              "      <td>37.37</td>\n",
              "      <td>27.0</td>\n",
              "      <td>3885.0</td>\n",
              "      <td>661.0</td>\n",
              "      <td>1537.0</td>\n",
              "      <td>606.0</td>\n",
              "      <td>6.6085</td>\n",
              "      <td>344700.0</td>\n",
              "    </tr>\n",
              "    <tr>\n",
              "      <th>1</th>\n",
              "      <td>-118.30</td>\n",
              "      <td>34.26</td>\n",
              "      <td>43.0</td>\n",
              "      <td>1510.0</td>\n",
              "      <td>310.0</td>\n",
              "      <td>809.0</td>\n",
              "      <td>277.0</td>\n",
              "      <td>3.5990</td>\n",
              "      <td>176500.0</td>\n",
              "    </tr>\n",
              "    <tr>\n",
              "      <th>2</th>\n",
              "      <td>-117.81</td>\n",
              "      <td>33.78</td>\n",
              "      <td>27.0</td>\n",
              "      <td>3589.0</td>\n",
              "      <td>507.0</td>\n",
              "      <td>1484.0</td>\n",
              "      <td>495.0</td>\n",
              "      <td>5.7934</td>\n",
              "      <td>270500.0</td>\n",
              "    </tr>\n",
              "    <tr>\n",
              "      <th>3</th>\n",
              "      <td>-118.36</td>\n",
              "      <td>33.82</td>\n",
              "      <td>28.0</td>\n",
              "      <td>67.0</td>\n",
              "      <td>15.0</td>\n",
              "      <td>49.0</td>\n",
              "      <td>11.0</td>\n",
              "      <td>6.1359</td>\n",
              "      <td>330000.0</td>\n",
              "    </tr>\n",
              "    <tr>\n",
              "      <th>4</th>\n",
              "      <td>-119.67</td>\n",
              "      <td>36.33</td>\n",
              "      <td>19.0</td>\n",
              "      <td>1241.0</td>\n",
              "      <td>244.0</td>\n",
              "      <td>850.0</td>\n",
              "      <td>237.0</td>\n",
              "      <td>2.9375</td>\n",
              "      <td>81700.0</td>\n",
              "    </tr>\n",
              "  </tbody>\n",
              "</table>\n",
              "</div>\n",
              "    <div class=\"colab-df-buttons\">\n",
              "\n",
              "  <div class=\"colab-df-container\">\n",
              "    <button class=\"colab-df-convert\" onclick=\"convertToInteractive('df-b3d1c6b5-a937-4524-9fe3-1ae06590b8ef')\"\n",
              "            title=\"Convert this dataframe to an interactive table.\"\n",
              "            style=\"display:none;\">\n",
              "\n",
              "  <svg xmlns=\"http://www.w3.org/2000/svg\" height=\"24px\" viewBox=\"0 -960 960 960\">\n",
              "    <path d=\"M120-120v-720h720v720H120Zm60-500h600v-160H180v160Zm220 220h160v-160H400v160Zm0 220h160v-160H400v160ZM180-400h160v-160H180v160Zm440 0h160v-160H620v160ZM180-180h160v-160H180v160Zm440 0h160v-160H620v160Z\"/>\n",
              "  </svg>\n",
              "    </button>\n",
              "\n",
              "  <style>\n",
              "    .colab-df-container {\n",
              "      display:flex;\n",
              "      gap: 12px;\n",
              "    }\n",
              "\n",
              "    .colab-df-convert {\n",
              "      background-color: #E8F0FE;\n",
              "      border: none;\n",
              "      border-radius: 50%;\n",
              "      cursor: pointer;\n",
              "      display: none;\n",
              "      fill: #1967D2;\n",
              "      height: 32px;\n",
              "      padding: 0 0 0 0;\n",
              "      width: 32px;\n",
              "    }\n",
              "\n",
              "    .colab-df-convert:hover {\n",
              "      background-color: #E2EBFA;\n",
              "      box-shadow: 0px 1px 2px rgba(60, 64, 67, 0.3), 0px 1px 3px 1px rgba(60, 64, 67, 0.15);\n",
              "      fill: #174EA6;\n",
              "    }\n",
              "\n",
              "    .colab-df-buttons div {\n",
              "      margin-bottom: 4px;\n",
              "    }\n",
              "\n",
              "    [theme=dark] .colab-df-convert {\n",
              "      background-color: #3B4455;\n",
              "      fill: #D2E3FC;\n",
              "    }\n",
              "\n",
              "    [theme=dark] .colab-df-convert:hover {\n",
              "      background-color: #434B5C;\n",
              "      box-shadow: 0px 1px 3px 1px rgba(0, 0, 0, 0.15);\n",
              "      filter: drop-shadow(0px 1px 2px rgba(0, 0, 0, 0.3));\n",
              "      fill: #FFFFFF;\n",
              "    }\n",
              "  </style>\n",
              "\n",
              "    <script>\n",
              "      const buttonEl =\n",
              "        document.querySelector('#df-b3d1c6b5-a937-4524-9fe3-1ae06590b8ef button.colab-df-convert');\n",
              "      buttonEl.style.display =\n",
              "        google.colab.kernel.accessAllowed ? 'block' : 'none';\n",
              "\n",
              "      async function convertToInteractive(key) {\n",
              "        const element = document.querySelector('#df-b3d1c6b5-a937-4524-9fe3-1ae06590b8ef');\n",
              "        const dataTable =\n",
              "          await google.colab.kernel.invokeFunction('convertToInteractive',\n",
              "                                                    [key], {});\n",
              "        if (!dataTable) return;\n",
              "\n",
              "        const docLinkHtml = 'Like what you see? Visit the ' +\n",
              "          '<a target=\"_blank\" href=https://colab.research.google.com/notebooks/data_table.ipynb>data table notebook</a>'\n",
              "          + ' to learn more about interactive tables.';\n",
              "        element.innerHTML = '';\n",
              "        dataTable['output_type'] = 'display_data';\n",
              "        await google.colab.output.renderOutput(dataTable, element);\n",
              "        const docLink = document.createElement('div');\n",
              "        docLink.innerHTML = docLinkHtml;\n",
              "        element.appendChild(docLink);\n",
              "      }\n",
              "    </script>\n",
              "  </div>\n",
              "\n",
              "\n",
              "    <div id=\"df-5b88213c-d0bd-4de2-a64f-2c34c172756c\">\n",
              "      <button class=\"colab-df-quickchart\" onclick=\"quickchart('df-5b88213c-d0bd-4de2-a64f-2c34c172756c')\"\n",
              "                title=\"Suggest charts\"\n",
              "                style=\"display:none;\">\n",
              "\n",
              "<svg xmlns=\"http://www.w3.org/2000/svg\" height=\"24px\"viewBox=\"0 0 24 24\"\n",
              "     width=\"24px\">\n",
              "    <g>\n",
              "        <path d=\"M19 3H5c-1.1 0-2 .9-2 2v14c0 1.1.9 2 2 2h14c1.1 0 2-.9 2-2V5c0-1.1-.9-2-2-2zM9 17H7v-7h2v7zm4 0h-2V7h2v10zm4 0h-2v-4h2v4z\"/>\n",
              "    </g>\n",
              "</svg>\n",
              "      </button>\n",
              "\n",
              "<style>\n",
              "  .colab-df-quickchart {\n",
              "      --bg-color: #E8F0FE;\n",
              "      --fill-color: #1967D2;\n",
              "      --hover-bg-color: #E2EBFA;\n",
              "      --hover-fill-color: #174EA6;\n",
              "      --disabled-fill-color: #AAA;\n",
              "      --disabled-bg-color: #DDD;\n",
              "  }\n",
              "\n",
              "  [theme=dark] .colab-df-quickchart {\n",
              "      --bg-color: #3B4455;\n",
              "      --fill-color: #D2E3FC;\n",
              "      --hover-bg-color: #434B5C;\n",
              "      --hover-fill-color: #FFFFFF;\n",
              "      --disabled-bg-color: #3B4455;\n",
              "      --disabled-fill-color: #666;\n",
              "  }\n",
              "\n",
              "  .colab-df-quickchart {\n",
              "    background-color: var(--bg-color);\n",
              "    border: none;\n",
              "    border-radius: 50%;\n",
              "    cursor: pointer;\n",
              "    display: none;\n",
              "    fill: var(--fill-color);\n",
              "    height: 32px;\n",
              "    padding: 0;\n",
              "    width: 32px;\n",
              "  }\n",
              "\n",
              "  .colab-df-quickchart:hover {\n",
              "    background-color: var(--hover-bg-color);\n",
              "    box-shadow: 0 1px 2px rgba(60, 64, 67, 0.3), 0 1px 3px 1px rgba(60, 64, 67, 0.15);\n",
              "    fill: var(--button-hover-fill-color);\n",
              "  }\n",
              "\n",
              "  .colab-df-quickchart-complete:disabled,\n",
              "  .colab-df-quickchart-complete:disabled:hover {\n",
              "    background-color: var(--disabled-bg-color);\n",
              "    fill: var(--disabled-fill-color);\n",
              "    box-shadow: none;\n",
              "  }\n",
              "\n",
              "  .colab-df-spinner {\n",
              "    border: 2px solid var(--fill-color);\n",
              "    border-color: transparent;\n",
              "    border-bottom-color: var(--fill-color);\n",
              "    animation:\n",
              "      spin 1s steps(1) infinite;\n",
              "  }\n",
              "\n",
              "  @keyframes spin {\n",
              "    0% {\n",
              "      border-color: transparent;\n",
              "      border-bottom-color: var(--fill-color);\n",
              "      border-left-color: var(--fill-color);\n",
              "    }\n",
              "    20% {\n",
              "      border-color: transparent;\n",
              "      border-left-color: var(--fill-color);\n",
              "      border-top-color: var(--fill-color);\n",
              "    }\n",
              "    30% {\n",
              "      border-color: transparent;\n",
              "      border-left-color: var(--fill-color);\n",
              "      border-top-color: var(--fill-color);\n",
              "      border-right-color: var(--fill-color);\n",
              "    }\n",
              "    40% {\n",
              "      border-color: transparent;\n",
              "      border-right-color: var(--fill-color);\n",
              "      border-top-color: var(--fill-color);\n",
              "    }\n",
              "    60% {\n",
              "      border-color: transparent;\n",
              "      border-right-color: var(--fill-color);\n",
              "    }\n",
              "    80% {\n",
              "      border-color: transparent;\n",
              "      border-right-color: var(--fill-color);\n",
              "      border-bottom-color: var(--fill-color);\n",
              "    }\n",
              "    90% {\n",
              "      border-color: transparent;\n",
              "      border-bottom-color: var(--fill-color);\n",
              "    }\n",
              "  }\n",
              "</style>\n",
              "\n",
              "      <script>\n",
              "        async function quickchart(key) {\n",
              "          const quickchartButtonEl =\n",
              "            document.querySelector('#' + key + ' button');\n",
              "          quickchartButtonEl.disabled = true;  // To prevent multiple clicks.\n",
              "          quickchartButtonEl.classList.add('colab-df-spinner');\n",
              "          try {\n",
              "            const charts = await google.colab.kernel.invokeFunction(\n",
              "                'suggestCharts', [key], {});\n",
              "          } catch (error) {\n",
              "            console.error('Error during call to suggestCharts:', error);\n",
              "          }\n",
              "          quickchartButtonEl.classList.remove('colab-df-spinner');\n",
              "          quickchartButtonEl.classList.add('colab-df-quickchart-complete');\n",
              "        }\n",
              "        (() => {\n",
              "          let quickchartButtonEl =\n",
              "            document.querySelector('#df-5b88213c-d0bd-4de2-a64f-2c34c172756c button');\n",
              "          quickchartButtonEl.style.display =\n",
              "            google.colab.kernel.accessAllowed ? 'block' : 'none';\n",
              "        })();\n",
              "      </script>\n",
              "    </div>\n",
              "\n",
              "    </div>\n",
              "  </div>\n"
            ],
            "application/vnd.google.colaboratory.intrinsic+json": {
              "type": "dataframe",
              "variable_name": "df",
              "summary": "{\n  \"name\": \"df\",\n  \"rows\": 3000,\n  \"fields\": [\n    {\n      \"column\": \"longitude\",\n      \"properties\": {\n        \"dtype\": \"number\",\n        \"std\": 1.9949362939550161,\n        \"min\": -124.18,\n        \"max\": -114.49,\n        \"num_unique_values\": 607,\n        \"samples\": [\n          -121.15,\n          -121.46,\n          -121.02\n        ],\n        \"semantic_type\": \"\",\n        \"description\": \"\"\n      }\n    },\n    {\n      \"column\": \"latitude\",\n      \"properties\": {\n        \"dtype\": \"number\",\n        \"std\": 2.1296695233438325,\n        \"min\": 32.56,\n        \"max\": 41.92,\n        \"num_unique_values\": 587,\n        \"samples\": [\n          40.17,\n          33.69,\n          39.61\n        ],\n        \"semantic_type\": \"\",\n        \"description\": \"\"\n      }\n    },\n    {\n      \"column\": \"housing_median_age\",\n      \"properties\": {\n        \"dtype\": \"number\",\n        \"std\": 12.555395554955755,\n        \"min\": 1.0,\n        \"max\": 52.0,\n        \"num_unique_values\": 52,\n        \"samples\": [\n          14.0,\n          49.0,\n          7.0\n        ],\n        \"semantic_type\": \"\",\n        \"description\": \"\"\n      }\n    },\n    {\n      \"column\": \"total_rooms\",\n      \"properties\": {\n        \"dtype\": \"number\",\n        \"std\": 2155.59333162558,\n        \"min\": 6.0,\n        \"max\": 30450.0,\n        \"num_unique_values\": 2215,\n        \"samples\": [\n          1961.0,\n          1807.0,\n          680.0\n        ],\n        \"semantic_type\": \"\",\n        \"description\": \"\"\n      }\n    },\n    {\n      \"column\": \"total_bedrooms\",\n      \"properties\": {\n        \"dtype\": \"number\",\n        \"std\": 415.6543681363232,\n        \"min\": 2.0,\n        \"max\": 5419.0,\n        \"num_unique_values\": 1055,\n        \"samples\": [\n          532.0,\n          764.0,\n          2162.0\n        ],\n        \"semantic_type\": \"\",\n        \"description\": \"\"\n      }\n    },\n    {\n      \"column\": \"population\",\n      \"properties\": {\n        \"dtype\": \"number\",\n        \"std\": 1030.5430124122422,\n        \"min\": 5.0,\n        \"max\": 11935.0,\n        \"num_unique_values\": 1802,\n        \"samples\": [\n          947.0,\n          1140.0,\n          2019.0\n        ],\n        \"semantic_type\": \"\",\n        \"description\": \"\"\n      }\n    },\n    {\n      \"column\": \"households\",\n      \"properties\": {\n        \"dtype\": \"number\",\n        \"std\": 365.42270980552604,\n        \"min\": 2.0,\n        \"max\": 4930.0,\n        \"num_unique_values\": 1026,\n        \"samples\": [\n          646.0,\n          629.0,\n          504.0\n        ],\n        \"semantic_type\": \"\",\n        \"description\": \"\"\n      }\n    },\n    {\n      \"column\": \"median_income\",\n      \"properties\": {\n        \"dtype\": \"number\",\n        \"std\": 1.854511729691481,\n        \"min\": 0.4999,\n        \"max\": 15.0001,\n        \"num_unique_values\": 2578,\n        \"samples\": [\n          1.725,\n          0.7403,\n          2.6964\n        ],\n        \"semantic_type\": \"\",\n        \"description\": \"\"\n      }\n    },\n    {\n      \"column\": \"median_house_value\",\n      \"properties\": {\n        \"dtype\": \"number\",\n        \"std\": 113119.68746964433,\n        \"min\": 22500.0,\n        \"max\": 500001.0,\n        \"num_unique_values\": 1784,\n        \"samples\": [\n          71900.0,\n          63000.0,\n          115800.0\n        ],\n        \"semantic_type\": \"\",\n        \"description\": \"\"\n      }\n    }\n  ]\n}"
            }
          },
          "metadata": {},
          "execution_count": 11
        }
      ]
    },
    {
      "cell_type": "markdown",
      "source": [
        "Increible, acabamos de hacer varias cosas que mejor te explico con detenimiento. Nota que en un mismo reglón del notebook coloqué varias líneas de código. Probablemente este hecho te llame la atención dado que veníamos ingresando una única línea. Esto es práctivo cuando el código es pequeño como el que acabamos de consultar. No obstante, si el código es grande es mejor correrlo por \"bloques\" para ir verificando que todo corra bien paso a paso. Lo segundo es que quiero que notes que chiva se muestran los resultados, ya no es solo una linea con texto, estamos viendo una tabla de datos. Luego haremos otros ejercicios en donde vamos a ver figuras inclusive."
      ],
      "metadata": {
        "id": "5qtBTtJBIqBD"
      }
    },
    {
      "cell_type": "markdown",
      "source": [
        "Por la semana que estamos del curso es muy prematuro que comprendas la integridad del bloque de código que acamos de correr. No te preocupes, más adelante veremos cómo se construye con detenimiento. No obstante, quiero que en apoyo de la IA comprendas qué es lo que programé. Vamos, practica. Una vez concluyas eso, explícale a cualquier persona de casa en palabras sencillas utilizando tu propio lenguaje en qué consiste el algoritmo que acabamos de programar para consultar qué tiene ese archivo. Espero te diviertas con esta tarea."
      ],
      "metadata": {
        "id": "DskQt1uwJZZZ"
      }
    }
  ]
}