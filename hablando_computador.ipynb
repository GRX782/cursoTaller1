{
  "nbformat": 4,
  "nbformat_minor": 0,
  "metadata": {
    "colab": {
      "provenance": [],
      "toc_visible": true,
      "authorship_tag": "ABX9TyNXO74DeV6ZQs4bvpqtHgTq",
      "include_colab_link": true
    },
    "kernelspec": {
      "name": "python3",
      "display_name": "Python 3"
    },
    "language_info": {
      "name": "python"
    }
  },
  "cells": [
    {
      "cell_type": "markdown",
      "metadata": {
        "id": "view-in-github",
        "colab_type": "text"
      },
      "source": [
        "<a href=\"https://colab.research.google.com/github/GRX782/cursoTaller1/blob/main/hablando_computador.ipynb\" target=\"_parent\"><img src=\"https://colab.research.google.com/assets/colab-badge.svg\" alt=\"Open In Colab\"/></a>"
      ]
    },
    {
      "cell_type": "markdown",
      "source": [
        "Instituto Tecnológico de Costa Rica"
      ],
      "metadata": {
        "id": "f98XXQ4kpgMp"
      }
    },
    {
      "cell_type": "markdown",
      "source": [
        "Escuela de Ingeniería en Construcción, curso Taller I"
      ],
      "metadata": {
        "id": "IK3gpCRdpnAB"
      }
    },
    {
      "cell_type": "markdown",
      "source": [
        "Elaborado por: Dr.Ing. José Andrés Araya Obando"
      ],
      "metadata": {
        "id": "PL-3BWuLKRJD"
      }
    },
    {
      "cell_type": "markdown",
      "source": [
        "# Mis primeros pasos hablando con el computador"
      ],
      "metadata": {
        "id": "JUhPMEKqWofg"
      }
    },
    {
      "cell_type": "markdown",
      "source": [
        "☣ Antes de realizar esta práctica debes estudiar primero la sección de conceptos básicos en el site del curso. Destacadamente, necesito que comprendas las diferencias entre lo que es un lenguaje de programación versus los software (IDE) o notebooks que son precisamente los lugares o medios en donde interactuamos con el computador utilizando esos \"lenguajes\"."
      ],
      "metadata": {
        "id": "16YsTL5_Kr8k"
      }
    },
    {
      "cell_type": "markdown",
      "source": [
        "✅ **Objetivo de esta práctica**: vamos a reforzar la comprensión respecto a lo que es el concepto de lenguaje de programación"
      ],
      "metadata": {
        "id": "572YsLB8L5dl"
      }
    },
    {
      "cell_type": "markdown",
      "source": [
        "⏰ Reflexiona: llevas miles de horas acumuladas utilizando un computador y hoy, te acompañaré para que no solo lo utilices, sino que también ¡hables con el!."
      ],
      "metadata": {
        "id": "amDVPrmCMQ2_"
      }
    },
    {
      "cell_type": "markdown",
      "source": [
        "A continuación te explico como interactuar directamente con el sistema operativo de tu computador utilizando dos herramientas llamadas CMD y PowerShell que ya trae incorporadas Windows:"
      ],
      "metadata": {
        "id": "j7sl3ovANa7V"
      }
    },
    {
      "cell_type": "markdown",
      "source": [
        "✅ **Instrucciones:** ambas herramientas se abren de forma muy simple:\n",
        "\n",
        "*   Presiona las teclas **Windows + R**, escribe **cmd** para Elemento de lista abrir el símbolo del sistema o **powershell** para abrir PowerShell, y luego pulsa Enter.\n",
        "*   Otra forma es hacer clic en el menú Inicio y **escribir “cmd” o “powershell” en la barra de búsqueda**, y seleccionarlos en la lista de aplicaciones"
      ],
      "metadata": {
        "id": "eQ9oQnA4N92F"
      }
    },
    {
      "cell_type": "markdown",
      "source": [
        "# CMD (símbolo del sistema de Windows)"
      ],
      "metadata": {
        "id": "0kQ4a-8dM4KF"
      }
    },
    {
      "cell_type": "markdown",
      "source": [
        "Cuando hablamos con la computadora por CMD (símbolo del sistema de Windows) en realidad estamos usando un intérprete de comandos. Lo que escribimos por ahí NO es un “lenguaje de programación” como Python, sino un “lenguaje de comandos” muy sencillo llamado Batch, heredado de MS-DOS.  Su uso es muy básico y limitado. Aún así, se pueden crear archivos de extensión “.bat” o “.cmd” con secuencias de estos comandos para automatizar tareas basadas en órdenes existentes.  "
      ],
      "metadata": {
        "id": "lBWGUp5hNnk8"
      }
    },
    {
      "cell_type": "markdown",
      "source": [
        "Acá te muestro algunas tareas que puedes ejecutar directamente en el CMD para que practiques cómo hablar con tu computador:"
      ],
      "metadata": {
        "id": "iSVi04EwOXGF"
      }
    },
    {
      "cell_type": "markdown",
      "source": [
        "☹ No pierdas el tiempo dándole ejecutar a ese código por acá dado que no estamos utilizando el lenguaje de programación de Python como ya te expliqué. Sería como si intentaras hablarle en español a una persona de otro país que no comprenda tu idioma. ¡No te va a entender nada!"
      ],
      "metadata": {
        "id": "cfTR0X85O49G"
      }
    },
    {
      "cell_type": "markdown",
      "source": [
        "**Tarea 1:** Pregúntale en el CMD cuál procesador tiene instalado"
      ],
      "metadata": {
        "id": "pjmtk5bJPfGt"
      }
    },
    {
      "cell_type": "code",
      "source": [
        "wmic cpu get name"
      ],
      "metadata": {
        "id": "wBqJoJWePbue"
      },
      "execution_count": null,
      "outputs": []
    },
    {
      "cell_type": "markdown",
      "source": [
        "**Tarea 2:** Pregúntale acerca del modelo de la computadora"
      ],
      "metadata": {
        "id": "gcIUnmI_PpvG"
      }
    },
    {
      "cell_type": "code",
      "source": [
        "wmic computersystem get manufacturer, model"
      ],
      "metadata": {
        "id": "GR9DoQuuPwsW"
      },
      "execution_count": null,
      "outputs": []
    },
    {
      "cell_type": "markdown",
      "source": [
        "**Tarea 3**: Pídele que te muestre una descripción muy detallada de todo el sistema operativo"
      ],
      "metadata": {
        "id": "a8Z1VS4wP321"
      }
    },
    {
      "cell_type": "code",
      "source": [
        "systeminfo"
      ],
      "metadata": {
        "id": "vsFxJiEFQF0F"
      },
      "execution_count": null,
      "outputs": []
    },
    {
      "cell_type": "markdown",
      "source": [
        "**Tarea 4:** Como esa lista es tan larga, hagámos una consulta en específico, como por ejemplo,  ¿cuál es el sistema operativo?. Si analizas la sintaxtis, está solicitando que de toda la información del sistema, ubique exactamente el nombre del sistema operativo. Eso se coloca entre comillas \" \" y debe ser exacto a como aparece en la tarea 3. Eso quiere decir que debes tener cuidado porque este tipo de sentencias dependen del lenguaje en el que está instalado el sistema operativo. Si tu sistema está instalado en ingles deberás consultar el nombre específico en la tarea 3 para modificar esta instrucción."
      ],
      "metadata": {
        "id": "n8GqTVSfQJGn"
      }
    },
    {
      "cell_type": "code",
      "source": [
        "systeminfo | find \"Nombre del sistema operativo\""
      ],
      "metadata": {
        "id": "jhTJ1c27QZQ_"
      },
      "execution_count": null,
      "outputs": []
    },
    {
      "cell_type": "markdown",
      "source": [
        "**Tarea 5:** Consulta acerca de la capacidad de la memoria física instalada en la computadora. Ten en cuenta que te va a mostrar los resultados en bytes, por eso, el número es tan grande. Junto con lo que observaste en la Tarea 4, quiero que notes que el resultado que te arroja la computadora por si mismo debe ser cuidadosamente interpretado. Recuerda, la información no solo debe estar disponible (que acá a todas luces la podemos accesar muy fácil), sino que además requiere de contexto para poderla intepretar apropiadamente."
      ],
      "metadata": {
        "id": "U2c9xuWvRa5f"
      }
    },
    {
      "cell_type": "code",
      "source": [
        "wmic computersystem get TotalPhysicalMemory"
      ],
      "metadata": {
        "id": "S0m2dt_PSMk-"
      },
      "execution_count": null,
      "outputs": []
    },
    {
      "cell_type": "markdown",
      "source": [
        "**Tarea 6:** Pídele que te muestre todos los procesos que se están ejecutando en tu computador en este momento:"
      ],
      "metadata": {
        "id": "iYY-2Rt3SP-m"
      }
    },
    {
      "cell_type": "code",
      "source": [
        "tasklist"
      ],
      "metadata": {
        "id": "E5gl4IjMSdA-"
      },
      "execution_count": null,
      "outputs": []
    },
    {
      "cell_type": "markdown",
      "source": [
        "**Tarea 7:** Ahora filtremos esa información de manera que muestre únicamente los procesos que están consumiendo más recursos. En este caso, según la sintaxis que te propongo, le estamos pidiendo a tu computador que muestre únicamente los procesos que usan más de 50.000 KB (~50 MB) de RAM. Esto es muy útil, por ejemplo en el caso que requieras correr un código y la compu esté un poco quedada o este sonando horrible, permitiendote identificar que otros programas que estás utilizando podrías cerrar para darle prioridad en el usos de los recursos de tu computador mientras estás programando."
      ],
      "metadata": {
        "id": "YwPJ7ov6SfmP"
      }
    },
    {
      "cell_type": "code",
      "source": [
        "tasklist /FI \"MEMUSAGE gt 50000\""
      ],
      "metadata": {
        "id": "IS3xcfuYStL-"
      },
      "execution_count": null,
      "outputs": []
    },
    {
      "cell_type": "markdown",
      "source": [
        "# PowerShell de Windows"
      ],
      "metadata": {
        "id": "nt6nZ6yPTcsP"
      }
    },
    {
      "cell_type": "markdown",
      "source": [
        "Si usamos PowerShell de Windows (más moderno), estamos usando un lenguaje de programación llamado \"Scripting\" orientado principalmente para hablar con el sistema operativo y automatizarlo. Por ejemplo, se pueden gestionar archivos, procesos, usuarios, configuraciones, entre otros. Como está integrado a Windows, posee la ventaja que tiene acceso directo a funciones administrativas (servicios, discos, red) sin instalar nada más. Comúnmente se utiliza para escribir pequeños scripts para automatizar rutinas repetitivas."
      ],
      "metadata": {
        "id": "mZRgASGtTpBo"
      }
    },
    {
      "cell_type": "markdown",
      "source": [
        "✅ Vamos a repetir las tareas que hicimos con CMD. Quiero que notes que estamos buscando el mismo resultado pero la sintaxis de todas las instrucciones van a cambiar. ¿Por qué? Precisamente porque es **otro** lenguaje de programación."
      ],
      "metadata": {
        "id": "EaRvyzi5T1_I"
      }
    },
    {
      "cell_type": "markdown",
      "source": [
        "**Tarea 1:** Pregúntale cuál procesador tiene instalado"
      ],
      "metadata": {
        "id": "pA9dyCFGUmoF"
      }
    },
    {
      "cell_type": "code",
      "source": [
        "(Get-CimInstance Win32_Processor).Name"
      ],
      "metadata": {
        "id": "FoglJFIsUofH"
      },
      "execution_count": null,
      "outputs": []
    },
    {
      "cell_type": "markdown",
      "source": [
        "**Tarea 2:** Pregúntale acerca del modelo de la computadora"
      ],
      "metadata": {
        "id": "lahWiiXKUv9c"
      }
    },
    {
      "cell_type": "code",
      "source": [
        "Get-CimInstance -ClassName Win32_ComputerSystem | Select-Object Manufacturer, Model"
      ],
      "metadata": {
        "id": "-RL9b4d0U3tf"
      },
      "execution_count": null,
      "outputs": []
    },
    {
      "cell_type": "markdown",
      "source": [
        "**Tarea 3**: Pídele que te muestre una descripción muy detallada de todo el sistema operativo"
      ],
      "metadata": {
        "id": "l5Aph2mUU4Uk"
      }
    },
    {
      "cell_type": "code",
      "source": [
        "systeminfo"
      ],
      "metadata": {
        "id": "A7B2K0YtUxjA"
      },
      "execution_count": null,
      "outputs": []
    },
    {
      "cell_type": "markdown",
      "source": [
        "**Tarea 4:** Consúltale acerca del sistema operativo. A diferencia de lo que te expliqué en esta tarea cuando la ejecutamos utilizando CMD, a esta sentencia le es indiferente el idioma (por ejemplo, español o inglés) en el que está instalado tu sistema operativo"
      ],
      "metadata": {
        "id": "WXmGFAy2U8AQ"
      }
    },
    {
      "cell_type": "code",
      "source": [
        "(Get-CimInstance Win32_OperatingSystem).Caption"
      ],
      "metadata": {
        "id": "pqsQjmC_VEW_"
      },
      "execution_count": null,
      "outputs": []
    },
    {
      "cell_type": "markdown",
      "source": [
        "**Tarea 5:** Consulta acerca de la capacidad de la memoria física instalada en la computadora. Como este lenguaje es más robusto comparado con CMD, acá podemos integrar algunas operaciones. Nota en la sintaxis que le incluí un factor de conversión para que me muestre la memoria RAM instalada en GB"
      ],
      "metadata": {
        "id": "fKn0UnIXVHQ2"
      }
    },
    {
      "cell_type": "code",
      "source": [
        "(Get-CimInstance Win32_ComputerSystem).TotalPhysicalMemory / 1GB"
      ],
      "metadata": {
        "id": "08X8KnD3VZlw"
      },
      "execution_count": null,
      "outputs": []
    },
    {
      "cell_type": "markdown",
      "source": [
        "**Tarea 6:** Pídele que te muestre todos los procesos que se están ejecutando en tu computador en este momento:"
      ],
      "metadata": {
        "id": "vrhmmklUVho0"
      }
    },
    {
      "cell_type": "code",
      "source": [
        "Get-Process"
      ],
      "metadata": {
        "id": "94GvsV0ZVifw"
      },
      "execution_count": null,
      "outputs": []
    },
    {
      "cell_type": "markdown",
      "source": [
        "**Tarea 7:** Pídele que muestre únicamente los procesos que usan más de 50.000 KB (~50 MB) de RAM."
      ],
      "metadata": {
        "id": "tNc5uOLSVlX9"
      }
    },
    {
      "cell_type": "code",
      "source": [
        "Get-Process | Where-Object { $_.WorkingSet -gt 50MB }"
      ],
      "metadata": {
        "id": "ay1o464CVwdB"
      },
      "execution_count": null,
      "outputs": []
    },
    {
      "cell_type": "markdown",
      "source": [
        "**Tarea 8.** Como esta herramienta es más moderna, podemos hacer tareas mas completas como por ejemplo, consultar la lista de todos los programas que se tienen instalados en este momento en tu computador, le podemos indicar que incluya en la lista la versión del software, e inclusive que exporte la lista a un documento en formato \".txt\" en la ubicación del computador que desees (para ello, deberás sustituir la ruta específica de tu carpeta en la instrucción para que corra)."
      ],
      "metadata": {
        "id": "EEGR3A36ZeHW"
      }
    },
    {
      "cell_type": "markdown",
      "source": [
        "❗ Pregúntale a la IA como obtener esa ruta de tu carpeta en formato de texto, lista para incluir en esta instrucción❗"
      ],
      "metadata": {
        "id": "QIs8Z26cawAK"
      }
    },
    {
      "cell_type": "code",
      "source": [
        "Get-WmiObject -Class Win32_Product | Select-Object Name, Version | Out-File \"C:\\Users\\jobando\\Desktop\\programas.txt\""
      ],
      "metadata": {
        "id": "erKbl4ZCaS5z"
      },
      "execution_count": null,
      "outputs": []
    },
    {
      "cell_type": "markdown",
      "source": [
        "❎ ¡Detente un rato! Dencansa al menos unos 15 minutos antes de continuar con esta práctica."
      ],
      "metadata": {
        "id": "9IabsYp2jwkO"
      }
    },
    {
      "cell_type": "markdown",
      "source": [
        "# Utilicemos Python para hablar con nuestro computador"
      ],
      "metadata": {
        "id": "Da72GefgbIZj"
      }
    },
    {
      "cell_type": "markdown",
      "source": [
        "Los lenguajes de programación general como Python, permiten ejecutar tareas complejas que pueden ir mucho más allá del sistema operativo, tales como análisis de datos, la creación de hojas de cálculo y desarrollo de software con aplicaciones ingenieriles (incluyendo IA), páginas web, videojuegos, entre muchas otras cosas. Al no venir integrado al sistema operativo, requiere instalar módulos adicionales si lo que se busca es ejecutar tareas administrativas con el sistema operativo."
      ],
      "metadata": {
        "id": "qW4cMmUaiMXF"
      }
    },
    {
      "cell_type": "markdown",
      "source": [
        "❌ Si bien es posible ejecutar Python directamente desde la terminal de Windows (ya sea en CMD o en PowerShell), este método resulta limitado y poco práctico para el trabajo cotidiano, ya que no ofrece herramientas visuales de apoyo, ni autocompletado, ni depuración integrada. Por eso, en la práctica profesional y académica recomiendo utilizar un IDE (como Spyder, VSCode) o un notebook interactivo (como Google Colab), que facilitan enormemente la escritura, organización y ejecución del código, además de permitir integrar gráficos, explicaciones y hasta funciones avanzadas como la conexión con inteligencia artificial, entre otras cosas."
      ],
      "metadata": {
        "id": "vL38sxUtbSYU"
      }
    },
    {
      "cell_type": "markdown",
      "source": [
        "Aclaro entonces que esto que te voy a explicar es únicamente con relación al objetivo de esta práctica. Nuevamente, nota como la sintaxis va a cambiar. Esto es muy sencillo de comprender si haces la analogía de los lenguajes de programación con los idiomas con los que nos comunicamos. Alrededor del mundo, no todas las personas van a comprender tu español."
      ],
      "metadata": {
        "id": "aervAXTcnzgy"
      }
    },
    {
      "cell_type": "markdown",
      "source": [
        "☣ Para poder ejecutar estas tareas debes comprobar que tengas instalado Python en tu computador. El instalador está en el Site del curso y su instalación es muy sencilla. Además con las tareas que vimos anteriormente, ya sabes como consultar si tu sistema operativo lo tiene instalado, inclusive cuál versión. De forma muy práctica, puedes comprobar que esté instalado escribiendo en la terminal de Windows (CMD o PowerShell) la siguiente instrucción:"
      ],
      "metadata": {
        "id": "jvCLQ2uQcaPs"
      }
    },
    {
      "cell_type": "code",
      "source": [
        "python --version"
      ],
      "metadata": {
        "id": "ekZr7J91i5Kd"
      },
      "execution_count": null,
      "outputs": []
    },
    {
      "cell_type": "markdown",
      "source": [
        "⚡ Por ejemplo, si quieres consultar la versión de python que está utilizado este notebook en el que estamos trabajando debes colocar esta instrucción:"
      ],
      "metadata": {
        "id": "o7xV_8D8jE-l"
      }
    },
    {
      "cell_type": "code",
      "source": [
        "!python --version"
      ],
      "metadata": {
        "colab": {
          "base_uri": "https://localhost:8080/"
        },
        "id": "j4Lb1QnLjUXt",
        "outputId": "73f80f02-1496-477a-b798-09cd15c11ba0"
      },
      "execution_count": null,
      "outputs": [
        {
          "output_type": "stream",
          "name": "stdout",
          "text": [
            "Python 3.12.11\n"
          ]
        }
      ]
    },
    {
      "cell_type": "markdown",
      "source": [
        "⚡Nota que la sintaxis varió ligeramente dado que incluímos el símbolo \"!\". Esto quiere decir que aún se utilice el mismo lengujae de programación (en este caso Python) dependiendo del IDE o notebook en el que estén trabajando, la sintaxis puede cambiar.\n"
      ],
      "metadata": {
        "id": "wQV5nMD4jXTt"
      }
    },
    {
      "cell_type": "markdown",
      "source": [
        "✅ Al instalar Python en Windows, asegúrate de marcar la casilla “Add python.exe to PATH”. Esto permite que la computadora reconozca el comando python directamente desde la terminal (CMD o PowerShell). Si no lo haces, Python quedará instalado, pero tendrán que ejecutar el programa escribiendo la ruta completa de su carpeta, lo cual es mucho más incómodo."
      ],
      "metadata": {
        "id": "PvFZSaJpd2FE"
      }
    },
    {
      "cell_type": "markdown",
      "source": [
        "**Ejemplo 1: Utilizando el lenguaje Python a través del CMD**"
      ],
      "metadata": {
        "id": "uzZoNLiweMj8"
      }
    },
    {
      "cell_type": "markdown",
      "source": [
        "**Paso 1.** abre cmd (Windows+R y escribe cmd)"
      ],
      "metadata": {
        "id": "PSjsnMvXeZVz"
      }
    },
    {
      "cell_type": "markdown",
      "source": [
        "**Paso 2.** Escribe la palabra python"
      ],
      "metadata": {
        "id": "EEjtSoBihHhL"
      }
    },
    {
      "cell_type": "code",
      "source": [
        "python"
      ],
      "metadata": {
        "id": "DVkE3OrMe6JM"
      },
      "execution_count": null,
      "outputs": []
    },
    {
      "cell_type": "markdown",
      "source": [
        "⚡Notaras que se despliega en la pantalla un \"prompt\" interactivo de python mostrando algo similar a esto:\n",
        "\n",
        "Python 3.13.7 Type \"help\", \"copyright\", \"credits\" or \"license\" for more information. >>>"
      ],
      "metadata": {
        "id": "e_ECuq8je7vE"
      }
    },
    {
      "cell_type": "markdown",
      "source": [
        "**Paso 3.** Justo después de donde aparecen estos símbolos \">>>\" ya puedes escribir el código\n"
      ],
      "metadata": {
        "id": "ikMl13VbfdA8"
      }
    },
    {
      "cell_type": "code",
      "source": [
        "print(\"Hola desde Python en CMD\")"
      ],
      "metadata": {
        "id": "DdcrTz1TfnEG"
      },
      "execution_count": null,
      "outputs": []
    },
    {
      "cell_type": "code",
      "source": [
        "2+4"
      ],
      "metadata": {
        "id": "9UnVPIi4f-08"
      },
      "execution_count": null,
      "outputs": []
    },
    {
      "cell_type": "markdown",
      "source": [
        "**Paso 4.** Para salir coloca:"
      ],
      "metadata": {
        "id": "FrqbJUMLgBJs"
      }
    },
    {
      "cell_type": "code",
      "source": [
        "exit ()"
      ],
      "metadata": {
        "id": "2Z9jqSk0gITW"
      },
      "execution_count": null,
      "outputs": []
    },
    {
      "cell_type": "markdown",
      "source": [
        "Notarás que en el CMD dejará de aparecer el prompt, es decir, ya no verás los símbolos \">>>\". Prácticamente lo que acabamos de hacer fue abrir un prompt para poderle hablar al computador en otro lenguaje."
      ],
      "metadata": {
        "id": "pz48jSjxgLPs"
      }
    },
    {
      "cell_type": "markdown",
      "source": [
        "**Ejemplo 2: Utilizando el lenguaje Python desde PowerShell**"
      ],
      "metadata": {
        "id": "T4l3GHgBgsNi"
      }
    },
    {
      "cell_type": "markdown",
      "source": [
        "**Paso 1.** abre PowerShell (Windows+R y escribe powershell)"
      ],
      "metadata": {
        "id": "aMWLh7abg2cG"
      }
    },
    {
      "cell_type": "markdown",
      "source": [
        "**Paso 2.** Escribe la palabra python"
      ],
      "metadata": {
        "id": "AjrJvfOdenFz"
      }
    },
    {
      "cell_type": "markdown",
      "source": [
        "**Paso 3.** Justo después de donde aparecen estos símbolos \">>>\" ya puedes escribir el código\n"
      ],
      "metadata": {
        "id": "wCt5fMzqhxyw"
      }
    },
    {
      "cell_type": "code",
      "source": [
        "print(\"Hola desde Python en PowerShell\")"
      ],
      "metadata": {
        "id": "HlQaur5zh0qf"
      },
      "execution_count": null,
      "outputs": []
    },
    {
      "cell_type": "code",
      "source": [
        "2+4"
      ],
      "metadata": {
        "id": "ybdt7HK9h223"
      },
      "execution_count": null,
      "outputs": []
    },
    {
      "cell_type": "markdown",
      "source": [
        "**Paso 4.** Para salir coloca:"
      ],
      "metadata": {
        "id": "TZIUOOsLiCYS"
      }
    },
    {
      "cell_type": "code",
      "source": [
        "exit ()"
      ],
      "metadata": {
        "id": "ZPMdgPgfiFK9"
      },
      "execution_count": null,
      "outputs": []
    },
    {
      "cell_type": "markdown",
      "source": [
        "⭐¡Excelente trabajo! Te felicito por todo tu esfuerzo y dedicación en el curso."
      ],
      "metadata": {
        "id": "54ahzKfFpDsS"
      }
    }
  ]
}