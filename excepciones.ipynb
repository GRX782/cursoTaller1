{
  "nbformat": 4,
  "nbformat_minor": 0,
  "metadata": {
    "colab": {
      "provenance": [],
      "authorship_tag": "ABX9TyMBIwHNANJ0SOFkb3JJNFj8",
      "include_colab_link": true
    },
    "kernelspec": {
      "name": "python3",
      "display_name": "Python 3"
    },
    "language_info": {
      "name": "python"
    }
  },
  "cells": [
    {
      "cell_type": "markdown",
      "metadata": {
        "id": "view-in-github",
        "colab_type": "text"
      },
      "source": [
        "<a href=\"https://colab.research.google.com/github/GRX782/cursoTaller1/blob/main/excepciones.ipynb\" target=\"_parent\"><img src=\"https://colab.research.google.com/assets/colab-badge.svg\" alt=\"Open In Colab\"/></a>"
      ]
    },
    {
      "cell_type": "markdown",
      "source": [
        "**Curso Taller 1** - Dr-Ing. José Andrés Araya Obando\n"
      ],
      "metadata": {
        "id": "1OcBFCZbJg5Y"
      }
    },
    {
      "cell_type": "markdown",
      "source": [
        "📢 El manejo de excepciones te permite controlar los errores en tu código evitando que el programa se detenga abruptamente."
      ],
      "metadata": {
        "id": "Je94VlRFJnd0"
      }
    },
    {
      "cell_type": "code",
      "execution_count": 9,
      "metadata": {
        "colab": {
          "base_uri": "https://localhost:8080/",
          "height": 165
        },
        "id": "hbENPpMoJRu1",
        "outputId": "2189345d-aec3-44e4-d28b-c0154a1d3a7b"
      },
      "outputs": [
        {
          "output_type": "error",
          "ename": "ZeroDivisionError",
          "evalue": "division by zero",
          "traceback": [
            "\u001b[0;31m---------------------------------------------------------------------------\u001b[0m",
            "\u001b[0;31mZeroDivisionError\u001b[0m                         Traceback (most recent call last)",
            "\u001b[0;32m/tmp/ipython-input-2562149843.py\u001b[0m in \u001b[0;36m<cell line: 0>\u001b[0;34m()\u001b[0m\n\u001b[1;32m      1\u001b[0m \u001b[0;31m# División entre cero\u001b[0m\u001b[0;34m\u001b[0m\u001b[0;34m\u001b[0m\u001b[0m\n\u001b[0;32m----> 2\u001b[0;31m \u001b[0mnumero\u001b[0m \u001b[0;34m=\u001b[0m \u001b[0;36m10\u001b[0m \u001b[0;34m/\u001b[0m \u001b[0;36m0\u001b[0m  \u001b[0;31m# Esto genera un ZeroDivisionError\u001b[0m\u001b[0;34m\u001b[0m\u001b[0;34m\u001b[0m\u001b[0m\n\u001b[0m",
            "\u001b[0;31mZeroDivisionError\u001b[0m: division by zero"
          ]
        }
      ],
      "source": [
        "# División entre cero\n",
        "numero = 10 / 0  # Esto genera un ZeroDivisionError"
      ]
    },
    {
      "cell_type": "markdown",
      "source": [
        "**Estructura básica: try-except**"
      ],
      "metadata": {
        "id": "8IAYDqFEKff9"
      }
    },
    {
      "cell_type": "code",
      "source": [
        "try:\n",
        "    # Código que puede generar un error\n",
        "    numero = int(input(\"Ingresa un número: \"))\n",
        "    resultado = 10 / numero\n",
        "    print(f\"Resultado: {resultado}\")\n",
        "except:\n",
        "    # Código que se ejecuta si hay un error\n",
        "    print(\"Error división entre cero\")"
      ],
      "metadata": {
        "colab": {
          "base_uri": "https://localhost:8080/"
        },
        "id": "OS6jff76KiDG",
        "outputId": "b1e79fc4-a486-4f5a-a922-3276a0c9f69a"
      },
      "execution_count": 10,
      "outputs": [
        {
          "output_type": "stream",
          "name": "stdout",
          "text": [
            "Ingresa un número: 0\n",
            "Error división entre cero\n"
          ]
        }
      ]
    },
    {
      "cell_type": "code",
      "source": [
        "# Mira que pasa si mas bien el error se debe a que se digitó\n",
        "# un valor que no es válido\n",
        "numero2 = 10 / a"
      ],
      "metadata": {
        "colab": {
          "base_uri": "https://localhost:8080/",
          "height": 183
        },
        "id": "mfFin4oMLWte",
        "outputId": "6a839534-8cb8-4a3c-ce06-2c236d67d019"
      },
      "execution_count": 11,
      "outputs": [
        {
          "output_type": "error",
          "ename": "NameError",
          "evalue": "name 'a' is not defined",
          "traceback": [
            "\u001b[0;31m---------------------------------------------------------------------------\u001b[0m",
            "\u001b[0;31mNameError\u001b[0m                                 Traceback (most recent call last)",
            "\u001b[0;32m/tmp/ipython-input-2307294878.py\u001b[0m in \u001b[0;36m<cell line: 0>\u001b[0;34m()\u001b[0m\n\u001b[1;32m      1\u001b[0m \u001b[0;31m# Mira que pasa si mas bien el error se debe a que se digitó\u001b[0m\u001b[0;34m\u001b[0m\u001b[0;34m\u001b[0m\u001b[0m\n\u001b[1;32m      2\u001b[0m \u001b[0;31m# un valor que no es válido\u001b[0m\u001b[0;34m\u001b[0m\u001b[0;34m\u001b[0m\u001b[0m\n\u001b[0;32m----> 3\u001b[0;31m \u001b[0mnumero2\u001b[0m \u001b[0;34m=\u001b[0m \u001b[0;36m10\u001b[0m \u001b[0;34m/\u001b[0m \u001b[0ma\u001b[0m\u001b[0;34m\u001b[0m\u001b[0;34m\u001b[0m\u001b[0m\n\u001b[0m",
            "\u001b[0;31mNameError\u001b[0m: name 'a' is not defined"
          ]
        }
      ]
    },
    {
      "cell_type": "markdown",
      "source": [
        "**Capturando excepciones específicas**"
      ],
      "metadata": {
        "id": "Hsv_cvdMLF9D"
      }
    },
    {
      "cell_type": "code",
      "source": [
        "# Caso 1 :  división entre cero\n",
        "try:\n",
        "    numero = int(input(\"Ingresa un número: \"))\n",
        "    resultado = 10 / numero\n",
        "    print(f\"Resultado: {resultado}\")\n",
        "except ValueError:\n",
        "    print(\"Error: Debes ingresar un número válido\")\n",
        "except ZeroDivisionError:\n",
        "    print(\"Error: No puedes dividir entre cero\")"
      ],
      "metadata": {
        "colab": {
          "base_uri": "https://localhost:8080/"
        },
        "id": "h-8PUGQPLML9",
        "outputId": "9011772e-21a3-4948-a64b-37524243adcf"
      },
      "execution_count": 12,
      "outputs": [
        {
          "output_type": "stream",
          "name": "stdout",
          "text": [
            "Ingresa un número: 0\n",
            "Error: No puedes dividir entre cero\n"
          ]
        }
      ]
    },
    {
      "cell_type": "code",
      "source": [
        "# Caso 2 :  valor no válido\n",
        "try:\n",
        "    numero = int(input(\"Ingresa un número: \"))\n",
        "    resultado = 10 / numero\n",
        "    print(f\"Resultado: {resultado}\")\n",
        "except ValueError:\n",
        "    print(\"Error: Debes ingresar un número válido\")\n",
        "except ZeroDivisionError:\n",
        "    print(\"Error: No puedes dividir entre cero\")"
      ],
      "metadata": {
        "colab": {
          "base_uri": "https://localhost:8080/"
        },
        "id": "gvKLauBqL5Qk",
        "outputId": "558e52d6-f5f4-457f-bf34-33d2e13d13e1"
      },
      "execution_count": 13,
      "outputs": [
        {
          "output_type": "stream",
          "name": "stdout",
          "text": [
            "Ingresa un número: asd\n",
            "Error: Debes ingresar un número válido\n"
          ]
        }
      ]
    }
  ]
}