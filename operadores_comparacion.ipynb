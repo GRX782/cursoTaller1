{
  "nbformat": 4,
  "nbformat_minor": 0,
  "metadata": {
    "colab": {
      "provenance": [],
      "authorship_tag": "ABX9TyOQZdqTv2x5No6G56yO1SBt",
      "include_colab_link": true
    },
    "kernelspec": {
      "name": "python3",
      "display_name": "Python 3"
    },
    "language_info": {
      "name": "python"
    }
  },
  "cells": [
    {
      "cell_type": "markdown",
      "metadata": {
        "id": "view-in-github",
        "colab_type": "text"
      },
      "source": [
        "<a href=\"https://colab.research.google.com/github/GRX782/cursoTaller1/blob/main/operadores_comparacion.ipynb\" target=\"_parent\"><img src=\"https://colab.research.google.com/assets/colab-badge.svg\" alt=\"Open In Colab\"/></a>"
      ]
    },
    {
      "cell_type": "markdown",
      "source": [
        "**Curso Taller 1** - Dr-Ing. José Andrés Araya Obando"
      ],
      "metadata": {
        "id": "rductyieXu8o"
      }
    },
    {
      "cell_type": "markdown",
      "source": [
        "## **Teoría**"
      ],
      "metadata": {
        "id": "THGIYzzZeFJy"
      }
    },
    {
      "cell_type": "markdown",
      "source": [
        "Los **operadores de comparación** son herramientas básicas que permiten evaluar relaciones entre valores y devolver un resultado lógico (TRUE o FALSE); por eso también son conocidades como \" expresiones booleanas\""
      ],
      "metadata": {
        "id": "8zUOHA-SYCn2"
      }
    },
    {
      "cell_type": "markdown",
      "source": [
        "✅ Son fundamentales para construir expresiones condicionales y controlar el flujo de un programa."
      ],
      "metadata": {
        "id": "LudfTqYtZMgE"
      }
    },
    {
      "cell_type": "code",
      "execution_count": 1,
      "metadata": {
        "colab": {
          "base_uri": "https://localhost:8080/"
        },
        "id": "ZmJN37FxXmKw",
        "outputId": "9868a52b-60e7-4c6d-e320-a4defcad7912"
      },
      "outputs": [
        {
          "output_type": "stream",
          "name": "stdout",
          "text": [
            "False\n",
            "True\n"
          ]
        }
      ],
      "source": [
        "# Igualdad (var1 es igual que var2)\n",
        "print (4 == 6) # False\n",
        "print (6 == 6) # True"
      ]
    },
    {
      "cell_type": "code",
      "source": [
        "# Diferencia (var1 no es igual que var2)\n",
        "print (\"hola\" != \"mundo\") # True\n",
        "print (\"hola\" != \"hola\") # False\n",
        "print (\"5\" != 5) # False"
      ],
      "metadata": {
        "colab": {
          "base_uri": "https://localhost:8080/"
        },
        "id": "h6Q5gUDFZ-Kc",
        "outputId": "afa8ad36-af32-4ada-a789-b8714fefac2c"
      },
      "execution_count": 3,
      "outputs": [
        {
          "output_type": "stream",
          "name": "stdout",
          "text": [
            "True\n",
            "False\n",
            "True\n"
          ]
        }
      ]
    },
    {
      "cell_type": "code",
      "source": [
        "# Mayor (var1 es mayor que var2)\n",
        "print(4.5 > 8.9) # False\n",
        "print (10 > 5) # True"
      ],
      "metadata": {
        "colab": {
          "base_uri": "https://localhost:8080/"
        },
        "id": "hGv9wVluasVp",
        "outputId": "4e875ccb-7d24-4790-8643-5652c5a34f9a"
      },
      "execution_count": 5,
      "outputs": [
        {
          "output_type": "stream",
          "name": "stdout",
          "text": [
            "False\n",
            "True\n"
          ]
        }
      ]
    },
    {
      "cell_type": "code",
      "source": [
        "# Menor (var1 es menor que var2)\n",
        "print (4.5 < 8.9) # True\n",
        "print (10 < 5) # False"
      ],
      "metadata": {
        "colab": {
          "base_uri": "https://localhost:8080/"
        },
        "id": "N_JNqIcJbgIX",
        "outputId": "a12abd18-f313-4770-d0ce-dc49f43646b4"
      },
      "execution_count": 6,
      "outputs": [
        {
          "output_type": "stream",
          "name": "stdout",
          "text": [
            "True\n",
            "False\n"
          ]
        }
      ]
    },
    {
      "cell_type": "code",
      "source": [
        "# Mayor o igual (var1 es mayor o igual que var2)\n",
        "print (4.5 >= 8.9) # False\n",
        "print (10 >= 5) # True\n",
        "print(10 >= 10) # True"
      ],
      "metadata": {
        "colab": {
          "base_uri": "https://localhost:8080/"
        },
        "id": "mDq7hudxbqYP",
        "outputId": "c3e1148b-fd36-4c3f-a978-bdd030003d11"
      },
      "execution_count": 9,
      "outputs": [
        {
          "output_type": "stream",
          "name": "stdout",
          "text": [
            "False\n",
            "True\n",
            "True\n"
          ]
        }
      ]
    },
    {
      "cell_type": "code",
      "source": [
        "# Menor o igual (var1 es menor o igual que var2)\n",
        "print (4.5 <= 8.9) # True\n",
        "print (10 <= 5) # False\n",
        "print(10 <= 10) # True"
      ],
      "metadata": {
        "colab": {
          "base_uri": "https://localhost:8080/"
        },
        "id": "Pw77j4sMb9Wm",
        "outputId": "0d94f98e-9d43-4cb7-a990-5a7ffeec1ed8"
      },
      "execution_count": 10,
      "outputs": [
        {
          "output_type": "stream",
          "name": "stdout",
          "text": [
            "True\n",
            "False\n",
            "True\n"
          ]
        }
      ]
    },
    {
      "cell_type": "markdown",
      "source": [
        "☣ Recuerda no confundir el operador de asignación \"=\" con el operador de comparación \"==\" <br> a = 10 ➡ asigna valor de 10 a la variable \"a\" <br>\n",
        "a == b ➡ compara si las dos variables son iguales"
      ],
      "metadata": {
        "id": "9GlB3j_ScQZV"
      }
    },
    {
      "cell_type": "markdown",
      "source": [
        "# **Ejemplos prácticos**"
      ],
      "metadata": {
        "id": "xtt6TWnVd0Kz"
      }
    },
    {
      "cell_type": "code",
      "source": [
        "# edad mínima para votar\n",
        "edad = int(input(\"Ingresa tu edad: \"))\n",
        "print(\"¿Puede votar?\", edad >= 18)"
      ],
      "metadata": {
        "colab": {
          "base_uri": "https://localhost:8080/"
        },
        "id": "hL6q75EmeLVi",
        "outputId": "55c4d4ed-cb7f-4e00-a6af-57d69a9454f7"
      },
      "execution_count": 13,
      "outputs": [
        {
          "output_type": "stream",
          "name": "stdout",
          "text": [
            "Ingresa tu edad: 18\n",
            "¿Puede votar? True\n"
          ]
        }
      ]
    },
    {
      "cell_type": "code",
      "source": [
        "# contraseña verificada\n",
        "password = input(\"Ingrese la contraseña: \")\n",
        "print(\"¿Contraseña correcta?\", password == \"python\")"
      ],
      "metadata": {
        "colab": {
          "base_uri": "https://localhost:8080/"
        },
        "id": "v91yh0RMelyw",
        "outputId": "30008879-d430-46b6-b1ad-6b4d4a2f1ed9"
      },
      "execution_count": 16,
      "outputs": [
        {
          "output_type": "stream",
          "name": "stdout",
          "text": [
            "Ingrese la contraseña: python\n",
            "¿Contraseña correcta? True\n"
          ]
        }
      ]
    },
    {
      "cell_type": "code",
      "source": [
        "# numeros iguales o diferente\n",
        "x = int(input(\"Digite un número: \"))\n",
        "y = int(input(\"Digite otro número: \"))\n",
        "print(\"¿Son iguales?\", x == y)\n",
        "print(\"¿Son diferentes?\", x != y)"
      ],
      "metadata": {
        "colab": {
          "base_uri": "https://localhost:8080/"
        },
        "id": "xjV75HnVeypp",
        "outputId": "0aeadfc9-afb4-420f-9b8a-7b6935bbb0b0"
      },
      "execution_count": 18,
      "outputs": [
        {
          "output_type": "stream",
          "name": "stdout",
          "text": [
            "Digite un número: 2\n",
            "Digite otro número: 2\n",
            "¿Son iguales? True\n",
            "¿Son diferentes? False\n"
          ]
        }
      ]
    },
    {
      "cell_type": "code",
      "source": [
        "# Mayor de dos números\n",
        "a = float(input(\"Ingrese un número: \"))\n",
        "b = float(input(\"Ingrese otro número: \"))\n",
        "print(\"¿El primero es mayor?\", a > b)\n"
      ],
      "metadata": {
        "colab": {
          "base_uri": "https://localhost:8080/"
        },
        "id": "DRZ_fEZ6e_6H",
        "outputId": "7f2f7990-c6d3-4333-eb35-a4a429132b46"
      },
      "execution_count": 19,
      "outputs": [
        {
          "output_type": "stream",
          "name": "stdout",
          "text": [
            "Ingrese un número: 2\n",
            "Ingrese otro número: 4\n",
            "¿El primero es mayor? False\n"
          ]
        }
      ]
    },
    {
      "cell_type": "code",
      "source": [
        "# comparando cadenas\n",
        "color = input(\"Digite su color favorito: \").strip().lower()\n",
        "print(\"¿Es azul?\", color == \"azul\")"
      ],
      "metadata": {
        "colab": {
          "base_uri": "https://localhost:8080/"
        },
        "id": "EE7A_3b_fzq3",
        "outputId": "9c045b8b-d378-4241-d512-402cae33db78"
      },
      "execution_count": 20,
      "outputs": [
        {
          "output_type": "stream",
          "name": "stdout",
          "text": [
            "Digite su color favorito: negro\n",
            "¿Es azul? False\n"
          ]
        }
      ]
    }
  ]
}