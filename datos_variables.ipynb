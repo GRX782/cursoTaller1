{
  "nbformat": 4,
  "nbformat_minor": 0,
  "metadata": {
    "colab": {
      "provenance": [],
      "authorship_tag": "ABX9TyMkxq3+AHjWkKxG1v4a68Qu",
      "include_colab_link": true
    },
    "kernelspec": {
      "name": "python3",
      "display_name": "Python 3"
    },
    "language_info": {
      "name": "python"
    }
  },
  "cells": [
    {
      "cell_type": "markdown",
      "metadata": {
        "id": "view-in-github",
        "colab_type": "text"
      },
      "source": [
        "<a href=\"https://colab.research.google.com/github/GRX782/cursoTaller1/blob/main/datos_variables.ipynb\" target=\"_parent\"><img src=\"https://colab.research.google.com/assets/colab-badge.svg\" alt=\"Open In Colab\"/></a>"
      ]
    },
    {
      "cell_type": "markdown",
      "source": [
        "**Curso Taller 1** - Dr-Ing. José Andrés Araya Obando"
      ],
      "metadata": {
        "id": "awiiJhOel2_E"
      }
    },
    {
      "cell_type": "markdown",
      "source": [
        "✅ En esta ocasión te voy a ayudar a comprender **¿qué es un dato, una variable  en Python?**. En nuestra profesión, trabajarán con mucha información (como por ejemplo medidas y cantidades) por lo que saber cómo el computador maneja este tipo de datos ¡es crucial! También iré poco a poco explicándote **el concepto de \"variable\"**"
      ],
      "metadata": {
        "id": "4nyku6RhmFEl"
      }
    },
    {
      "cell_type": "markdown",
      "source": [
        "**Paso 1.** Lo primero que quiero que hagas es que imagines un \"*objeto*\", piensa en él como una \"*caja*\" que contiene información."
      ],
      "metadata": {
        "id": "0l1pCK9Aomsi"
      }
    },
    {
      "cell_type": "markdown",
      "source": [
        "**Paso 2.** Ahora piensa que dento de esa \"*caja*\" podemos guardar algo (puede ser un número, una palabra, un valor lógico ...)"
      ],
      "metadata": {
        "id": "c5FmJ9YhtEc9"
      }
    },
    {
      "cell_type": "code",
      "source": [
        "caja = 25     # La caja guarda un número entero\n",
        "print(caja)\n",
        "\n",
        "caja = \"Hola\" # Ahora la misma caja guarda un texto\n",
        "print(caja)\n"
      ],
      "metadata": {
        "colab": {
          "base_uri": "https://localhost:8080/"
        },
        "id": "UOIheBuLuQaV",
        "outputId": "62885b00-9ef6-465c-cb22-67ed2966819d"
      },
      "execution_count": 2,
      "outputs": [
        {
          "output_type": "stream",
          "name": "stdout",
          "text": [
            "25\n",
            "Hola\n"
          ]
        }
      ]
    },
    {
      "cell_type": "markdown",
      "source": [
        "**Paso 3.** En Python, esa \"*caja*\" se llama \"*variable*\""
      ],
      "metadata": {
        "id": "HgIVtRNotgRm"
      }
    },
    {
      "cell_type": "markdown",
      "source": [
        "**Paso 4.** ¿Cómo saber qué hay dentro de la caja? Acá entra en juego la sentencia *type()*"
      ],
      "metadata": {
        "id": "pxlITdJSt1N9"
      }
    },
    {
      "cell_type": "markdown",
      "source": [
        "⚡Nota como dentro del print, con el uso de la \"coma\" vamos colocando distintos elementos en un único dato de salida. De izquierda a derecha de tu pantalla aparecen: un texto fijo, una variable (la caja con información), otro texto fijo y una llamada a una función (en este caso type) que nos indica que tipo de dato hay dentro de la caja."
      ],
      "metadata": {
        "id": "5Rg6ImIezZtJ"
      }
    },
    {
      "cell_type": "code",
      "execution_count": 1,
      "metadata": {
        "colab": {
          "base_uri": "https://localhost:8080/"
        },
        "id": "km5u6798l09r",
        "outputId": "198af88c-996c-40fd-93f7-5eb3678193b8"
      },
      "outputs": [
        {
          "output_type": "stream",
          "name": "stdout",
          "text": [
            "Contenido: 25 - Tipo: <class 'int'>\n",
            "Contenido: Hola - Tipo: <class 'str'>\n",
            "Contenido: 3.14 - Tipo: <class 'float'>\n",
            "Contenido: True - Tipo: <class 'bool'>\n"
          ]
        }
      ],
      "source": [
        "caja = 25\n",
        "print(\"Contenido:\", caja, \"- Tipo:\", type(caja))\n",
        "\n",
        "caja = \"Hola\"\n",
        "print(\"Contenido:\", caja, \"- Tipo:\", type(caja))\n",
        "\n",
        "caja = 3.14\n",
        "print(\"Contenido:\", caja, \"- Tipo:\", type(caja))\n",
        "\n",
        "caja = True\n",
        "print(\"Contenido:\", caja, \"- Tipo:\", type(caja))\n"
      ]
    },
    {
      "cell_type": "markdown",
      "source": [
        "✅ Una función es como una \"máquina\", si le dás algo de entrada, la maquina hace su trabajo y te da una salida. Es decir, es una instrucción (que posee un nombre en específico) que le damos al computador para que haga una tarea específica y nos devuelva un resultado."
      ],
      "metadata": {
        "id": "D-q4SQ_o1jZH"
      }
    },
    {
      "cell_type": "markdown",
      "source": [
        "***\"int\"*** significa \"integer o entero\". Es decir, un número entero (con signo positivo o negativo) SIN decimales."
      ],
      "metadata": {
        "id": "d9pyz0ecujvM"
      }
    },
    {
      "cell_type": "code",
      "source": [
        "type(10)"
      ],
      "metadata": {
        "colab": {
          "base_uri": "https://localhost:8080/"
        },
        "id": "SeHWyIMivCXN",
        "outputId": "4f9a184b-6959-43c9-eea6-7e62609da083"
      },
      "execution_count": 5,
      "outputs": [
        {
          "output_type": "execute_result",
          "data": {
            "text/plain": [
              "int"
            ]
          },
          "metadata": {},
          "execution_count": 5
        }
      ]
    },
    {
      "cell_type": "code",
      "source": [
        "type(-5)"
      ],
      "metadata": {
        "colab": {
          "base_uri": "https://localhost:8080/"
        },
        "id": "nxDr_r9svUOT",
        "outputId": "457923ab-a58d-4c8f-cbad-155b96043574"
      },
      "execution_count": 6,
      "outputs": [
        {
          "output_type": "execute_result",
          "data": {
            "text/plain": [
              "int"
            ]
          },
          "metadata": {},
          "execution_count": 6
        }
      ]
    },
    {
      "cell_type": "code",
      "source": [
        "type(2025)"
      ],
      "metadata": {
        "colab": {
          "base_uri": "https://localhost:8080/"
        },
        "id": "g5EwUImvvTxE",
        "outputId": "afb0c565-1ef3-49ff-ceda-1b2196d1477c"
      },
      "execution_count": 7,
      "outputs": [
        {
          "output_type": "execute_result",
          "data": {
            "text/plain": [
              "int"
            ]
          },
          "metadata": {},
          "execution_count": 7
        }
      ]
    },
    {
      "cell_type": "markdown",
      "source": [
        "☹ Mira que pasa si por error coloco signos de puntuación como separadores de miles"
      ],
      "metadata": {
        "id": "WIAXjVNF5jfT"
      }
    },
    {
      "cell_type": "code",
      "source": [
        "print(1000000)"
      ],
      "metadata": {
        "colab": {
          "base_uri": "https://localhost:8080/",
          "height": 106
        },
        "id": "kd6q802b53VC",
        "outputId": "d512a115-b3e7-4c7a-d1bb-3366db3bd5c7"
      },
      "execution_count": 23,
      "outputs": [
        {
          "output_type": "error",
          "ename": "SyntaxError",
          "evalue": "invalid syntax. Perhaps you forgot a comma? (ipython-input-696744912.py, line 1)",
          "traceback": [
            "\u001b[0;36m  File \u001b[0;32m\"/tmp/ipython-input-696744912.py\"\u001b[0;36m, line \u001b[0;32m1\u001b[0m\n\u001b[0;31m    print(1.000.000)\u001b[0m\n\u001b[0m          ^\u001b[0m\n\u001b[0;31mSyntaxError\u001b[0m\u001b[0;31m:\u001b[0m invalid syntax. Perhaps you forgot a comma?\n"
          ]
        }
      ]
    },
    {
      "cell_type": "markdown",
      "source": [
        "☣ Muestra un error porque es como si le estuvieras indicando que una cifra tiene múltiples decimales, lo cual no tiene sentido."
      ],
      "metadata": {
        "id": "6DRx7vVB7Fzp"
      }
    },
    {
      "cell_type": "code",
      "source": [
        "print(1,000,000)"
      ],
      "metadata": {
        "colab": {
          "base_uri": "https://localhost:8080/"
        },
        "outputId": "c321aada-b724-49cd-f352-ba391d1fcdfe",
        "id": "RVwRFB1V6DXb"
      },
      "execution_count": 24,
      "outputs": [
        {
          "output_type": "stream",
          "name": "stdout",
          "text": [
            "1 0 0\n"
          ]
        }
      ]
    },
    {
      "cell_type": "markdown",
      "source": [
        "En este caso como estamos usando una coma, Python lo interpreta como tres números separados por comas. Si lo que querías representar era la cifra de un millón, chocaste contra pared. Recuerda, la coma dentro del print() separa elementos, no es un separador de miles."
      ],
      "metadata": {
        "id": "8LYfypaV59a6"
      }
    },
    {
      "cell_type": "markdown",
      "source": [
        "***\"str\"*** Significa \"string o cadena de caracteres\". Es decir, un texto, cualquier secuencia de caracteres entre comillas."
      ],
      "metadata": {
        "id": "ukVCxomTvbiD"
      }
    },
    {
      "cell_type": "code",
      "source": [
        "type(\"Hola\")"
      ],
      "metadata": {
        "colab": {
          "base_uri": "https://localhost:8080/"
        },
        "id": "HI1tWSTRv6Cj",
        "outputId": "f77f7e8e-744a-4330-fd3b-8da17dfb0167"
      },
      "execution_count": 8,
      "outputs": [
        {
          "output_type": "execute_result",
          "data": {
            "text/plain": [
              "str"
            ]
          },
          "metadata": {},
          "execution_count": 8
        }
      ]
    },
    {
      "cell_type": "markdown",
      "source": [
        "✌Acá te muestro como invoco la función len() que precisamente nos indica cuántas letras tienen la palabra *Hola*."
      ],
      "metadata": {
        "id": "Yq1YOIpC2jm1"
      }
    },
    {
      "cell_type": "code",
      "source": [
        "len(\"Hola\")"
      ],
      "metadata": {
        "colab": {
          "base_uri": "https://localhost:8080/"
        },
        "id": "4Bn5ViNe2dVP",
        "outputId": "f9ec37d9-a289-464b-c801-3c03716eb659"
      },
      "execution_count": 18,
      "outputs": [
        {
          "output_type": "execute_result",
          "data": {
            "text/plain": [
              "4"
            ]
          },
          "metadata": {},
          "execution_count": 18
        }
      ]
    },
    {
      "cell_type": "markdown",
      "source": [
        "▶ Las comillas señalan el inicio y el final del valor de tipo string. Nota que está considerando el espacio vacío entre las palabras."
      ],
      "metadata": {
        "id": "uwE5X6_57jSQ"
      }
    },
    {
      "cell_type": "code",
      "source": [
        "caja = \"Hola Mundo\"\n",
        "print(caja)\n",
        "len(caja)"
      ],
      "metadata": {
        "colab": {
          "base_uri": "https://localhost:8080/"
        },
        "id": "SiDs84Ul7siw",
        "outputId": "1a103bab-2ff6-4d30-c221-0de4b4f383e3"
      },
      "execution_count": 26,
      "outputs": [
        {
          "output_type": "stream",
          "name": "stdout",
          "text": [
            "Hola Mundo\n"
          ]
        },
        {
          "output_type": "execute_result",
          "data": {
            "text/plain": [
              "10"
            ]
          },
          "metadata": {},
          "execution_count": 26
        }
      ]
    },
    {
      "cell_type": "code",
      "source": [
        "type(\"123\")"
      ],
      "metadata": {
        "colab": {
          "base_uri": "https://localhost:8080/"
        },
        "id": "mqoc634Uv_pj",
        "outputId": "d948171d-71d6-4358-902b-fc2c6736f049"
      },
      "execution_count": 9,
      "outputs": [
        {
          "output_type": "execute_result",
          "data": {
            "text/plain": [
              "str"
            ]
          },
          "metadata": {},
          "execution_count": 9
        }
      ]
    },
    {
      "cell_type": "markdown",
      "source": [
        "☣ Nota que si bien, indicamos \"123\" que pareciera ser una cantidad numérica de tipo \"integer\", por el simple hecho que lo colocamos entre comillas, el computador lo va a entender como texto."
      ],
      "metadata": {
        "id": "dtcUXq_2wDsD"
      }
    },
    {
      "cell_type": "markdown",
      "source": [
        "***float*** significa \"flotante o decimal\". Es decir, significa cualquier número que contenga una parte decimal. En nuestra carrera, lo utilizamos comunmente cuando necesitamos mayor precisión en los valores o las medidas."
      ],
      "metadata": {
        "id": "MGgtStGVwgsb"
      }
    },
    {
      "cell_type": "code",
      "source": [
        "type(3.14)"
      ],
      "metadata": {
        "colab": {
          "base_uri": "https://localhost:8080/"
        },
        "id": "6pY7HoD0xFmr",
        "outputId": "ceb3b275-f5d1-49c1-ed41-b21bdd74fd01"
      },
      "execution_count": 10,
      "outputs": [
        {
          "output_type": "execute_result",
          "data": {
            "text/plain": [
              "float"
            ]
          },
          "metadata": {},
          "execution_count": 10
        }
      ]
    },
    {
      "cell_type": "code",
      "source": [
        "type(-0.5)"
      ],
      "metadata": {
        "colab": {
          "base_uri": "https://localhost:8080/"
        },
        "id": "y2xmlluFxJCT",
        "outputId": "9e435a7b-b546-4f30-8714-44f87a379424"
      },
      "execution_count": 11,
      "outputs": [
        {
          "output_type": "execute_result",
          "data": {
            "text/plain": [
              "float"
            ]
          },
          "metadata": {},
          "execution_count": 11
        }
      ]
    },
    {
      "cell_type": "code",
      "source": [
        "1500/38"
      ],
      "metadata": {
        "colab": {
          "base_uri": "https://localhost:8080/"
        },
        "id": "G1y3wmnuxMbD",
        "outputId": "6e9d20f7-927e-4941-a6c3-82048625b3ad"
      },
      "execution_count": 13,
      "outputs": [
        {
          "output_type": "execute_result",
          "data": {
            "text/plain": [
              "39.473684210526315"
            ]
          },
          "metadata": {},
          "execution_count": 13
        }
      ]
    },
    {
      "cell_type": "code",
      "source": [
        "type(1500/38)"
      ],
      "metadata": {
        "colab": {
          "base_uri": "https://localhost:8080/"
        },
        "id": "IpyQwmtlxSJS",
        "outputId": "d42ccc7a-c4cd-407a-bc97-c3473555f3f9"
      },
      "execution_count": 14,
      "outputs": [
        {
          "output_type": "execute_result",
          "data": {
            "text/plain": [
              "float"
            ]
          },
          "metadata": {},
          "execution_count": 14
        }
      ]
    },
    {
      "cell_type": "markdown",
      "source": [
        "✅ Cuando trabajamos con datos con decimales (float) es conveniente restringir el número de decimales (expresar cantidades con tantos decimales ¡se ve horrible!). Para corregir esto, podemos utilizar la funcion \"*round()*\" o darle el formato dentro del propio \"*print()*\""
      ],
      "metadata": {
        "id": "-vNT61Xw3X79"
      }
    },
    {
      "cell_type": "code",
      "source": [
        "división = 1500/38\n",
        "print(round(división, 2))"
      ],
      "metadata": {
        "colab": {
          "base_uri": "https://localhost:8080/"
        },
        "id": "Z9r6q9mI37e0",
        "outputId": "6626c7ae-ee1c-4a73-9ece-a8e5f84fddf2"
      },
      "execution_count": 19,
      "outputs": [
        {
          "output_type": "stream",
          "name": "stdout",
          "text": [
            "39.47\n"
          ]
        }
      ]
    },
    {
      "cell_type": "code",
      "source": [],
      "metadata": {
        "id": "l_A0JGGS4ckT"
      },
      "execution_count": null,
      "outputs": []
    },
    {
      "cell_type": "markdown",
      "source": [
        "▶ El número después de la coma en la función round( ,2) especifica la cantidad de decimales que quieres que muestre. Nota acá como le modifico para muestre 4 decimales:"
      ],
      "metadata": {
        "id": "poB8lqj04XP0"
      }
    },
    {
      "cell_type": "code",
      "source": [
        "división = 1500/38\n",
        "print(round(división, 4))"
      ],
      "metadata": {
        "colab": {
          "base_uri": "https://localhost:8080/"
        },
        "id": "M0fQRtAt4TTz",
        "outputId": "eab5928e-862c-4a40-da84-d72d6efacb72"
      },
      "execution_count": 21,
      "outputs": [
        {
          "output_type": "stream",
          "name": "stdout",
          "text": [
            "39.4737\n"
          ]
        }
      ]
    },
    {
      "cell_type": "markdown",
      "source": [
        "En este otro ejemplo, le damos el formato dentro del mismo \"print()\" con la sentencia: \"{:.2f}\".format( ) en donde el \"2\" especifica que en ese caso quiere que muestre dos decimales."
      ],
      "metadata": {
        "id": "4vjJr6-8455r"
      }
    },
    {
      "cell_type": "code",
      "source": [
        "resultado = 1500 / 38\n",
        "print(\"{:.2f}\".format(resultado))"
      ],
      "metadata": {
        "colab": {
          "base_uri": "https://localhost:8080/"
        },
        "id": "urCvl-K24EkE",
        "outputId": "884e4e4a-7a88-4069-ced3-8f3cec72768d"
      },
      "execution_count": 20,
      "outputs": [
        {
          "output_type": "stream",
          "name": "stdout",
          "text": [
            "39.47\n"
          ]
        }
      ]
    },
    {
      "cell_type": "markdown",
      "source": [
        "Acá le aumento la cantidad de decimales:"
      ],
      "metadata": {
        "id": "DYSw_HYY5R-7"
      }
    },
    {
      "cell_type": "code",
      "source": [
        "resultado = 1500 / 38\n",
        "print(\"{:.4f}\".format(resultado))"
      ],
      "metadata": {
        "colab": {
          "base_uri": "https://localhost:8080/"
        },
        "id": "YplFbvv55VYi",
        "outputId": "236c8b00-90c2-4da6-9392-62d04e5c2025"
      },
      "execution_count": 22,
      "outputs": [
        {
          "output_type": "stream",
          "name": "stdout",
          "text": [
            "39.4737\n"
          ]
        }
      ]
    },
    {
      "cell_type": "markdown",
      "source": [
        "***bool*** significa \"booleano o valor lógico\". Solo puede ser True (verdadero) o False (falso). Se usa pra responder preguntas de si/no, condiciones, decisiones en programas."
      ],
      "metadata": {
        "id": "3BXZj7Frx1eh"
      }
    },
    {
      "cell_type": "code",
      "source": [
        "4 == 4"
      ],
      "metadata": {
        "colab": {
          "base_uri": "https://localhost:8080/"
        },
        "id": "ggg88NBGx0K6",
        "outputId": "f907a265-a5f6-41ab-9be4-6def88f0ec6a"
      },
      "execution_count": 16,
      "outputs": [
        {
          "output_type": "execute_result",
          "data": {
            "text/plain": [
              "True"
            ]
          },
          "metadata": {},
          "execution_count": 16
        }
      ]
    },
    {
      "cell_type": "markdown",
      "source": [
        "⚡En Python \"=\" es el signo de asignación, se usa para guardar un valor en una variable. En cambio, \"==\" es el operador de comparación y se usa para preguntar si dos valores son iguales"
      ],
      "metadata": {
        "id": "0EN4wShAytv5"
      }
    },
    {
      "cell_type": "code",
      "source": [
        "4 == 5"
      ],
      "metadata": {
        "colab": {
          "base_uri": "https://localhost:8080/"
        },
        "id": "4Fi1sbx9zHcp",
        "outputId": "a7e2b0e0-63cf-4d4b-b552-62002c50f41f"
      },
      "execution_count": 17,
      "outputs": [
        {
          "output_type": "execute_result",
          "data": {
            "text/plain": [
              "False"
            ]
          },
          "metadata": {},
          "execution_count": 17
        }
      ]
    },
    {
      "cell_type": "markdown",
      "source": [
        "✅ Recuerda, se pueden representar en los datos de salida distintos valores a la vez."
      ],
      "metadata": {
        "id": "xqxVU3948JvP"
      }
    },
    {
      "cell_type": "code",
      "source": [
        "print(100,200,300,400)"
      ],
      "metadata": {
        "colab": {
          "base_uri": "https://localhost:8080/"
        },
        "id": "5sRc5xuB8jKo",
        "outputId": "3131ff3c-58fd-41a7-b10d-dce8d2daac00"
      },
      "execution_count": 27,
      "outputs": [
        {
          "output_type": "stream",
          "name": "stdout",
          "text": [
            "100 200 300 400\n"
          ]
        }
      ]
    },
    {
      "cell_type": "markdown",
      "source": [
        "¿Notaste que print() imprime todos los valores en la misma línea?, mira que chiva si utilizamos una estructura que se llama \"for\" que es un ciclo (mas adelante la estudiaremos con detenimiento, por ahora solo quiero que la notes)"
      ],
      "metadata": {
        "id": "ya6IQuH18zsP"
      }
    },
    {
      "cell_type": "code",
      "source": [
        "for numero in [100,200,300,400]:\n",
        "    print(numero)"
      ],
      "metadata": {
        "colab": {
          "base_uri": "https://localhost:8080/"
        },
        "id": "MENV4yQk9TEQ",
        "outputId": "b4eed820-77e1-4180-975e-9828e293750c"
      },
      "execution_count": 29,
      "outputs": [
        {
          "output_type": "stream",
          "name": "stdout",
          "text": [
            "100\n",
            "200\n",
            "300\n",
            "400\n"
          ]
        }
      ]
    },
    {
      "cell_type": "markdown",
      "source": [
        "☣ Lo que indica es que para (for) cada número (variable) en [] (lista) ... dos puntos ..... imprima los números!. Si quitas los dos puntos hasta ahí llegaste, en Python y en general en programación, es muy importante que respetes la sintaxis de las estructuras que utilizas."
      ],
      "metadata": {
        "id": "ZiovnHKv9hLf"
      }
    },
    {
      "cell_type": "markdown",
      "source": [
        "⚡En Python, una lista es una colección de datos que se puede modificar, es como una caja grande con más compartimentos en donde podemos almacenar mas cosas y se escribe entre corchetes []"
      ],
      "metadata": {
        "id": "aexc9tW_-hfQ"
      }
    },
    {
      "cell_type": "code",
      "source": [
        "lista = [10,20,30]\n",
        "print(lista)"
      ],
      "metadata": {
        "colab": {
          "base_uri": "https://localhost:8080/"
        },
        "id": "78-A-f9K9gGO",
        "outputId": "1c731547-9299-40d0-8b39-7c53f2180cd0"
      },
      "execution_count": 30,
      "outputs": [
        {
          "output_type": "stream",
          "name": "stdout",
          "text": [
            "[10, 20, 30]\n"
          ]
        }
      ]
    },
    {
      "cell_type": "markdown",
      "source": [
        "⚡La tupla, es parecida a la lista, tambien guarda varios datos en orden solo que la diferencia radica en que la tupla no se puede cambiar o modificar y se escribe con paréntesis ()"
      ],
      "metadata": {
        "id": "z6B0ZDDN--Pm"
      }
    },
    {
      "cell_type": "code",
      "source": [
        "tupla = (10,20,30)\n",
        "print(tupla)"
      ],
      "metadata": {
        "colab": {
          "base_uri": "https://localhost:8080/"
        },
        "id": "aUFC2n-A_RH1",
        "outputId": "9523700e-1b24-4847-abea-6e6ac7cd5b87"
      },
      "execution_count": 31,
      "outputs": [
        {
          "output_type": "stream",
          "name": "stdout",
          "text": [
            "(10, 20, 30)\n"
          ]
        }
      ]
    },
    {
      "cell_type": "markdown",
      "source": [
        "⏰Luego te explico cómo se modifican las listas, por el momento no hace falta que te diga más."
      ],
      "metadata": {
        "id": "bmpbIcph_mis"
      }
    },
    {
      "cell_type": "markdown",
      "source": [
        "❗Descansa un momento!!! Ya te brindé mucha información. Acá te dejo un script para lanzar dados para que no te aburras, ... trata de adivinar que va a salir!"
      ],
      "metadata": {
        "id": "T54KC2L0_7h1"
      }
    },
    {
      "cell_type": "code",
      "source": [
        "# importar librerías\n",
        "import random\n",
        "import time\n",
        "\n",
        "# Mensaje inicial\n",
        "print(\"🎲 Lanzando los dados...\")\n",
        "\n",
        "# Tiempo de espera\n",
        "time.sleep(1)\n",
        "\n",
        "# variables\n",
        "dado1 = random.randint(1, 6)\n",
        "dado2 = random.randint(1, 6)\n",
        "\n",
        "print(f\"Primer dado: {dado1}\")\n",
        "print(f\"Segundo dado: {dado2}\")\n"
      ],
      "metadata": {
        "colab": {
          "base_uri": "https://localhost:8080/"
        },
        "id": "x86RiPiCAbB9",
        "outputId": "3c694eb6-cac4-463b-f2b8-4af75de7196f"
      },
      "execution_count": 80,
      "outputs": [
        {
          "output_type": "stream",
          "name": "stdout",
          "text": [
            "🎲 Lanzando los dados...\n",
            "Primer dado: 6\n",
            "Segundo dado: 6\n"
          ]
        }
      ]
    },
    {
      "cell_type": "markdown",
      "source": [
        "Listo continuemos ...."
      ],
      "metadata": {
        "id": "Hzlbd2nqPW6h"
      }
    },
    {
      "cell_type": "markdown",
      "source": [
        "⚡Nota que en ese juego coloqué una \"f\" dentro del print( ) y que las variables las coloqué dentro de unas llaves {}. Cuando escribes una cadena de texto entre comillas y le colocas justo antes que inicie la letra f, se convierte en una f-string y lo que le estas indicando a Python es que \"aquí dentro del texto voy a mezclar texto con variables\""
      ],
      "metadata": {
        "id": "ZDUtxbhtDAqS"
      }
    },
    {
      "cell_type": "code",
      "source": [
        "nombre = \"Ana\"\n",
        "edad = 21\n",
        "print(f\"Hola, me llamo {nombre} y tengo {edad} años.\")\n"
      ],
      "metadata": {
        "colab": {
          "base_uri": "https://localhost:8080/"
        },
        "id": "5uWrJ9YQDuWy",
        "outputId": "12147736-fcc7-4f79-b433-91ac6fc97cc0"
      },
      "execution_count": 50,
      "outputs": [
        {
          "output_type": "stream",
          "name": "stdout",
          "text": [
            "Hola, me llamo Ana y tengo 21 años.\n"
          ]
        }
      ]
    },
    {
      "cell_type": "markdown",
      "source": [
        "☝Podemos hacer un texto más largo y ordenado:"
      ],
      "metadata": {
        "id": "1PEgJDkODzzb"
      }
    },
    {
      "cell_type": "code",
      "source": [
        "curso = \"Introducción a la Programación\"\n",
        "profesor = \"Carlos\"\n",
        "horas = 4\n",
        "\n",
        "print(f\"📘 Curso: {curso}\\n👨‍🏫 Profesor: {profesor}\\n⏰ Duración: {horas} horas\")\n"
      ],
      "metadata": {
        "colab": {
          "base_uri": "https://localhost:8080/"
        },
        "id": "fjXGcQQ4D8GJ",
        "outputId": "5386944d-4882-488a-adee-f1e3209d9039"
      },
      "execution_count": 51,
      "outputs": [
        {
          "output_type": "stream",
          "name": "stdout",
          "text": [
            "📘 Curso: Introducción a la Programación\n",
            "👨‍🏫 Profesor: Carlos\n",
            "⏰ Duración: 4 horas\n"
          ]
        }
      ]
    },
    {
      "cell_type": "markdown",
      "source": [
        "\\n le dice al computador que inserte un \"salto de línea\". Es como presionar la tecla \"Enter\" en el teclado"
      ],
      "metadata": {
        "id": "M4I9rwLrEPH5"
      }
    },
    {
      "cell_type": "code",
      "source": [
        "print(\"Lunes\\nMartes\\nMiércoles\\nJueves\\nViernes\")"
      ],
      "metadata": {
        "colab": {
          "base_uri": "https://localhost:8080/"
        },
        "id": "Jzh1JlSeEm76",
        "outputId": "5a5175b3-6ed4-4449-b1b2-5957b15728cc"
      },
      "execution_count": 52,
      "outputs": [
        {
          "output_type": "stream",
          "name": "stdout",
          "text": [
            "Lunes\n",
            "Martes\n",
            "Miércoles\n",
            "Jueves\n",
            "Viernes\n"
          ]
        }
      ]
    },
    {
      "cell_type": "markdown",
      "source": [
        "⏬El valor de una variable puede ir cambiando a lo largo del programa, solo ten en cuenta que Python almacena el último valor. Acá te muestro el ejemplo del registro de la cantidad de agua que pasa en una tubería en un determinado periodo de tiempo (se conoce como caudal). Lps significa \"Litros por segundo\""
      ],
      "metadata": {
        "id": "eVE66qilE30P"
      }
    },
    {
      "cell_type": "code",
      "source": [
        "caudal_lps =  15.5\n",
        "caudal_lps = 7.8\n",
        "print(caudal_lps)"
      ],
      "metadata": {
        "colab": {
          "base_uri": "https://localhost:8080/"
        },
        "id": "d6GziPSoFrgY",
        "outputId": "05b8248d-3571-4653-887f-4a4707340a19"
      },
      "execution_count": 53,
      "outputs": [
        {
          "output_type": "stream",
          "name": "stdout",
          "text": [
            "7.8\n"
          ]
        }
      ]
    },
    {
      "cell_type": "markdown",
      "source": [
        "☣ Los nombres de las variables NO pueden iniciar con un número"
      ],
      "metadata": {
        "id": "doliWxT4GBYY"
      }
    },
    {
      "cell_type": "code",
      "source": [
        "25std =  \"No se puede\""
      ],
      "metadata": {
        "colab": {
          "base_uri": "https://localhost:8080/",
          "height": 106
        },
        "id": "HkWa_69NGJk_",
        "outputId": "7d8d5df7-f000-4d53-dc71-69ba3a009768"
      },
      "execution_count": 54,
      "outputs": [
        {
          "output_type": "error",
          "ename": "SyntaxError",
          "evalue": "invalid decimal literal (ipython-input-1028488706.py, line 1)",
          "traceback": [
            "\u001b[0;36m  File \u001b[0;32m\"/tmp/ipython-input-1028488706.py\"\u001b[0;36m, line \u001b[0;32m1\u001b[0m\n\u001b[0;31m    25std =  \"No se puede\"\u001b[0m\n\u001b[0m     ^\u001b[0m\n\u001b[0;31mSyntaxError\u001b[0m\u001b[0;31m:\u001b[0m invalid decimal literal\n"
          ]
        }
      ]
    },
    {
      "cell_type": "markdown",
      "source": [
        "Tambien debes evitar utilizar caracteres no comunes"
      ],
      "metadata": {
        "id": "2lLUgWGtGOy4"
      }
    },
    {
      "cell_type": "code",
      "source": [
        "ma$ = 23"
      ],
      "metadata": {
        "colab": {
          "base_uri": "https://localhost:8080/",
          "height": 106
        },
        "id": "7m9mOmy3GUK3",
        "outputId": "9406ef6b-e884-41a3-e6fd-208a849c2383"
      },
      "execution_count": 55,
      "outputs": [
        {
          "output_type": "error",
          "ename": "SyntaxError",
          "evalue": "invalid syntax (ipython-input-3500008466.py, line 1)",
          "traceback": [
            "\u001b[0;36m  File \u001b[0;32m\"/tmp/ipython-input-3500008466.py\"\u001b[0;36m, line \u001b[0;32m1\u001b[0m\n\u001b[0;31m    ma$ = 23\u001b[0m\n\u001b[0m      ^\u001b[0m\n\u001b[0;31mSyntaxError\u001b[0m\u001b[0;31m:\u001b[0m invalid syntax\n"
          ]
        }
      ]
    },
    {
      "cell_type": "markdown",
      "source": [
        "Si vas a asignar nombres a tus variables con múltiples palabras no puedes dejar espacios en blanco"
      ],
      "metadata": {
        "id": "z_IXhd8TGdcG"
      }
    },
    {
      "cell_type": "code",
      "source": [
        "primer apellido = \"Araya\""
      ],
      "metadata": {
        "colab": {
          "base_uri": "https://localhost:8080/",
          "height": 106
        },
        "id": "x3x2_kYSGp3O",
        "outputId": "dbf7ebed-b5a1-4459-d4bb-d0fe81b47606"
      },
      "execution_count": 56,
      "outputs": [
        {
          "output_type": "error",
          "ename": "SyntaxError",
          "evalue": "invalid syntax (ipython-input-4146208648.py, line 1)",
          "traceback": [
            "\u001b[0;36m  File \u001b[0;32m\"/tmp/ipython-input-4146208648.py\"\u001b[0;36m, line \u001b[0;32m1\u001b[0m\n\u001b[0;31m    primer apellido = \"Araya\"\u001b[0m\n\u001b[0m           ^\u001b[0m\n\u001b[0;31mSyntaxError\u001b[0m\u001b[0;31m:\u001b[0m invalid syntax\n"
          ]
        }
      ]
    },
    {
      "cell_type": "code",
      "source": [
        "primerApellido = \"Araya\"\n",
        "segundo_apellido = \"Obando\"\n",
        "print(f\"El primer apellido del profe es {primerApellido} \\nmientras que el segundo apellido es: {segundo_apellido}\")"
      ],
      "metadata": {
        "colab": {
          "base_uri": "https://localhost:8080/"
        },
        "id": "LbIiVlhuGu0_",
        "outputId": "aad4fd7e-ce2d-4d7f-cdff-181780eddaaf"
      },
      "execution_count": 86,
      "outputs": [
        {
          "output_type": "stream",
          "name": "stdout",
          "text": [
            "El primer apellido del profe es Araya \n",
            "mientras que el segundo apellido es: Obando\n"
          ]
        }
      ]
    },
    {
      "cell_type": "markdown",
      "source": [
        "En Python una cadena de texto entre comillas no puede abrirse en un reglón y cerrarse en otro."
      ],
      "metadata": {
        "id": "9eZi3sJVQwcW"
      }
    },
    {
      "cell_type": "code",
      "source": [
        "\"esto no se\n",
        "puede\""
      ],
      "metadata": {
        "colab": {
          "base_uri": "https://localhost:8080/",
          "height": 106
        },
        "id": "iEFrYjuNQYqp",
        "outputId": "c4d4c170-60dc-438b-a6db-14394f333375"
      },
      "execution_count": 87,
      "outputs": [
        {
          "output_type": "error",
          "ename": "SyntaxError",
          "evalue": "unterminated string literal (detected at line 1) (ipython-input-4015681639.py, line 1)",
          "traceback": [
            "\u001b[0;36m  File \u001b[0;32m\"/tmp/ipython-input-4015681639.py\"\u001b[0;36m, line \u001b[0;32m1\u001b[0m\n\u001b[0;31m    \"esto no se\u001b[0m\n\u001b[0m    ^\u001b[0m\n\u001b[0;31mSyntaxError\u001b[0m\u001b[0;31m:\u001b[0m unterminated string literal (detected at line 1)\n"
          ]
        }
      ]
    },
    {
      "cell_type": "markdown",
      "source": [
        "Para resolverlo tendrías que hacer algo similar a esto:"
      ],
      "metadata": {
        "id": "Tw6V9wKJHcAI"
      }
    },
    {
      "cell_type": "code",
      "source": [
        "primerApellido = \"Araya\"\n",
        "segundo_apellido = \"Obando\"\n",
        "\n",
        "print(f\"El primer apellido del profe es: {primerApellido}\\n\"\n",
        "      f\"mientras que el segundo apellido es: {segundo_apellido}\")"
      ],
      "metadata": {
        "colab": {
          "base_uri": "https://localhost:8080/"
        },
        "id": "HkPznpSoH3G1",
        "outputId": "e4eb2c6d-7db4-4d40-9136-5a853afa52b7"
      },
      "execution_count": 61,
      "outputs": [
        {
          "output_type": "stream",
          "name": "stdout",
          "text": [
            "El primer apellido del profe es: Araya\n",
            "mientras que el segundo apellido es: Obando\n"
          ]
        }
      ]
    },
    {
      "cell_type": "markdown",
      "source": [
        "También puedes utilizar triple comillas:"
      ],
      "metadata": {
        "id": "fA3Go-PUICiM"
      }
    },
    {
      "cell_type": "code",
      "source": [
        "primerApellido = \"Araya\"\n",
        "segundo_apellido = \"Obando\"\n",
        "\n",
        "print(f\"\"\"El primer apellido del profe es {primerApellido}\n",
        "mientras que el segundo apellido es: {segundo_apellido}\"\"\")"
      ],
      "metadata": {
        "colab": {
          "base_uri": "https://localhost:8080/"
        },
        "id": "SVU1_0nuIHZH",
        "outputId": "7027a7f6-f083-4f60-ec5e-73dce9724e4a"
      },
      "execution_count": 63,
      "outputs": [
        {
          "output_type": "stream",
          "name": "stdout",
          "text": [
            "El primer apellido del profe es Araya\n",
            "mientras que el segundo apellido es: Obando\n"
          ]
        }
      ]
    },
    {
      "cell_type": "markdown",
      "source": [
        "Si utilizas esta última opción toma en cuenta que el texto final se verá tal y como lo dispongas en código, con los mismos espacios entre reglones, sin la necesidad de invocar la sentencia \\n"
      ],
      "metadata": {
        "id": "rAC_5AVRIVHl"
      }
    },
    {
      "cell_type": "code",
      "source": [
        "primerApellido = \"Araya\"\n",
        "segundo_apellido = \"Obando\"\n",
        "\n",
        "print(f\"\"\"El primer apellido del\n",
        "profe es {primerApellido}\n",
        "mientras que el\n",
        "segundo apellido es: {segundo_apellido}\"\"\")"
      ],
      "metadata": {
        "colab": {
          "base_uri": "https://localhost:8080/"
        },
        "id": "haQ9Pc_wIr4u",
        "outputId": "9da268d5-f385-4a85-dd77-61e800f3f40c"
      },
      "execution_count": 88,
      "outputs": [
        {
          "output_type": "stream",
          "name": "stdout",
          "text": [
            "El primer apellido del \n",
            "profe es Araya\n",
            "mientras que el \n",
            "segundo apellido es: Obando\n"
          ]
        }
      ]
    },
    {
      "cell_type": "markdown",
      "source": [
        "☹ Python no puede utilizar variables que no tengan un valor previo"
      ],
      "metadata": {
        "id": "eFAFvl15I2FM"
      }
    },
    {
      "cell_type": "code",
      "source": [
        "nota = parcial"
      ],
      "metadata": {
        "colab": {
          "base_uri": "https://localhost:8080/",
          "height": 141
        },
        "id": "44N5qUXEJA4c",
        "outputId": "607c3cdf-10f5-424a-8377-3caa03492a85"
      },
      "execution_count": 65,
      "outputs": [
        {
          "output_type": "error",
          "ename": "NameError",
          "evalue": "name 'parcial' is not defined",
          "traceback": [
            "\u001b[0;31m---------------------------------------------------------------------------\u001b[0m",
            "\u001b[0;31mNameError\u001b[0m                                 Traceback (most recent call last)",
            "\u001b[0;32m/tmp/ipython-input-4235067993.py\u001b[0m in \u001b[0;36m<cell line: 0>\u001b[0;34m()\u001b[0m\n\u001b[0;32m----> 1\u001b[0;31m \u001b[0mnota\u001b[0m \u001b[0;34m=\u001b[0m \u001b[0mparcial\u001b[0m\u001b[0;34m\u001b[0m\u001b[0;34m\u001b[0m\u001b[0m\n\u001b[0m",
            "\u001b[0;31mNameError\u001b[0m: name 'parcial' is not defined"
          ]
        }
      ]
    },
    {
      "cell_type": "markdown",
      "source": [
        "✅ Si te es permitido hacer asignaciones simultáneas"
      ],
      "metadata": {
        "id": "USDunSpOJH6e"
      }
    },
    {
      "cell_type": "code",
      "source": [
        "nombre, apellido, edad = \"José Andrés\", \"Araya Obando\", 44\n",
        "print(f\"Mi nombre completo es {nombre} {apellido} y tengo {edad} años\")"
      ],
      "metadata": {
        "colab": {
          "base_uri": "https://localhost:8080/"
        },
        "id": "2CZSyiZ1JF2s",
        "outputId": "78d0ae02-5e97-4ebe-a19c-c20b7ef3b17d"
      },
      "execution_count": 68,
      "outputs": [
        {
          "output_type": "stream",
          "name": "stdout",
          "text": [
            "Mi nombre completo es José Andrés Araya Obando y tengo 44 años\n"
          ]
        }
      ]
    },
    {
      "cell_type": "markdown",
      "source": [
        "También puedes hacer asignaciones ligadas:"
      ],
      "metadata": {
        "id": "miKrSVLDKIZV"
      }
    },
    {
      "cell_type": "code",
      "source": [
        "x = y = z = 10\n",
        "print(z,y,x)"
      ],
      "metadata": {
        "colab": {
          "base_uri": "https://localhost:8080/"
        },
        "id": "9pQmgYvDKMVj",
        "outputId": "f40c4ac9-a598-4ff5-c0db-2a9f98a71b9f"
      },
      "execution_count": 72,
      "outputs": [
        {
          "output_type": "stream",
          "name": "stdout",
          "text": [
            "10 10 10\n"
          ]
        }
      ]
    },
    {
      "cell_type": "markdown",
      "source": [
        "☹ Hay palabras que ya están reservadas en el lenguaje de Python que NO puedes utilizar para asignar el nombre a una variable. Ejemplo: if, for, while, class, def"
      ],
      "metadata": {
        "id": "jLpEWtRwKuxS"
      }
    },
    {
      "cell_type": "code",
      "source": [
        "class = 8"
      ],
      "metadata": {
        "colab": {
          "base_uri": "https://localhost:8080/",
          "height": 106
        },
        "id": "ZyFEjRIyK9_L",
        "outputId": "49917b6e-5796-4f08-ec2f-a25a19245968"
      },
      "execution_count": 73,
      "outputs": [
        {
          "output_type": "error",
          "ename": "SyntaxError",
          "evalue": "invalid syntax (ipython-input-3988538918.py, line 1)",
          "traceback": [
            "\u001b[0;36m  File \u001b[0;32m\"/tmp/ipython-input-3988538918.py\"\u001b[0;36m, line \u001b[0;32m1\u001b[0m\n\u001b[0;31m    class = 8\u001b[0m\n\u001b[0m          ^\u001b[0m\n\u001b[0;31mSyntaxError\u001b[0m\u001b[0;31m:\u001b[0m invalid syntax\n"
          ]
        }
      ]
    },
    {
      "cell_type": "markdown",
      "source": [
        "Acá te muestro cómo puedes verificar si una palabra en particular es una palabra reservada o no. Para que la función keyword.iskeyword() pueda ejecutarse, debes importar primero la respectiva librería"
      ],
      "metadata": {
        "id": "mvJcHmf2RJO9"
      }
    },
    {
      "cell_type": "code",
      "source": [
        "# Importando librerías\n",
        "import keyword\n",
        "print(keyword.iskeyword(\"class\"))"
      ],
      "metadata": {
        "colab": {
          "base_uri": "https://localhost:8080/"
        },
        "id": "OK1mJPamMXfY",
        "outputId": "32d16a9e-d456-40cc-80ea-823fc5403227"
      },
      "execution_count": 76,
      "outputs": [
        {
          "output_type": "stream",
          "name": "stdout",
          "text": [
            "True\n"
          ]
        }
      ]
    },
    {
      "cell_type": "markdown",
      "source": [
        "❗Excelente trabajo, te felicito por haber llegado hasta acá"
      ],
      "metadata": {
        "id": "EV6F2-WYM_sq"
      }
    },
    {
      "cell_type": "markdown",
      "source": [
        "**¡Nos vemos!**"
      ],
      "metadata": {
        "id": "zzsqPEjeNHHp"
      }
    }
  ]
}