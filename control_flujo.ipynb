{
  "nbformat": 4,
  "nbformat_minor": 0,
  "metadata": {
    "colab": {
      "provenance": [],
      "authorship_tag": "ABX9TyN97gJsf3jwk61nzCJ1FZZ1",
      "include_colab_link": true
    },
    "kernelspec": {
      "name": "python3",
      "display_name": "Python 3"
    },
    "language_info": {
      "name": "python"
    }
  },
  "cells": [
    {
      "cell_type": "markdown",
      "metadata": {
        "id": "view-in-github",
        "colab_type": "text"
      },
      "source": [
        "<a href=\"https://colab.research.google.com/github/GRX782/cursoTaller1/blob/main/control_flujo.ipynb\" target=\"_parent\"><img src=\"https://colab.research.google.com/assets/colab-badge.svg\" alt=\"Open In Colab\"/></a>"
      ]
    },
    {
      "cell_type": "markdown",
      "source": [
        "**Curso Taller 1** - Dr-Ing. José Andrés Araya Obando"
      ],
      "metadata": {
        "id": "_9LTOg3BXJuf"
      }
    },
    {
      "cell_type": "markdown",
      "source": [
        "**Expresiones condicionales (if-elif-else)**"
      ],
      "metadata": {
        "id": "2R-ofqioSKI5"
      }
    },
    {
      "cell_type": "code",
      "source": [
        "# Ejemplo 01\n",
        "x = -4\n",
        "\n",
        "if x > 0:\n",
        "    print(\"x es positivo\")\n",
        "elif x < 0:\n",
        "    print(\"x es negativo\")\n",
        "else:\n",
        "    print(\"x es cero\")\n"
      ],
      "metadata": {
        "colab": {
          "base_uri": "https://localhost:8080/"
        },
        "id": "_GdmWV06SO5I",
        "outputId": "f2f7e237-dba0-4217-f851-7b675dbd018e"
      },
      "execution_count": null,
      "outputs": [
        {
          "output_type": "stream",
          "name": "stdout",
          "text": [
            "x es negativo\n"
          ]
        }
      ]
    },
    {
      "cell_type": "code",
      "source": [
        "# Ejemplo 02\n",
        "nota = float(input(\"Ingrese su nota: \"))\n",
        "\n",
        "if nota >= 67.5:\n",
        "    print(\"Aprobado\")\n",
        "elif 60 <= nota < 67.5: # acá ingreso varias condiciones encadenadas a nota\n",
        "    print(\"Repo\")\n",
        "else :\n",
        "    print(\"Nos vemos el otro semestre\")"
      ],
      "metadata": {
        "colab": {
          "base_uri": "https://localhost:8080/"
        },
        "id": "OlcmtJ2dS4d4",
        "outputId": "3a4c9457-83f0-4fd6-c90d-078ae558840d"
      },
      "execution_count": null,
      "outputs": [
        {
          "output_type": "stream",
          "name": "stdout",
          "text": [
            "Ingrese su nota: 68\n",
            "Aprobado\n"
          ]
        }
      ]
    },
    {
      "cell_type": "markdown",
      "source": [
        "**Ejemplo de operadores lógicos: and, or, not**"
      ],
      "metadata": {
        "id": "_cNUuqTrSCex"
      }
    },
    {
      "cell_type": "code",
      "execution_count": null,
      "metadata": {
        "colab": {
          "base_uri": "https://localhost:8080/"
        },
        "id": "u91eOlVwRbWW",
        "outputId": "e328bc21-46de-4a26-b49d-bce0f956535c"
      },
      "outputs": [
        {
          "output_type": "stream",
          "name": "stdout",
          "text": [
            "❌ No puede votar\n"
          ]
        }
      ],
      "source": [
        "# Aquí usamos and. También podrías cambiar a or o not para probar\n",
        "\n",
        "edad = 44\n",
        "tiene_cedula = False\n",
        "\n",
        "if edad >= 18 and tiene_cedula:\n",
        "    print(\"✅ Puede votar\")\n",
        "else:\n",
        "    print(\"❌ No puede votar\")\n",
        "\n",
        "# Aquí usamos and. También podrías cambiar a or o not para probar"
      ]
    },
    {
      "cell_type": "markdown",
      "source": [
        "**Ejemplo de manejo de excepciones con try-except**"
      ],
      "metadata": {
        "id": "4nd9w-dJTq_g"
      }
    },
    {
      "cell_type": "code",
      "source": [
        "try:\n",
        "    x = int(input(\"Digite un número entero: \"))\n",
        "    print(\"El doble es:\", x * 2)\n",
        "except ValueError:\n",
        "    print(\"⚠️ Error: Debe ingresar un número válido\")\n"
      ],
      "metadata": {
        "colab": {
          "base_uri": "https://localhost:8080/"
        },
        "id": "hPsU44MQTyj5",
        "outputId": "ecfbfc25-0d2b-4126-c8af-0e31405a396a"
      },
      "execution_count": null,
      "outputs": [
        {
          "output_type": "stream",
          "name": "stdout",
          "text": [
            "Digite un número entero: 25\n",
            "El doble es: 50\n"
          ]
        }
      ]
    },
    {
      "cell_type": "markdown",
      "source": [
        "**Construcciones de Iteración (for, while, break)**"
      ],
      "metadata": {
        "id": "pBhKKsqOUGa5"
      }
    },
    {
      "cell_type": "code",
      "source": [
        "secuencia = list(range(3)) # se crea una variable que contiene una lista\n",
        "print(secuencia)"
      ],
      "metadata": {
        "colab": {
          "base_uri": "https://localhost:8080/"
        },
        "id": "zRRwWy2vUqUo",
        "outputId": "98225323-8191-4f4d-c56f-e97ba6b9ba3e"
      },
      "execution_count": null,
      "outputs": [
        {
          "output_type": "stream",
          "name": "stdout",
          "text": [
            "[0, 1, 2]\n"
          ]
        }
      ]
    },
    {
      "cell_type": "code",
      "source": [
        "# Ejemplo con contador\n",
        "for i in range(3):\n",
        "    print(\"Repetición número:\", i)"
      ],
      "metadata": {
        "colab": {
          "base_uri": "https://localhost:8080/"
        },
        "id": "fjpRwXlnVulw",
        "outputId": "fed230da-1397-4ee0-f1d0-be9f1d0b518e"
      },
      "execution_count": null,
      "outputs": [
        {
          "output_type": "stream",
          "name": "stdout",
          "text": [
            "Repetición número: 0\n",
            "Repetición número: 1\n",
            "Repetición número: 2\n"
          ]
        }
      ]
    },
    {
      "cell_type": "code",
      "source": [
        "for i in range(3):\n",
        "    print(\"Hola\")\n",
        "    print(\"Mundo\")"
      ],
      "metadata": {
        "colab": {
          "base_uri": "https://localhost:8080/"
        },
        "id": "quvwchxeV-WO",
        "outputId": "7c1f017d-f2d0-4f29-c384-1a2941175643"
      },
      "execution_count": null,
      "outputs": [
        {
          "output_type": "stream",
          "name": "stdout",
          "text": [
            "Hola\n",
            "Mundo\n",
            "Hola\n",
            "Mundo\n",
            "Hola\n",
            "Mundo\n"
          ]
        }
      ]
    },
    {
      "cell_type": "code",
      "source": [
        "# Ejemplo recorriendo lista\n",
        "for fruta in [\"manzana\", \"pera\", \"uva\"]:\n",
        "    print(\"Nombre de la fruta:\", fruta)"
      ],
      "metadata": {
        "colab": {
          "base_uri": "https://localhost:8080/"
        },
        "id": "PNycq2ojVzIm",
        "outputId": "98396101-e563-466b-9bf7-3ee08a546ae0"
      },
      "execution_count": null,
      "outputs": [
        {
          "output_type": "stream",
          "name": "stdout",
          "text": [
            "Nombre de la fruta: manzana\n",
            "Nombre de la fruta: pera\n",
            "Nombre de la fruta: uva\n"
          ]
        }
      ]
    },
    {
      "cell_type": "code",
      "source": [
        "# Recorremos con while y usamos break\n",
        "contador = 1\n",
        "while True:\n",
        "    print(\"Iteración con while:\", contador)\n",
        "    if contador == 3:\n",
        "        break   # se detiene aquí\n",
        "    contador += 1\n"
      ],
      "metadata": {
        "colab": {
          "base_uri": "https://localhost:8080/"
        },
        "id": "dXQVJwpwWmMH",
        "outputId": "546aded7-bcd2-4f6d-a6ad-5906d1f22e63"
      },
      "execution_count": null,
      "outputs": [
        {
          "output_type": "stream",
          "name": "stdout",
          "text": [
            "Iteración con while: 1\n",
            "Iteración con while: 2\n",
            "Iteración con while: 3\n"
          ]
        }
      ]
    }
  ]
}