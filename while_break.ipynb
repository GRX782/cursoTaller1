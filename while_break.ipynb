{
  "nbformat": 4,
  "nbformat_minor": 0,
  "metadata": {
    "colab": {
      "provenance": [],
      "authorship_tag": "ABX9TyNdiGeW2S3zGeFoPKFuNnyP",
      "include_colab_link": true
    },
    "kernelspec": {
      "name": "python3",
      "display_name": "Python 3"
    },
    "language_info": {
      "name": "python"
    }
  },
  "cells": [
    {
      "cell_type": "markdown",
      "metadata": {
        "id": "view-in-github",
        "colab_type": "text"
      },
      "source": [
        "<a href=\"https://colab.research.google.com/github/GRX782/cursoTaller1/blob/main/while_break.ipynb\" target=\"_parent\"><img src=\"https://colab.research.google.com/assets/colab-badge.svg\" alt=\"Open In Colab\"/></a>"
      ]
    },
    {
      "cell_type": "markdown",
      "source": [
        "**Curso Taller 1** - Dr-Ing. José Andrés Araya Obando"
      ],
      "metadata": {
        "id": "dMHbXoEpBzLg"
      }
    },
    {
      "cell_type": "markdown",
      "source": [
        "⏳ Recordemos que la iteración es la forma más simple de repetir una tarea"
      ],
      "metadata": {
        "id": "CAr7mUHtB5XO"
      }
    },
    {
      "cell_type": "markdown",
      "source": [
        "El estatuto \"while\" nos permite hacerlo siempre y cuando la condición dada sea verdadera"
      ],
      "metadata": {
        "id": "bGu78SvRCH8q"
      }
    },
    {
      "cell_type": "markdown",
      "source": [
        "\"while\" y \"break\" se usan juntos cuando queremos repetir algo hasta que se cumpla una condición."
      ],
      "metadata": {
        "id": "9uffFqR8y7Wa"
      }
    },
    {
      "cell_type": "code",
      "source": [
        "# Ejemplo básico\n",
        "x = 0\n",
        "\n",
        "# while True se usa cinado quieres que se repita indefinidamente\n",
        "# se detendrá hasta que tu le indiques un break\n",
        "while True:\n",
        "  if x == 5:\n",
        "    break\n",
        "  else:\n",
        "    x += 1\n",
        "  print(x)"
      ],
      "metadata": {
        "colab": {
          "base_uri": "https://localhost:8080/"
        },
        "id": "bgVZv7HK4qid",
        "outputId": "a4b1186d-3c27-4b36-fa9a-b46ae190ce54"
      },
      "execution_count": 7,
      "outputs": [
        {
          "output_type": "stream",
          "name": "stdout",
          "text": [
            "1\n",
            "2\n",
            "3\n",
            "4\n",
            "5\n"
          ]
        }
      ]
    },
    {
      "cell_type": "code",
      "source": [
        "# while repite el bloque mientras la condición sea verdadera\n",
        "\n",
        "contador = 1\n",
        "while contador <= 5:\n",
        "    print(\"Número de ciclo:\",contador)\n",
        "    contador += 1"
      ],
      "metadata": {
        "colab": {
          "base_uri": "https://localhost:8080/"
        },
        "id": "vpCAhN9iB4g2",
        "outputId": "7062dd9e-bec8-4f78-a98b-e5742a548864"
      },
      "execution_count": 2,
      "outputs": [
        {
          "output_type": "stream",
          "name": "stdout",
          "text": [
            "Número de ciclo: 1\n",
            "Número de ciclo: 2\n",
            "Número de ciclo: 3\n",
            "Número de ciclo: 4\n",
            "Número de ciclo: 5\n"
          ]
        }
      ]
    },
    {
      "cell_type": "markdown",
      "source": [
        "La expresión \"contador += 1\" es una forma de escribir: \"contador = contador + 1\""
      ],
      "metadata": {
        "id": "q8ntPwJMzywY"
      }
    },
    {
      "cell_type": "markdown",
      "source": [
        "Le dice a Python: “Toma el valor actual de contador, súmale 1 y guarda el resultado otra vez en contador.”"
      ],
      "metadata": {
        "id": "GmNVgFB40JmI"
      }
    },
    {
      "cell_type": "markdown",
      "source": [
        "Cuando se usa dentro de un while o for, permite ir aumentando un valor paso a paso, lo cual es útil por ejemplo para contar repeticiones como se muestra en el ejemplo anterior"
      ],
      "metadata": {
        "id": "AldFjCiJ0T5O"
      }
    },
    {
      "cell_type": "code",
      "execution_count": 5,
      "metadata": {
        "colab": {
          "base_uri": "https://localhost:8080/"
        },
        "id": "pLEAVmRA72qv",
        "outputId": "ecdb181e-408a-495f-cb54-9e6b5e38aaaf"
      },
      "outputs": [
        {
          "output_type": "stream",
          "name": "stdout",
          "text": [
            "Número de ciclo: 1\n",
            "Número de ciclo: 2\n",
            "Número de ciclo: 3\n",
            "Número de ciclo: 4\n",
            "Número de ciclo: 5\n",
            "🚫 Se interrumpe el ciclo\n"
          ]
        }
      ],
      "source": [
        "# Ahora veámos que hace break\n",
        "contador = 1\n",
        "\n",
        "# Este bucle normalmente contaría hasta 10, pero break hace que se detenga en 5\n",
        "while contador <= 10:\n",
        "    print(\"Número de ciclo:\", contador)\n",
        "    if contador == 5:\n",
        "        print(\"🚫 Se interrumpe el ciclo\")\n",
        "        break\n",
        "    contador += 1\n"
      ]
    },
    {
      "cell_type": "code",
      "source": [
        "# Adivinemos un número\n",
        "numero_secreto = 7\n",
        "contador = 0\n",
        "\n",
        "print(\"Adivina el número secreto (entre 1 y 10):\")\n",
        "\n",
        "# Bucle infinito que se repetirá hasta que usemos break\n",
        "while True:\n",
        "    # Pedimos al usuario que introduzca un número\n",
        "    numero_usuario = int(input(\"Adivina el número: \"))\n",
        "    # Verificamos si adivinó\n",
        "    if numero_usuario == numero_secreto:\n",
        "        print(\"¡Correcto, adivinaste!\")\n",
        "        break\n",
        "    elif numero_usuario < numero_secreto:\n",
        "        print(\"Pista: el número secreto es mayor.\")\n",
        "    else:\n",
        "        print(\"Pista: el número secreto es menor.\")\n",
        "    contador += 1\n",
        "print(\"Fin del juego. Número de intentos:\", contador)"
      ],
      "metadata": {
        "colab": {
          "base_uri": "https://localhost:8080/"
        },
        "id": "a3nyV7OL1xZQ",
        "outputId": "165cffa7-b6e5-4ce3-b614-172ba69f7280"
      },
      "execution_count": 4,
      "outputs": [
        {
          "output_type": "stream",
          "name": "stdout",
          "text": [
            "Adivina el número secreto (entre 1 y 10):\n",
            "Adivina el número: 4\n",
            "Pista: el número secreto es mayor.\n",
            "Adivina el número: 8\n",
            "Pista: el número secreto es menor.\n",
            "Adivina el número: 7\n",
            "¡Correcto, adivinaste!\n",
            "Fin del juego. Número de intentos: 2\n"
          ]
        }
      ]
    },
    {
      "cell_type": "code",
      "source": [
        "# En este caso el usuario es quien decide cuando detener el bucle\n",
        "while True:\n",
        "  print(\"\\n---MENU---\")\n",
        "  print(\"1. Registrar nombre\")\n",
        "  print(\"2. Registrar edad\")\n",
        "  print(\"3. Salir\")\n",
        "\n",
        "  opcion = input(\"\\nSeleccione una opción (1,2 o 3): \")\n",
        "\n",
        "  if opcion == \"1\":\n",
        "    nombre = input(\"Ingrese su nombre: \")\n",
        "    print(f\"Se ha registrado el siguiente nombre: {nombre}\")\n",
        "  elif opcion == \"2\":\n",
        "    edad = input(\"Ingrese su edad: \")\n",
        "    print(f\"Se ha registrado la siguiente edad: {edad}\")\n",
        "  elif opcion == \"3\":\n",
        "    print(\"Saliendo del programa...\")\n",
        "    break\n",
        "  else:\n",
        "    print(\"Opción inválida. Por favor, seleccione una opción válida.\")\n"
      ],
      "metadata": {
        "colab": {
          "base_uri": "https://localhost:8080/"
        },
        "id": "HcRy-Us-5ndO",
        "outputId": "8c4a1bc2-c50b-4dcf-faf9-ac4c0539b087"
      },
      "execution_count": 11,
      "outputs": [
        {
          "output_type": "stream",
          "name": "stdout",
          "text": [
            "\n",
            "---MENU---\n",
            "1. Registrar nombre\n",
            "2. Registrar edad\n",
            "3. Salir\n",
            "\n",
            "Seleccione una opción (1,2 o 3): Andrés\n",
            "Opción inválida. Por favor, seleccione una opción válida.\n",
            "\n",
            "---MENU---\n",
            "1. Registrar nombre\n",
            "2. Registrar edad\n",
            "3. Salir\n",
            "\n",
            "Seleccione una opción (1,2 o 3): 1\n",
            "Ingrese su nombre: Andrés\n",
            "Se ha registrado el siguiente nombre: Andrés\n",
            "\n",
            "---MENU---\n",
            "1. Registrar nombre\n",
            "2. Registrar edad\n",
            "3. Salir\n",
            "\n",
            "Seleccione una opción (1,2 o 3): 2\n",
            "Ingrese su edad: 15\n",
            "Se ha registrado la siguiente edad: 15\n",
            "\n",
            "---MENU---\n",
            "1. Registrar nombre\n",
            "2. Registrar edad\n",
            "3. Salir\n",
            "\n",
            "Seleccione una opción (1,2 o 3): 3\n",
            "Saliendo del programa...\n"
          ]
        }
      ]
    },
    {
      "cell_type": "code",
      "source": [
        "# Acá vamos a usar cadenas de caracteres\n",
        "# Asignamos un string \"vacío\", recuerda que igual le asigna un índice\n",
        "comando = \"  \"\n",
        "\n",
        "while comando.lower() != \"salir\":\n",
        "  comando = input(\"Ingrese un comando (o 'salir' para terminar): \")\n",
        "  print(\"Ejecutando comando:\", comando.lower())\n",
        "\n",
        "print(\"Programa terminado.\")"
      ],
      "metadata": {
        "colab": {
          "base_uri": "https://localhost:8080/"
        },
        "id": "uDXEFaZJ8k1V",
        "outputId": "474fb741-6f0d-4e31-df62-de94153b9354"
      },
      "execution_count": 13,
      "outputs": [
        {
          "output_type": "stream",
          "name": "stdout",
          "text": [
            "Ingrese un comando (o 'salir' para terminar): EnteR\n",
            "Ejecutando comando: enter\n",
            "Ingrese un comando (o 'salir' para terminar): Tab\n",
            "Ejecutando comando: tab\n",
            "Ingrese un comando (o 'salir' para terminar): SAliR\n",
            "Ejecutando comando: salir\n",
            "Programa terminado.\n"
          ]
        }
      ]
    },
    {
      "cell_type": "code",
      "source": [
        "# Otro ejemplo, solo que mas bien nos interesa una cuenta regresiva\n",
        "\n",
        "# Definimos una función\n",
        "def cuenta_regresiva(numero):\n",
        "    while True:\n",
        "        print(numero)\n",
        "        numero -= 1\n",
        "        if numero <= 0:\n",
        "            break"
      ],
      "metadata": {
        "id": "VRFFaK6w-Ec7"
      },
      "execution_count": 14,
      "outputs": []
    },
    {
      "cell_type": "code",
      "source": [
        "# Invocamos la función\n",
        "cuenta_regresiva(10)"
      ],
      "metadata": {
        "colab": {
          "base_uri": "https://localhost:8080/"
        },
        "id": "NGhwYV6c-eRf",
        "outputId": "e660d79b-ee4f-4dd8-e8eb-2f8b47985b3b"
      },
      "execution_count": 15,
      "outputs": [
        {
          "output_type": "stream",
          "name": "stdout",
          "text": [
            "10\n",
            "9\n",
            "8\n",
            "7\n",
            "6\n",
            "5\n",
            "4\n",
            "3\n",
            "2\n",
            "1\n"
          ]
        }
      ]
    }
  ]
}