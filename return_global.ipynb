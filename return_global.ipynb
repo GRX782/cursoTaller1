{
  "nbformat": 4,
  "nbformat_minor": 0,
  "metadata": {
    "colab": {
      "provenance": [],
      "authorship_tag": "ABX9TyOEFrIUgTCDP1nG4wQP1F7K",
      "include_colab_link": true
    },
    "kernelspec": {
      "name": "python3",
      "display_name": "Python 3"
    },
    "language_info": {
      "name": "python"
    }
  },
  "cells": [
    {
      "cell_type": "markdown",
      "metadata": {
        "id": "view-in-github",
        "colab_type": "text"
      },
      "source": [
        "<a href=\"https://colab.research.google.com/github/GRX782/cursoTaller1/blob/main/return_global.ipynb\" target=\"_parent\"><img src=\"https://colab.research.google.com/assets/colab-badge.svg\" alt=\"Open In Colab\"/></a>"
      ]
    },
    {
      "cell_type": "markdown",
      "source": [
        "**Curso Taller 1** - Dr-Ing. José Andrés Araya Obando"
      ],
      "metadata": {
        "id": "iPXERR7x41Wl"
      }
    },
    {
      "cell_type": "markdown",
      "source": [
        "En Python \"**return**\" es una sentencia (o instrucción) cuya acción es devolver un valor desde el interior de una función. Despues de \"**return**\" la función se detiene."
      ],
      "metadata": {
        "id": "5g7buVSI58yz"
      }
    },
    {
      "cell_type": "code",
      "source": [
        "# se define la función de sumar\n",
        "def sumar(a, b):\n",
        "    return a + b   # devuelve la suma de a y b"
      ],
      "metadata": {
        "id": "ICZ6x5DK64nK"
      },
      "execution_count": 1,
      "outputs": []
    },
    {
      "cell_type": "code",
      "source": [
        "resultado = sumar(3, 5)\n",
        "print(resultado)   # 👉 imprime 8"
      ],
      "metadata": {
        "colab": {
          "base_uri": "https://localhost:8080/"
        },
        "id": "qToLlLeA7Dgz",
        "outputId": "399fe2eb-6896-4611-96da-98f9cbf3d16d"
      },
      "execution_count": 2,
      "outputs": [
        {
          "output_type": "stream",
          "name": "stdout",
          "text": [
            "8\n"
          ]
        }
      ]
    },
    {
      "cell_type": "markdown",
      "source": [
        "⏩ Ahora quiero que analices este código que pareciera ser muy similar:"
      ],
      "metadata": {
        "id": "NAfXq6Nj7MKq"
      }
    },
    {
      "cell_type": "code",
      "source": [
        "def sumar_print(a, b):\n",
        "    print (a + b)   # imprime la suma de a y b"
      ],
      "metadata": {
        "id": "e1kEmivW7X2K"
      },
      "execution_count": 3,
      "outputs": []
    },
    {
      "cell_type": "code",
      "source": [
        "resultado2 = sumar_print(3, 5)\n",
        "print(resultado2)   # 👉 imprime None"
      ],
      "metadata": {
        "colab": {
          "base_uri": "https://localhost:8080/"
        },
        "id": "xFqbQ3SW7imz",
        "outputId": "d0ae7c0f-2527-4386-a198-8657fc3d7402"
      },
      "execution_count": 4,
      "outputs": [
        {
          "output_type": "stream",
          "name": "stdout",
          "text": [
            "8\n",
            "None\n"
          ]
        }
      ]
    },
    {
      "cell_type": "markdown",
      "source": [
        "⚡Como puedes observar, \"**return**\" devuelve un valor al lugar donde fue llamada la función. Gracias a esto, ese valor se puede guardar en una variable para usar en un cálculo o pasarlo a otra función. Por su parte,** print()** solo muestra información en pantalla pero no devuelve nada \"útil\", solo imprime valores para el usuario. Memoriza entonces esto: \"**return**\" devuelve un resultado para seguirlo usando en el programa principal, en cambio **print()** solo lo muestra en pantalla pero NO lo entrega al programa.  "
      ],
      "metadata": {
        "id": "kKPJP1iz7pyL"
      }
    },
    {
      "cell_type": "markdown",
      "source": [
        "✔ Recuerda que también está la opcion de definir una variable global utilizando la sentencia \"**global**\":"
      ],
      "metadata": {
        "id": "KVYwIQuV9G3A"
      }
    },
    {
      "cell_type": "code",
      "source": [
        "# variable global\n",
        "resultado = 0\n",
        "\n",
        "# definimos la funcion\n",
        "def sumar2(a, b):\n",
        "    global resultado   # avisamos que vamos a usar la global\n",
        "    resultado = a + b  # guardamos el valor en la variable global\n",
        "    print(resultado)   # lo mostramos en pantalla"
      ],
      "metadata": {
        "id": "ELq3cbnb9Qfo"
      },
      "execution_count": 5,
      "outputs": []
    },
    {
      "cell_type": "code",
      "source": [
        "# usamos la función\n",
        "sumar2(3, 5)      # 👉 imprime 8\n",
        "print(resultado) # 👉 también podemos acceder al valor guardado (8)"
      ],
      "metadata": {
        "colab": {
          "base_uri": "https://localhost:8080/"
        },
        "id": "Vd1GFeBN9Wuw",
        "outputId": "084c2ff6-63fc-4b4b-d56e-7349542879a2"
      },
      "execution_count": 6,
      "outputs": [
        {
          "output_type": "stream",
          "name": "stdout",
          "text": [
            "8\n",
            "8\n"
          ]
        }
      ]
    },
    {
      "cell_type": "markdown",
      "source": [
        "⚡¿Si notas cómo optimizamos el algoritmo con **return** comparado con **global**?"
      ],
      "metadata": {
        "id": "qnoaYbmr9jGY"
      }
    },
    {
      "cell_type": "markdown",
      "source": [
        "También podemos combinar global y return:"
      ],
      "metadata": {
        "id": "d7t_yqqO-CkX"
      }
    },
    {
      "cell_type": "code",
      "source": [
        "# definimos la función\n",
        "def multiplicar(a, b):\n",
        "    global resultado        # definimos la variable global\n",
        "    resultado = a * b       # guardamos el resultado en la global\n",
        "    return resultado        # además lo devolvemos"
      ],
      "metadata": {
        "id": "0psfbmIk-GTI"
      },
      "execution_count": 11,
      "outputs": []
    },
    {
      "cell_type": "code",
      "source": [
        "# Usamos la función\n",
        "multiplicar(4, 6)"
      ],
      "metadata": {
        "colab": {
          "base_uri": "https://localhost:8080/"
        },
        "id": "GERrLINJ-0-m",
        "outputId": "e26c156f-8b2b-4f99-8ac0-6019b5125146"
      },
      "execution_count": 15,
      "outputs": [
        {
          "output_type": "execute_result",
          "data": {
            "text/plain": [
              "24"
            ]
          },
          "metadata": {},
          "execution_count": 15
        }
      ]
    },
    {
      "cell_type": "code",
      "source": [
        "# podemos asignar el valor de la función a una variable\n",
        "valor = multiplicar(4, 6)\n",
        "print(\"Valor retornado:\", valor)       # 👉 imprime 24"
      ],
      "metadata": {
        "colab": {
          "base_uri": "https://localhost:8080/"
        },
        "id": "bU9nMIfc-Ivp",
        "outputId": "38a74e18-392c-4e21-d21d-1d89307ad33e"
      },
      "execution_count": 16,
      "outputs": [
        {
          "output_type": "stream",
          "name": "stdout",
          "text": [
            "Valor retornado: 24\n"
          ]
        }
      ]
    },
    {
      "cell_type": "code",
      "source": [
        "# Invocamos la variable global\n",
        "print(\"Valor en la global:\", resultado) # 👉 también 24"
      ],
      "metadata": {
        "colab": {
          "base_uri": "https://localhost:8080/"
        },
        "id": "9mc3GBdN_EUf",
        "outputId": "514581c1-1448-4513-fb89-f95ca34083ef"
      },
      "execution_count": 17,
      "outputs": [
        {
          "output_type": "stream",
          "name": "stdout",
          "text": [
            "Valor en la global: 24\n"
          ]
        }
      ]
    },
    {
      "cell_type": "markdown",
      "source": [
        "**Ejemplo:** Vamos a crear una función llamada cuadrado que recibe un parámetro de nombre \"x\" y que devuelve el resultado de multiplicar x por si mismo"
      ],
      "metadata": {
        "id": "jUzhfwOT_Xvu"
      }
    },
    {
      "cell_type": "code",
      "source": [
        "# Definimos la función\n",
        "def cuadrado(x):\n",
        "  resultado2 = x*x\n",
        "  return resultado2"
      ],
      "metadata": {
        "id": "ocFwKA7r_qvg"
      },
      "execution_count": 18,
      "outputs": []
    },
    {
      "cell_type": "code",
      "source": [
        "# Invocamos la función\n",
        "cuadrado(5)"
      ],
      "metadata": {
        "colab": {
          "base_uri": "https://localhost:8080/"
        },
        "id": "l3NhzZwG_-xe",
        "outputId": "1a1908c9-5546-4b6c-f987-4edf0d68447a"
      },
      "execution_count": 19,
      "outputs": [
        {
          "output_type": "execute_result",
          "data": {
            "text/plain": [
              "25"
            ]
          },
          "metadata": {},
          "execution_count": 19
        }
      ]
    },
    {
      "cell_type": "code",
      "source": [
        "cuadrado(3)"
      ],
      "metadata": {
        "colab": {
          "base_uri": "https://localhost:8080/"
        },
        "id": "iUrfAnJHAGz2",
        "outputId": "7bfd8585-9886-4ee4-8573-4c29b6f2a3ec"
      },
      "execution_count": 20,
      "outputs": [
        {
          "output_type": "execute_result",
          "data": {
            "text/plain": [
              "9"
            ]
          },
          "metadata": {},
          "execution_count": 20
        }
      ]
    },
    {
      "cell_type": "markdown",
      "source": [
        "☝ Incluyamos un input() en el programa principal"
      ],
      "metadata": {
        "id": "w4mWbR_YALee"
      }
    },
    {
      "cell_type": "code",
      "source": [
        "dato = int(input(\"Ingrese un número: \"))\n",
        "cuadrado(dato)"
      ],
      "metadata": {
        "colab": {
          "base_uri": "https://localhost:8080/"
        },
        "id": "DFLNFDipAcSu",
        "outputId": "fc72e485-267c-4aa9-d686-ee9d245bc5a8"
      },
      "execution_count": 21,
      "outputs": [
        {
          "name": "stdout",
          "output_type": "stream",
          "text": [
            "Ingrese un número: 2\n"
          ]
        },
        {
          "output_type": "execute_result",
          "data": {
            "text/plain": [
              "4"
            ]
          },
          "metadata": {},
          "execution_count": 21
        }
      ]
    },
    {
      "cell_type": "markdown",
      "source": [
        "▶ Ahora dentro de la función"
      ],
      "metadata": {
        "id": "wzjA96npAubV"
      }
    },
    {
      "cell_type": "code",
      "source": [
        "# Definimos la función\n",
        "def cuadrado2():\n",
        "  x = int(input(\"Ingrese un número: \"))\n",
        "  return x * x"
      ],
      "metadata": {
        "id": "e9o4vbBcAznl"
      },
      "execution_count": 29,
      "outputs": []
    },
    {
      "cell_type": "code",
      "source": [
        "# Invocamos la función\n",
        "cuadrado2()"
      ],
      "metadata": {
        "colab": {
          "base_uri": "https://localhost:8080/"
        },
        "id": "AJ-WimuyA_BV",
        "outputId": "7776e005-1243-48cd-db94-2473e60a1ff6"
      },
      "execution_count": 30,
      "outputs": [
        {
          "name": "stdout",
          "output_type": "stream",
          "text": [
            "Ingrese un número: 4\n"
          ]
        },
        {
          "output_type": "execute_result",
          "data": {
            "text/plain": [
              "16"
            ]
          },
          "metadata": {},
          "execution_count": 30
        }
      ]
    },
    {
      "cell_type": "markdown",
      "source": [
        "⚡Nota que como quería incluir el input dentro de la función, quité los parámetros de la función para que cuando la invoque Python no espere que indique un valor dentro de los paréntesis"
      ],
      "metadata": {
        "id": "YF1qHXxlByEM"
      }
    },
    {
      "cell_type": "markdown",
      "source": [
        "😧Ahora analiza este error:"
      ],
      "metadata": {
        "id": "IRS-BEohCvz7"
      }
    },
    {
      "cell_type": "code",
      "source": [
        "# Almacenar el valor que devuelve return al programa principal dentro de una variable\n",
        "resultado_cuadrado = cuadrado2()\n",
        "print(f'''{x} al cuadrado es {resultado_cuadrado}''')"
      ],
      "metadata": {
        "colab": {
          "base_uri": "https://localhost:8080/",
          "height": 193
        },
        "id": "rONRWmHfCK3M",
        "outputId": "a53937d2-e829-428a-fffc-2a3543623284"
      },
      "execution_count": 32,
      "outputs": [
        {
          "name": "stdout",
          "output_type": "stream",
          "text": [
            "Ingrese un número: 10\n"
          ]
        },
        {
          "output_type": "error",
          "ename": "NameError",
          "evalue": "name 'x' is not defined",
          "traceback": [
            "\u001b[0;31m---------------------------------------------------------------------------\u001b[0m",
            "\u001b[0;31mNameError\u001b[0m                                 Traceback (most recent call last)",
            "\u001b[0;32m/tmp/ipython-input-1136980531.py\u001b[0m in \u001b[0;36m<cell line: 0>\u001b[0;34m()\u001b[0m\n\u001b[1;32m      1\u001b[0m \u001b[0;31m# puedo almacenar el valor que devuelve return al programa principal dentro de una variable\u001b[0m\u001b[0;34m\u001b[0m\u001b[0;34m\u001b[0m\u001b[0m\n\u001b[1;32m      2\u001b[0m \u001b[0mresultado_cuadrado\u001b[0m \u001b[0;34m=\u001b[0m \u001b[0mcuadrado2\u001b[0m\u001b[0;34m(\u001b[0m\u001b[0;34m)\u001b[0m\u001b[0;34m\u001b[0m\u001b[0;34m\u001b[0m\u001b[0m\n\u001b[0;32m----> 3\u001b[0;31m \u001b[0mprint\u001b[0m\u001b[0;34m(\u001b[0m\u001b[0;34mf'''{x} al cuadrado es {resultado_cuadrado}'''\u001b[0m\u001b[0;34m)\u001b[0m\u001b[0;34m\u001b[0m\u001b[0;34m\u001b[0m\u001b[0m\n\u001b[0m",
            "\u001b[0;31mNameError\u001b[0m: name 'x' is not defined"
          ]
        }
      ]
    },
    {
      "cell_type": "markdown",
      "source": [
        "Eso ocurre porque no declaré \"x\" como una variable global"
      ],
      "metadata": {
        "id": "wHu2dvgVC-nj"
      }
    },
    {
      "cell_type": "code",
      "source": [
        "# Definimos la función\n",
        "def cuadrado3():\n",
        "  global x # necesito que esta variable se vea en el programa principal\n",
        "  x = int(input(\"Ingrese un número: \"))\n",
        "  return x * x # resultado de la función. Va a poder utilizarse en el programa principal"
      ],
      "metadata": {
        "id": "0Lv7tBJcDO4N"
      },
      "execution_count": 34,
      "outputs": []
    },
    {
      "cell_type": "code",
      "source": [
        "# La invocamos\n",
        "resultado_cuadrado = cuadrado3()\n",
        "print(f'''{x} al cuadrado es {resultado_cuadrado}''')"
      ],
      "metadata": {
        "colab": {
          "base_uri": "https://localhost:8080/"
        },
        "id": "1rmBZX_HDUW0",
        "outputId": "56ba4f04-b330-42bf-d6ec-b8b6731e1e2c"
      },
      "execution_count": 35,
      "outputs": [
        {
          "output_type": "stream",
          "name": "stdout",
          "text": [
            "Ingrese un número: 10\n",
            "10 al cuadrado es 100\n"
          ]
        }
      ]
    },
    {
      "cell_type": "markdown",
      "source": [
        "✌Espero te haya quedado claro por qué **return** y **global** son sentencias de gran utilidad dentro de las funciones."
      ],
      "metadata": {
        "id": "VNqREaj_D8qc"
      }
    }
  ]
}