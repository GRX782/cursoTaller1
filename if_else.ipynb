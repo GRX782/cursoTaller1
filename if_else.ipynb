{
  "nbformat": 4,
  "nbformat_minor": 0,
  "metadata": {
    "colab": {
      "provenance": [],
      "authorship_tag": "ABX9TyP2ImUZOj5NY4QRjMUw/GPT",
      "include_colab_link": true
    },
    "kernelspec": {
      "name": "python3",
      "display_name": "Python 3"
    },
    "language_info": {
      "name": "python"
    }
  },
  "cells": [
    {
      "cell_type": "markdown",
      "metadata": {
        "id": "view-in-github",
        "colab_type": "text"
      },
      "source": [
        "<a href=\"https://colab.research.google.com/github/GRX782/cursoTaller1/blob/main/if_else.ipynb\" target=\"_parent\"><img src=\"https://colab.research.google.com/assets/colab-badge.svg\" alt=\"Open In Colab\"/></a>"
      ]
    },
    {
      "cell_type": "markdown",
      "source": [
        "**Curso Taller 1** - Dr-Ing. José Andrés Araya Obando"
      ],
      "metadata": {
        "id": "sqtfzWOIZ-er"
      }
    },
    {
      "cell_type": "markdown",
      "source": [
        "⚡ En Python las sentencias if, elif y else son estructuras de control de flujo y funcionan de la siguiente manera <br>\n",
        "\n",
        "\n",
        "*   **if**: evalúa una primera condición\n",
        "*   **elif**: significa \"else if\", es decir, evalúa otra condición si la anterior fue falsa (de hecho, pueden ponerse varios elif)\n",
        "*   **else**: se ejecuta cuando ninguna de las condiciones anteriores se cumple\n"
      ],
      "metadata": {
        "id": "9mbW5RpGaB_r"
      }
    },
    {
      "cell_type": "markdown",
      "source": [
        "**Caso 1.** Estructuras de control de flujo dentro de una función"
      ],
      "metadata": {
        "id": "zekz6vPD55GM"
      }
    },
    {
      "cell_type": "code",
      "source": [
        "# Ejemplo 01\n",
        "def autorizacion (edad):\n",
        "  if edad >= 18:\n",
        "    print(\"Puedes ver la película\")\n",
        "  else:\n",
        "    print(\"Salado, no puedes entrar\")"
      ],
      "metadata": {
        "id": "_XrxnVx1_apm"
      },
      "execution_count": null,
      "outputs": []
    },
    {
      "cell_type": "code",
      "source": [
        "# invoco la función\n",
        "autorizacion(17)\n",
        "autorizacion(56)"
      ],
      "metadata": {
        "colab": {
          "base_uri": "https://localhost:8080/"
        },
        "id": "9q43eMlSAbeK",
        "outputId": "22fe8438-5639-449f-ee58-bb0171f20349"
      },
      "execution_count": null,
      "outputs": [
        {
          "output_type": "stream",
          "name": "stdout",
          "text": [
            "Salado, no puedes entrar\n",
            "Puedes ver la película\n"
          ]
        }
      ]
    },
    {
      "cell_type": "code",
      "source": [
        "autorizacion(23)"
      ],
      "metadata": {
        "colab": {
          "base_uri": "https://localhost:8080/"
        },
        "id": "sHVnjfyfAdfE",
        "outputId": "59c20f01-be43-4972-97aa-1d24c79f9218"
      },
      "execution_count": null,
      "outputs": [
        {
          "output_type": "stream",
          "name": "stdout",
          "text": [
            "Puedes ver la película\n"
          ]
        }
      ]
    },
    {
      "cell_type": "code",
      "source": [
        "print(autorizacion(17))"
      ],
      "metadata": {
        "colab": {
          "base_uri": "https://localhost:8080/"
        },
        "id": "4TrIGekSJpwN",
        "outputId": "22d1e4a6-354a-4770-fce5-348976e2720d"
      },
      "execution_count": null,
      "outputs": [
        {
          "output_type": "stream",
          "name": "stdout",
          "text": [
            "Salado, no puedes entrar\n",
            "None\n"
          ]
        }
      ]
    },
    {
      "cell_type": "markdown",
      "source": [
        "☣ Noten que la función tiene a lo interno un print(). Luego, al salir de la función, Python devuelve None. Si en el principal usamos otro print(...) también se imprime ese None. En ese caso es mejor utilir return."
      ],
      "metadata": {
        "id": "kEgVZ-FaJ6dz"
      }
    },
    {
      "cell_type": "markdown",
      "source": [
        "⚡ La sentencia **pass** le indica al computador que no haga nada"
      ],
      "metadata": {
        "id": "uWpEMGRiEDXL"
      }
    },
    {
      "cell_type": "code",
      "source": [
        "# Ejemplo 02\n",
        "def autorizacion2 (edad):\n",
        "  if edad >= 18:\n",
        "    pass\n",
        "  else:\n",
        "    print(\"No puedes entrar\")"
      ],
      "metadata": {
        "id": "EoUzPS1bEOUm"
      },
      "execution_count": null,
      "outputs": []
    },
    {
      "cell_type": "code",
      "source": [
        "# invoco la función"
      ],
      "metadata": {
        "id": "LbCIFqAUEqBg"
      },
      "execution_count": null,
      "outputs": []
    },
    {
      "cell_type": "code",
      "source": [
        "autorizacion2(17)"
      ],
      "metadata": {
        "colab": {
          "base_uri": "https://localhost:8080/"
        },
        "id": "_cZ94JKpEsFR",
        "outputId": "bc514b4e-12d5-4b27-ae69-165f76696037"
      },
      "execution_count": null,
      "outputs": [
        {
          "output_type": "stream",
          "name": "stdout",
          "text": [
            "No puedes entrar\n"
          ]
        }
      ]
    },
    {
      "cell_type": "code",
      "source": [
        "autorizacion2(23) # Como es mayor de edad no va a pasar nada"
      ],
      "metadata": {
        "id": "jk2Tq_KnEvJk"
      },
      "execution_count": null,
      "outputs": []
    },
    {
      "cell_type": "code",
      "source": [
        "# Ejemplo 03 -  varios elif\n",
        "def autorizacion3 (edad):\n",
        "  if edad >= 70:\n",
        "    return (\"Puedes ver la película gratis\")\n",
        "  elif 60 <= edad < 70:\n",
        "    return (\"Puedes ver la película con descuento\")\n",
        "  elif 18 <= edad < 60:\n",
        "    return (\"Puedes ver la película\")\n",
        "  else:\n",
        "    return (\"No puedes entrar\")"
      ],
      "metadata": {
        "id": "o47Lj2E6GbGu"
      },
      "execution_count": null,
      "outputs": []
    },
    {
      "cell_type": "code",
      "source": [
        "# invoco la función\n",
        "print(autorizacion3(71))\n",
        "print(autorizacion3(65))\n",
        "print(autorizacion3(33))\n",
        "print(autorizacion3(16))"
      ],
      "metadata": {
        "colab": {
          "base_uri": "https://localhost:8080/"
        },
        "id": "apEeD083HgT-",
        "outputId": "848d2528-f5a6-478e-cabc-59f5bc04120a"
      },
      "execution_count": null,
      "outputs": [
        {
          "output_type": "stream",
          "name": "stdout",
          "text": [
            "Puedes ver la película gratis\n",
            "Puedes ver la película con descuento\n",
            "Puedes ver la película\n",
            "No puedes entrar\n"
          ]
        }
      ]
    },
    {
      "cell_type": "code",
      "execution_count": null,
      "metadata": {
        "id": "DzncRbbEZCCw"
      },
      "outputs": [],
      "source": [
        "# Ejemplo 04\n",
        "def comparacion (num1,num2):\n",
        "  if num1 == num2:\n",
        "    print(\"Los números son iguales\")\n",
        "  elif num1 > num2:\n",
        "    print(\"El primer numero es mayor\")\n",
        "  else:\n",
        "    print(\"El segundo numero es mayor\")"
      ]
    },
    {
      "cell_type": "code",
      "source": [
        "# Invoco la función\n",
        "comparacion(3,5)"
      ],
      "metadata": {
        "colab": {
          "base_uri": "https://localhost:8080/"
        },
        "id": "Ns2QHwqf-282",
        "outputId": "82bf8e98-e9ff-41ed-daac-89b8aa5fac89"
      },
      "execution_count": null,
      "outputs": [
        {
          "output_type": "stream",
          "name": "stdout",
          "text": [
            "El segundo numero es mayor\n"
          ]
        }
      ]
    },
    {
      "cell_type": "code",
      "source": [
        "comparacion(15,5)"
      ],
      "metadata": {
        "colab": {
          "base_uri": "https://localhost:8080/"
        },
        "id": "IfVzen-w_CGr",
        "outputId": "b84d17f9-4293-45fe-9c23-867ab89d7a42"
      },
      "execution_count": null,
      "outputs": [
        {
          "output_type": "stream",
          "name": "stdout",
          "text": [
            "El primer numero es mayor\n"
          ]
        }
      ]
    },
    {
      "cell_type": "code",
      "source": [
        "comparacion(5,5)"
      ],
      "metadata": {
        "colab": {
          "base_uri": "https://localhost:8080/"
        },
        "id": "tBUz3ffiE9gW",
        "outputId": "fc46781d-0188-457d-9f37-5087a3b19baf"
      },
      "execution_count": null,
      "outputs": [
        {
          "output_type": "stream",
          "name": "stdout",
          "text": [
            "Los números son iguales\n"
          ]
        }
      ]
    },
    {
      "cell_type": "markdown",
      "source": [
        "**Caso 2.** Estructuras de control de flujo en el programa principal"
      ],
      "metadata": {
        "id": "_o6OZc8c5teN"
      }
    },
    {
      "cell_type": "code",
      "source": [
        "# Ejemplo 05\n",
        "x = 5\n",
        "\n",
        "if x > 0:\n",
        "    print(\"x es positivo\")\n",
        "elif x < 0:\n",
        "    print(\"x es negativo\")\n",
        "else:\n",
        "    print(\"x es cero\")"
      ],
      "metadata": {
        "colab": {
          "base_uri": "https://localhost:8080/"
        },
        "id": "Gx7lfztm5iBh",
        "outputId": "6b57d6d0-ead6-4a22-da43-929cacbfdd2f"
      },
      "execution_count": null,
      "outputs": [
        {
          "output_type": "stream",
          "name": "stdout",
          "text": [
            "x es positivo\n"
          ]
        }
      ]
    },
    {
      "cell_type": "code",
      "source": [
        "# Ejemplo 06\n",
        "nota = float(input(\"Ingrese su nota: \"))\n",
        "\n",
        "if nota >= 67.5:\n",
        "    print(\"Aprobado\")\n",
        "elif 60 <= nota < 67.5: # acá ingreso varias condiciones encadenadas a nota\n",
        "    print(\"Repo\")\n",
        "else :\n",
        "    print(\"Nos vemos el otro semestre\")"
      ],
      "metadata": {
        "colab": {
          "base_uri": "https://localhost:8080/"
        },
        "id": "1a9jyk8y6WZz",
        "outputId": "0f059e1b-37e5-449f-a636-95512d78a9a0"
      },
      "execution_count": null,
      "outputs": [
        {
          "output_type": "stream",
          "name": "stdout",
          "text": [
            "Ingrese su nota: 85\n",
            "Aprobado\n"
          ]
        }
      ]
    },
    {
      "cell_type": "markdown",
      "source": [
        "⏩ Acá te muestro lo que se llama \"condicionales anidados\""
      ],
      "metadata": {
        "id": "3_HogFc285rZ"
      }
    },
    {
      "cell_type": "markdown",
      "source": [
        "⏰ Un **condicional anidado** es cuando dentro de un bloque if, elif o else colocamos otro if. Se usa cuando la decisión depende de dos o más niveles de condiciones"
      ],
      "metadata": {
        "id": "e4WIU40h-k1E"
      }
    },
    {
      "cell_type": "code",
      "source": [
        "nota = float(input(\"Ingrese su nota: \"))\n",
        "\n",
        "# primero se pregunta si la nota es al menos 60,\n",
        "# y dentro de ese bloque se hace la segunda verificación.\n",
        "if nota >= 60:\n",
        "    if nota >= 67.5:\n",
        "        print(\"Aprobado\")\n",
        "    else:\n",
        "        print(\"Repo\")\n",
        "else:\n",
        "    print(\"Nos vemos el otro semestre\")\n"
      ],
      "metadata": {
        "colab": {
          "base_uri": "https://localhost:8080/"
        },
        "id": "kaMOVgQl9Kha",
        "outputId": "9ec5d5d9-5366-436b-bc6b-2b608afb7ef8"
      },
      "execution_count": null,
      "outputs": [
        {
          "output_type": "stream",
          "name": "stdout",
          "text": [
            "Ingrese su nota: 67\n",
            "Repo\n"
          ]
        }
      ]
    },
    {
      "cell_type": "markdown",
      "source": [
        "✅ Los condicionales anidados sirven para evaluar primero una condición general y luego otra más específica, haciendo el código más claro y permitiendo que siga una lógica ordenada."
      ],
      "metadata": {
        "id": "rqsNZTA9KbUh"
      }
    },
    {
      "cell_type": "markdown",
      "source": [
        "❌ Al usar condicionales anidados conviene no abusar de ellos, ya que el código se complica; en muchos casos es mejor usar elif y operadores lógicos. Además, deben usarse con claridad y siempre con la indentación correcta."
      ],
      "metadata": {
        "id": "KHpiULI5K9S_"
      }
    },
    {
      "cell_type": "code",
      "source": [
        "# otro ejemplo del uso de condicionales anidados\n",
        "def comparacion (num1,num2):\n",
        "  if num1 == num2:\n",
        "    print (f\"{num1} y {num2} son iguales\")\n",
        "  else:\n",
        "    if num1 > num2:\n",
        "      print(f\"{num1} es mayor que {num2}\")\n",
        "    else:\n",
        "      print(f\"{num2} es mayor que {num1}\")"
      ],
      "metadata": {
        "id": "1Alxjzvx6s4s"
      },
      "execution_count": 5,
      "outputs": []
    },
    {
      "cell_type": "code",
      "source": [
        "# se invoca la función\n",
        "comparacion(3,5)"
      ],
      "metadata": {
        "colab": {
          "base_uri": "https://localhost:8080/"
        },
        "id": "Oqp1wOaN7QWM",
        "outputId": "2c5772a5-c0a2-4685-f865-13cb86c29b5a"
      },
      "execution_count": 2,
      "outputs": [
        {
          "output_type": "stream",
          "name": "stdout",
          "text": [
            "5 es mayor que 3\n"
          ]
        }
      ]
    },
    {
      "cell_type": "code",
      "source": [
        "comparacion(15,5)"
      ],
      "metadata": {
        "colab": {
          "base_uri": "https://localhost:8080/"
        },
        "id": "eMQtEaVs8Mib",
        "outputId": "af5eefaa-5851-48f6-8560-18c88d442235"
      },
      "execution_count": 3,
      "outputs": [
        {
          "output_type": "stream",
          "name": "stdout",
          "text": [
            "15 es mayor que 5\n"
          ]
        }
      ]
    },
    {
      "cell_type": "code",
      "source": [
        "comparacion(4,4)"
      ],
      "metadata": {
        "colab": {
          "base_uri": "https://localhost:8080/"
        },
        "id": "ge6ubbrv8QGF",
        "outputId": "247667a6-acd4-4ea6-a990-01147f354ff7"
      },
      "execution_count": 6,
      "outputs": [
        {
          "output_type": "stream",
          "name": "stdout",
          "text": [
            "4 y 4 son iguales\n"
          ]
        }
      ]
    }
  ]
}