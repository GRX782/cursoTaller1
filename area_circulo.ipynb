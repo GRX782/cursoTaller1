{
  "nbformat": 4,
  "nbformat_minor": 0,
  "metadata": {
    "colab": {
      "provenance": [],
      "authorship_tag": "ABX9TyO9ECd3Upw3fGmtnGuMYDK/",
      "include_colab_link": true
    },
    "kernelspec": {
      "name": "python3",
      "display_name": "Python 3"
    },
    "language_info": {
      "name": "python"
    }
  },
  "cells": [
    {
      "cell_type": "markdown",
      "metadata": {
        "id": "view-in-github",
        "colab_type": "text"
      },
      "source": [
        "<a href=\"https://colab.research.google.com/github/GRX782/cursoTaller1/blob/main/area_circulo.ipynb\" target=\"_parent\"><img src=\"https://colab.research.google.com/assets/colab-badge.svg\" alt=\"Open In Colab\"/></a>"
      ]
    },
    {
      "cell_type": "markdown",
      "source": [
        "**Curso Taller 1** - Dr-Ing. José Andrés Araya Obando"
      ],
      "metadata": {
        "id": "iPXERR7x41Wl"
      }
    },
    {
      "cell_type": "markdown",
      "source": [
        "🏁 Acá te muestro un ejemplo para que practiques el tema de funciones."
      ],
      "metadata": {
        "id": "TkZpbDdfToHS"
      }
    },
    {
      "cell_type": "markdown",
      "source": [
        "**Instrucción**: Desarrollar una función que calcule el área de un círculo a partir de un radio."
      ],
      "metadata": {
        "id": "cVFXNaq0UC8j"
      }
    },
    {
      "cell_type": "code",
      "execution_count": null,
      "metadata": {
        "id": "7IhNevbAmo-n"
      },
      "outputs": [],
      "source": [
        "# Definir la función\n",
        "def area_circulo (r):\n",
        "  area = 3.14 * r * r\n",
        "  print(area)"
      ]
    },
    {
      "cell_type": "code",
      "source": [
        "# se invoca la función\n",
        "area_circulo(2)"
      ],
      "metadata": {
        "colab": {
          "base_uri": "https://localhost:8080/"
        },
        "id": "jjpURYfOm6Ut",
        "outputId": "a705e591-3746-4843-fe83-ac4823666568"
      },
      "execution_count": null,
      "outputs": [
        {
          "output_type": "stream",
          "name": "stdout",
          "text": [
            "12.56\n"
          ]
        }
      ]
    },
    {
      "cell_type": "code",
      "source": [
        "# Infortunadamente si bien imprime el valor, no queda almacenado en una variable\n",
        "print(area)"
      ],
      "metadata": {
        "colab": {
          "base_uri": "https://localhost:8080/",
          "height": 158
        },
        "id": "4PAGZMSvnAWJ",
        "outputId": "22c6b25d-35ec-4f86-b909-bad07efb1037"
      },
      "execution_count": null,
      "outputs": [
        {
          "output_type": "error",
          "ename": "NameError",
          "evalue": "name 'area' is not defined",
          "traceback": [
            "\u001b[0;31m---------------------------------------------------------------------------\u001b[0m",
            "\u001b[0;31mNameError\u001b[0m                                 Traceback (most recent call last)",
            "\u001b[0;32m/tmp/ipython-input-1454731837.py\u001b[0m in \u001b[0;36m<cell line: 0>\u001b[0;34m()\u001b[0m\n\u001b[1;32m      1\u001b[0m \u001b[0;31m# Infortunadamente si bien imprime el valor, no queda almacenado en una variable\u001b[0m\u001b[0;34m\u001b[0m\u001b[0;34m\u001b[0m\u001b[0m\n\u001b[0;32m----> 2\u001b[0;31m \u001b[0mprint\u001b[0m\u001b[0;34m(\u001b[0m\u001b[0marea\u001b[0m\u001b[0;34m)\u001b[0m\u001b[0;34m\u001b[0m\u001b[0;34m\u001b[0m\u001b[0m\n\u001b[0m",
            "\u001b[0;31mNameError\u001b[0m: name 'area' is not defined"
          ]
        }
      ]
    },
    {
      "cell_type": "code",
      "source": [
        "# Una forma de resolver eso es asignando el valor de la función a una variable\n",
        "# imaginen que quisieras usar el área para determinal el volumen de un cilindro\n",
        "# la sentencia print no te permitiría continuar\n",
        "area = area_circulo(2)"
      ],
      "metadata": {
        "colab": {
          "base_uri": "https://localhost:8080/"
        },
        "id": "MJ4XEvf1nLA9",
        "outputId": "bacdf325-5bc8-4b1d-c779-50df3ec2d5cf"
      },
      "execution_count": null,
      "outputs": [
        {
          "output_type": "stream",
          "name": "stdout",
          "text": [
            "12.56\n"
          ]
        }
      ]
    },
    {
      "cell_type": "code",
      "source": [
        "# No lo va a mostrar porque print() solo manda un mensaje\n",
        "# No es un valor\n",
        "print(area)"
      ],
      "metadata": {
        "colab": {
          "base_uri": "https://localhost:8080/"
        },
        "id": "MCs9iih3n1rB",
        "outputId": "8a7cf38c-5b4c-40a2-e8cc-3ded4dc29f70"
      },
      "execution_count": null,
      "outputs": [
        {
          "output_type": "stream",
          "name": "stdout",
          "text": [
            "None\n"
          ]
        }
      ]
    },
    {
      "cell_type": "code",
      "source": [
        "# La sentencia return si devuelve el valor al programa principal"
      ],
      "metadata": {
        "id": "yURI-l3bp1lx"
      },
      "execution_count": null,
      "outputs": []
    },
    {
      "cell_type": "code",
      "source": [
        "# Definir la función\n",
        "def area_circulo (r):\n",
        "  area = 3.14 * r * r\n",
        "  return area"
      ],
      "metadata": {
        "id": "nbSC7Pqdp8dA"
      },
      "execution_count": null,
      "outputs": []
    },
    {
      "cell_type": "code",
      "source": [
        "# invocamos la función\n",
        "area_circulo(2)"
      ],
      "metadata": {
        "colab": {
          "base_uri": "https://localhost:8080/"
        },
        "id": "S3YuW3aMqHHR",
        "outputId": "42e24b29-fde2-4122-a713-bf43fad547c4"
      },
      "execution_count": null,
      "outputs": [
        {
          "output_type": "execute_result",
          "data": {
            "text/plain": [
              "12.56"
            ]
          },
          "metadata": {},
          "execution_count": 14
        }
      ]
    },
    {
      "cell_type": "code",
      "source": [
        "# almacenamos el valor a una variable\n",
        "area = area_circulo(2)\n",
        "print(area)"
      ],
      "metadata": {
        "colab": {
          "base_uri": "https://localhost:8080/"
        },
        "id": "v0DF7TZjqf4u",
        "outputId": "4754ab76-43e0-4630-954f-6f72985f5c72"
      },
      "execution_count": null,
      "outputs": [
        {
          "output_type": "stream",
          "name": "stdout",
          "text": [
            "12.56\n"
          ]
        }
      ]
    },
    {
      "cell_type": "code",
      "source": [
        "# podemos abreviar esto con global\n",
        "def area_circulo (r):\n",
        "  global area\n",
        "  area = 3.14 * r * r\n",
        "  return area"
      ],
      "metadata": {
        "id": "whFLQsbtqaWa"
      },
      "execution_count": null,
      "outputs": []
    },
    {
      "cell_type": "code",
      "source": [
        "#incovamos la función\n",
        "area_circulo(2)"
      ],
      "metadata": {
        "colab": {
          "base_uri": "https://localhost:8080/"
        },
        "id": "WaxpmhlBqtTg",
        "outputId": "a269bf40-5f1d-47ac-bf3a-2461f32f8990"
      },
      "execution_count": null,
      "outputs": [
        {
          "output_type": "execute_result",
          "data": {
            "text/plain": [
              "12.56"
            ]
          },
          "metadata": {},
          "execution_count": 17
        }
      ]
    },
    {
      "cell_type": "code",
      "source": [
        "print(area)"
      ],
      "metadata": {
        "colab": {
          "base_uri": "https://localhost:8080/"
        },
        "id": "oghptozdqz-0",
        "outputId": "f2943f63-9632-4a3c-9765-e5316f2700fd"
      },
      "execution_count": null,
      "outputs": [
        {
          "output_type": "stream",
          "name": "stdout",
          "text": [
            "12.56\n"
          ]
        }
      ]
    }
  ]
}