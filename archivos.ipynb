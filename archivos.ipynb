{
  "nbformat": 4,
  "nbformat_minor": 0,
  "metadata": {
    "colab": {
      "provenance": [],
      "toc_visible": true,
      "authorship_tag": "ABX9TyOB8308+fKYUsgRqrRA5EqK",
      "include_colab_link": true
    },
    "kernelspec": {
      "name": "python3",
      "display_name": "Python 3"
    },
    "language_info": {
      "name": "python"
    }
  },
  "cells": [
    {
      "cell_type": "markdown",
      "metadata": {
        "id": "view-in-github",
        "colab_type": "text"
      },
      "source": [
        "<a href=\"https://colab.research.google.com/github/GRX782/cursoTaller1/blob/main/archivos.ipynb\" target=\"_parent\"><img src=\"https://colab.research.google.com/assets/colab-badge.svg\" alt=\"Open In Colab\"/></a>"
      ]
    },
    {
      "cell_type": "markdown",
      "source": [
        "**Curso Taller 1** - Dr-Ing. José Andrés Araya Obando"
      ],
      "metadata": {
        "id": "mkjv3ElZmM5g"
      }
    },
    {
      "cell_type": "markdown",
      "source": [
        "## **Práctica Archivos**"
      ],
      "metadata": {
        "id": "srGkWsE-i07E"
      }
    },
    {
      "cell_type": "markdown",
      "source": [
        "✅ Con esta práctica aprenderás a gestionar archivos de trabajo. <br> Esto lo vamos a estar utilizando muchas veces durante el desarrollo del curso."
      ],
      "metadata": {
        "id": "ORwAfGfDjRZE"
      }
    },
    {
      "cell_type": "markdown",
      "source": [
        "Respecto a las celdas de texto ..."
      ],
      "metadata": {
        "id": "MMm34SgHdtKg"
      }
    },
    {
      "cell_type": "markdown",
      "source": [
        "🥸 Cuando estamos escribiendo celdas de texto en Colab, en realidad usamos un lenguaje llamado **Markdown**, *el cual permite escribir texto con formato (negrita, listas, títulos, etc.) de manera sencilla.*"
      ],
      "metadata": {
        "id": "zvKk2-jAfDGP"
      }
    },
    {
      "cell_type": "markdown",
      "source": [
        "👉 El problema es que en Markdown, Enter no siempre significa un salto de línea (a veces sigue en el mismo párrafo). Para forzar que algo quede en la siguiente línea, podemos usar `<br>` = código de HTML que significa “break” (salto de línea)."
      ],
      "metadata": {
        "id": "uNkphyHHfzKW"
      }
    },
    {
      "cell_type": "markdown",
      "source": [
        "## Gestión del archivo de trabajo"
      ],
      "metadata": {
        "id": "RUoFLpGtil7N"
      }
    },
    {
      "cell_type": "markdown",
      "source": [
        "**Ejercicio 01 - Memoria**"
      ],
      "metadata": {
        "id": "3NyZbMmr80zc"
      }
    },
    {
      "cell_type": "markdown",
      "source": [
        "**Paso 1.** Abre el CMD ⏩ (Windows + R, escribe cmd)"
      ],
      "metadata": {
        "id": "l9e6yK_gmida"
      }
    },
    {
      "cell_type": "markdown",
      "source": [
        "**Paso 2.** Pregúntale a tu computadora ¿cuál es la capacidad de memoria instalada?"
      ],
      "metadata": {
        "id": "zNOr1HEEm79y"
      }
    },
    {
      "cell_type": "code",
      "source": [
        "wmic computersystem get TotalPhysicalMemory"
      ],
      "metadata": {
        "id": "A1MQxdW1nGVJ"
      },
      "execution_count": null,
      "outputs": []
    },
    {
      "cell_type": "markdown",
      "source": [
        "☹ ¿Recuerdas en qué unidades está representando esa respuesta?"
      ],
      "metadata": {
        "id": "iHYj1UtCnqzp"
      }
    },
    {
      "cell_type": "markdown",
      "source": [
        "**Paso 3.** Descarga el archivo \"*memoria.txt*\" de mi GitHub."
      ],
      "metadata": {
        "id": "n-qOZ5rjiAdd"
      }
    },
    {
      "cell_type": "markdown",
      "source": [
        "▶ Otra forma es que en el preview sencillamente copies el texto y lo pases a un archivo \"*.txt*\" nuevo (abre la aplicación \"*Block de notas*\")"
      ],
      "metadata": {
        "id": "Cb10piNNtZYs"
      }
    },
    {
      "cell_type": "markdown",
      "source": [
        "**Paso 4.** abre el prompt de python desde la terminal"
      ],
      "metadata": {
        "id": "Cx-dZd5LoP35"
      }
    },
    {
      "cell_type": "code",
      "source": [
        "python"
      ],
      "metadata": {
        "id": "TMMGBBE0ohQw"
      },
      "execution_count": null,
      "outputs": []
    },
    {
      "cell_type": "markdown",
      "source": [
        "**Paso 5.** Copia el texto en el prompt con \"Ctrl+v\" y le das \"*Enter*\""
      ],
      "metadata": {
        "id": "ngVwli5QuTIc"
      }
    },
    {
      "cell_type": "markdown",
      "source": [
        "⏰ Reflexiona: compara esta salida con la del paso 2. ¿Mejoró? ¿La respuesta te brinda más contexto?"
      ],
      "metadata": {
        "id": "sBQn6zR1ur2i"
      }
    },
    {
      "cell_type": "markdown",
      "source": [
        "**Paso 6.** Debes salir del prompt en la terminal CMD"
      ],
      "metadata": {
        "id": "OHyMI3InvAop"
      }
    },
    {
      "cell_type": "code",
      "source": [
        "exit()"
      ],
      "metadata": {
        "id": "SlqG-hlKvMGb"
      },
      "execution_count": null,
      "outputs": []
    },
    {
      "cell_type": "markdown",
      "source": [
        "**Paso 7.** Ver la carpeta actual del CMD"
      ],
      "metadata": {
        "id": "yHay2tfevjvz"
      }
    },
    {
      "cell_type": "code",
      "source": [
        "cd"
      ],
      "metadata": {
        "id": "TX73whIbvuxR"
      },
      "execution_count": null,
      "outputs": []
    },
    {
      "cell_type": "markdown",
      "source": [
        "**Paso 8.** Abre el archivo *\"memoria.txt\"* y dale salvar como \"*memoria.py*\""
      ],
      "metadata": {
        "id": "AEimP97GwirC"
      }
    },
    {
      "cell_type": "markdown",
      "source": [
        "✅ Consúltale a la IA ¿qué es un archivo \".py\" y que relación tiene con los archivos \".txt\"?"
      ],
      "metadata": {
        "id": "wyR1IZuhvws6"
      }
    },
    {
      "cell_type": "markdown",
      "source": [
        "**Paso 9.** Guarda el archivo \"memoria.py\" en el directorio de trabajo del cmd que consultaste en el paso 7."
      ],
      "metadata": {
        "id": "avzs5o6TxSGv"
      }
    },
    {
      "cell_type": "markdown",
      "source": [
        "**Paso 10.** Abre el archivo \".py\" desde el CMD. Para ello, ejecuta esta instrucción:"
      ],
      "metadata": {
        "id": "9g6RUOy5xpF_"
      }
    },
    {
      "cell_type": "code",
      "source": [
        "python memoria.py"
      ],
      "metadata": {
        "id": "Xeqp0-Ikx203"
      },
      "execution_count": null,
      "outputs": []
    },
    {
      "cell_type": "markdown",
      "source": [
        "⚡Te acabo de enseñar algo muy útil. Cuando tenemos que correr una tarea en el CMD, para evitar estar escribiendo muchas lineas de código desde la terminal (lo cual resulta muy tedioso), puedes crear un \".py\" a partir de un \".txt\" y sencillamente invocarlo desde desde el CMD (no hace falta abrir el prompt)"
      ],
      "metadata": {
        "id": "romf-KuDyjPo"
      }
    },
    {
      "cell_type": "markdown",
      "source": [
        "✅ Los archivos que se ejecutan desde la terminal y contienen código para realizar tareas complejas se llaman \"scripts\". Pídele a la IA que te explique más acerca de esto (comprende qué son archivos \".bat\", \".cmd\",\".ps1\" y \".sh\")"
      ],
      "metadata": {
        "id": "SOl2DB3ezgfP"
      }
    },
    {
      "cell_type": "markdown",
      "source": [
        "**Paso 11.** Vamos a consultar acerca de la memoria pero desde acá mismo, es decir, del Notebook"
      ],
      "metadata": {
        "id": "_9erwfZU0WV9"
      }
    },
    {
      "cell_type": "markdown",
      "source": [
        "☣ Primero debes comprender que en Colab **estamos sobre Linux**, no sobre Windows (¡así como lo escuchaste!) <br> <br> ❌El comando wmic que aparece en la sentencia del paso 2 solo existe en Windows, así que el script memoria.py que preparaste con os.popen(\"wmic ...\") no puede correr en Colab.   "
      ],
      "metadata": {
        "id": "8-msirAmchPg"
      }
    },
    {
      "cell_type": "code",
      "source": [
        "# Intentar importar psutil; si no está, instalar en silencio y reintentar\n",
        "try:\n",
        "    import psutil, time\n",
        "except ImportError:\n",
        "    !pip install -q psutil\n",
        "    import psutil, time\n",
        "\n",
        "print(\"Consultando la memoria física instalada en el entorno de Colab...\")\n",
        "\n",
        "# Pequeño \"reloj\" animado\n",
        "for c in \"|/-\\\\\":\n",
        "    print(f\"\\rPor favor espere... {c}\", end=\"\")\n",
        "    time.sleep(0.3)\n",
        "\n",
        "# Obtener memoria total y disponible en GB\n",
        "vm = psutil.virtual_memory()\n",
        "total_gb = vm.total / (1024**3)\n",
        "avail_gb = vm.available / (1024**3)\n",
        "used_gb  = (vm.total - vm.available) / (1024**3)\n",
        "pct_used = (vm.total - vm.available) / vm.total * 100\n",
        "\n",
        "print(\"\\nLa memoria total del entorno es: {:.2f} GB\".format(total_gb))\n",
        "print(\"Memoria en uso: {:.2f} GB ({:.2f}%)\".format(used_gb, pct_used))\n",
        "print(\"Memoria disponible: {:.2f} GB\".format(avail_gb))\n"
      ],
      "metadata": {
        "colab": {
          "base_uri": "https://localhost:8080/"
        },
        "id": "fnRVWN5pVrVX",
        "outputId": "2eb2fb86-bd84-48c7-ea30-4a278f221598"
      },
      "execution_count": 43,
      "outputs": [
        {
          "output_type": "stream",
          "name": "stdout",
          "text": [
            "Consultando la memoria física instalada en el entorno de Colab...\n",
            "Por favor espere... \\\n",
            "La memoria total del entorno es: 12.67 GB\n",
            "Memoria en uso: 1.27 GB (10.05%)\n",
            "Memoria disponible: 11.40 GB\n"
          ]
        }
      ]
    },
    {
      "cell_type": "markdown",
      "source": [
        "❗El script que corrimos desde la terminal devuelve la memoria física total instalada en la computadora (la RAM completa que tienes en tu equipo). En cambio, el script en colab (psutil.virtual_memory) no está midiendo la RAM física real del equipo en donde corres, sino la \"memoria virtual\" asignada por el entorno de Google Colab. En otras palabras, Colab te da una máquina virtual con una cuota de memoria limitada y no tiene acceso al hardware real de tu notebook, solo a los recursos que asigna a la sesión."
      ],
      "metadata": {
        "id": "hynnhjqb2SQb"
      }
    },
    {
      "cell_type": "markdown",
      "source": [
        "⚠ En mi caso, pese a que tengo una RAM de 31.79 GB la RAM disponible dentro de la máquina virtual de Colab es de 12.67 GB. Acá entra tu análisis costo beneficio de trabajar directamente en un IDE o seguir por acá."
      ],
      "metadata": {
        "id": "iXKfIrHR3W9y"
      }
    },
    {
      "cell_type": "markdown",
      "source": [
        "# **Archivos \".csv\"**"
      ],
      "metadata": {
        "id": "_IIXzQjA8j-2"
      }
    },
    {
      "cell_type": "markdown",
      "source": [
        "**Paso 1.** Descarga de mi GitHub el archivo \"*01-vivienda_2pisos_csv.csv*\""
      ],
      "metadata": {
        "id": "VMzQcIYj9afN"
      }
    },
    {
      "cell_type": "markdown",
      "source": [
        "**Paso 2.** Guarda el archivo en el Google Drive con el nombre \"01-vivienda_2pisos_csv_utf-8\" y guárdalo como  CSV UTF-8 (delimitado por comas)(*.csv) en la lista de tipos de archivo."
      ],
      "metadata": {
        "id": "VnAIjPfd-rj6"
      }
    },
    {
      "cell_type": "markdown",
      "source": [
        "**Paso 3.** Subir el archivo directamente"
      ],
      "metadata": {
        "id": "X0nWxqd19uXE"
      }
    },
    {
      "cell_type": "code",
      "source": [
        "from google.colab import files\n",
        "import io, pandas as pd\n",
        "\n",
        "print(\"Selecciona tu archivo CSV…\")\n",
        "uploaded = files.upload()  # abre el selector; elige tu CSV\n",
        "\n",
        "# Tomar el primer archivo subido\n",
        "name = list(uploaded.keys())[0]\n",
        "\n",
        "# Intento robusto de lectura con codificación\n",
        "for enc in (\"utf-8\", \"latin1\", \"cp1252\"):\n",
        "    try:\n",
        "        df = pd.read_csv(io.BytesIO(uploaded[name]), encoding=enc)\n",
        "        print(f\"✅ Archivo leído con encoding: {enc}\")\n",
        "        break\n",
        "    except UnicodeDecodeError:\n",
        "        continue\n",
        "else:\n",
        "    raise UnicodeDecodeError(\"No se pudo leer el CSV con utf-8/latin1/cp1252. Verifica la codificación.\")\n",
        "\n",
        "print(\"Columnas del archivo:\", list(df.columns))\n",
        "display(df.head(20))\n"
      ],
      "metadata": {
        "colab": {
          "base_uri": "https://localhost:8080/",
          "height": 784
        },
        "id": "UgUEVPo0GhQu",
        "outputId": "a01d9a1f-2a7a-4b74-ff10-e96f1a5bbd11"
      },
      "execution_count": 41,
      "outputs": [
        {
          "output_type": "stream",
          "name": "stdout",
          "text": [
            "Selecciona tu archivo CSV…\n"
          ]
        },
        {
          "output_type": "display_data",
          "data": {
            "text/plain": [
              "<IPython.core.display.HTML object>"
            ],
            "text/html": [
              "\n",
              "     <input type=\"file\" id=\"files-d4d6be4f-5422-422e-ae72-2c7927fd3d13\" name=\"files[]\" multiple disabled\n",
              "        style=\"border:none\" />\n",
              "     <output id=\"result-d4d6be4f-5422-422e-ae72-2c7927fd3d13\">\n",
              "      Upload widget is only available when the cell has been executed in the\n",
              "      current browser session. Please rerun this cell to enable.\n",
              "      </output>\n",
              "      <script>// Copyright 2017 Google LLC\n",
              "//\n",
              "// Licensed under the Apache License, Version 2.0 (the \"License\");\n",
              "// you may not use this file except in compliance with the License.\n",
              "// You may obtain a copy of the License at\n",
              "//\n",
              "//      http://www.apache.org/licenses/LICENSE-2.0\n",
              "//\n",
              "// Unless required by applicable law or agreed to in writing, software\n",
              "// distributed under the License is distributed on an \"AS IS\" BASIS,\n",
              "// WITHOUT WARRANTIES OR CONDITIONS OF ANY KIND, either express or implied.\n",
              "// See the License for the specific language governing permissions and\n",
              "// limitations under the License.\n",
              "\n",
              "/**\n",
              " * @fileoverview Helpers for google.colab Python module.\n",
              " */\n",
              "(function(scope) {\n",
              "function span(text, styleAttributes = {}) {\n",
              "  const element = document.createElement('span');\n",
              "  element.textContent = text;\n",
              "  for (const key of Object.keys(styleAttributes)) {\n",
              "    element.style[key] = styleAttributes[key];\n",
              "  }\n",
              "  return element;\n",
              "}\n",
              "\n",
              "// Max number of bytes which will be uploaded at a time.\n",
              "const MAX_PAYLOAD_SIZE = 100 * 1024;\n",
              "\n",
              "function _uploadFiles(inputId, outputId) {\n",
              "  const steps = uploadFilesStep(inputId, outputId);\n",
              "  const outputElement = document.getElementById(outputId);\n",
              "  // Cache steps on the outputElement to make it available for the next call\n",
              "  // to uploadFilesContinue from Python.\n",
              "  outputElement.steps = steps;\n",
              "\n",
              "  return _uploadFilesContinue(outputId);\n",
              "}\n",
              "\n",
              "// This is roughly an async generator (not supported in the browser yet),\n",
              "// where there are multiple asynchronous steps and the Python side is going\n",
              "// to poll for completion of each step.\n",
              "// This uses a Promise to block the python side on completion of each step,\n",
              "// then passes the result of the previous step as the input to the next step.\n",
              "function _uploadFilesContinue(outputId) {\n",
              "  const outputElement = document.getElementById(outputId);\n",
              "  const steps = outputElement.steps;\n",
              "\n",
              "  const next = steps.next(outputElement.lastPromiseValue);\n",
              "  return Promise.resolve(next.value.promise).then((value) => {\n",
              "    // Cache the last promise value to make it available to the next\n",
              "    // step of the generator.\n",
              "    outputElement.lastPromiseValue = value;\n",
              "    return next.value.response;\n",
              "  });\n",
              "}\n",
              "\n",
              "/**\n",
              " * Generator function which is called between each async step of the upload\n",
              " * process.\n",
              " * @param {string} inputId Element ID of the input file picker element.\n",
              " * @param {string} outputId Element ID of the output display.\n",
              " * @return {!Iterable<!Object>} Iterable of next steps.\n",
              " */\n",
              "function* uploadFilesStep(inputId, outputId) {\n",
              "  const inputElement = document.getElementById(inputId);\n",
              "  inputElement.disabled = false;\n",
              "\n",
              "  const outputElement = document.getElementById(outputId);\n",
              "  outputElement.innerHTML = '';\n",
              "\n",
              "  const pickedPromise = new Promise((resolve) => {\n",
              "    inputElement.addEventListener('change', (e) => {\n",
              "      resolve(e.target.files);\n",
              "    });\n",
              "  });\n",
              "\n",
              "  const cancel = document.createElement('button');\n",
              "  inputElement.parentElement.appendChild(cancel);\n",
              "  cancel.textContent = 'Cancel upload';\n",
              "  const cancelPromise = new Promise((resolve) => {\n",
              "    cancel.onclick = () => {\n",
              "      resolve(null);\n",
              "    };\n",
              "  });\n",
              "\n",
              "  // Wait for the user to pick the files.\n",
              "  const files = yield {\n",
              "    promise: Promise.race([pickedPromise, cancelPromise]),\n",
              "    response: {\n",
              "      action: 'starting',\n",
              "    }\n",
              "  };\n",
              "\n",
              "  cancel.remove();\n",
              "\n",
              "  // Disable the input element since further picks are not allowed.\n",
              "  inputElement.disabled = true;\n",
              "\n",
              "  if (!files) {\n",
              "    return {\n",
              "      response: {\n",
              "        action: 'complete',\n",
              "      }\n",
              "    };\n",
              "  }\n",
              "\n",
              "  for (const file of files) {\n",
              "    const li = document.createElement('li');\n",
              "    li.append(span(file.name, {fontWeight: 'bold'}));\n",
              "    li.append(span(\n",
              "        `(${file.type || 'n/a'}) - ${file.size} bytes, ` +\n",
              "        `last modified: ${\n",
              "            file.lastModifiedDate ? file.lastModifiedDate.toLocaleDateString() :\n",
              "                                    'n/a'} - `));\n",
              "    const percent = span('0% done');\n",
              "    li.appendChild(percent);\n",
              "\n",
              "    outputElement.appendChild(li);\n",
              "\n",
              "    const fileDataPromise = new Promise((resolve) => {\n",
              "      const reader = new FileReader();\n",
              "      reader.onload = (e) => {\n",
              "        resolve(e.target.result);\n",
              "      };\n",
              "      reader.readAsArrayBuffer(file);\n",
              "    });\n",
              "    // Wait for the data to be ready.\n",
              "    let fileData = yield {\n",
              "      promise: fileDataPromise,\n",
              "      response: {\n",
              "        action: 'continue',\n",
              "      }\n",
              "    };\n",
              "\n",
              "    // Use a chunked sending to avoid message size limits. See b/62115660.\n",
              "    let position = 0;\n",
              "    do {\n",
              "      const length = Math.min(fileData.byteLength - position, MAX_PAYLOAD_SIZE);\n",
              "      const chunk = new Uint8Array(fileData, position, length);\n",
              "      position += length;\n",
              "\n",
              "      const base64 = btoa(String.fromCharCode.apply(null, chunk));\n",
              "      yield {\n",
              "        response: {\n",
              "          action: 'append',\n",
              "          file: file.name,\n",
              "          data: base64,\n",
              "        },\n",
              "      };\n",
              "\n",
              "      let percentDone = fileData.byteLength === 0 ?\n",
              "          100 :\n",
              "          Math.round((position / fileData.byteLength) * 100);\n",
              "      percent.textContent = `${percentDone}% done`;\n",
              "\n",
              "    } while (position < fileData.byteLength);\n",
              "  }\n",
              "\n",
              "  // All done.\n",
              "  yield {\n",
              "    response: {\n",
              "      action: 'complete',\n",
              "    }\n",
              "  };\n",
              "}\n",
              "\n",
              "scope.google = scope.google || {};\n",
              "scope.google.colab = scope.google.colab || {};\n",
              "scope.google.colab._files = {\n",
              "  _uploadFiles,\n",
              "  _uploadFilesContinue,\n",
              "};\n",
              "})(self);\n",
              "</script> "
            ]
          },
          "metadata": {}
        },
        {
          "output_type": "stream",
          "name": "stdout",
          "text": [
            "Saving 01-vivienda_2pisos_csv_utf-8.csv to 01-vivienda_2pisos_csv_utf-8 (2).csv\n",
            "✅ Archivo leído con encoding: utf-8\n",
            "Columnas del archivo: ['Partida', 'Subpartida', 'Unidad', 'Cantidad', 'Observaciones/Supuestos']\n"
          ]
        },
        {
          "output_type": "display_data",
          "data": {
            "text/plain": [
              "                   Partida                                         Subpartida  \\\n",
              "0             Preliminares                 Limpieza y preparación del terreno   \n",
              "1             Preliminares                               Trazado y nivelación   \n",
              "2             Preliminares                 Servicios provisionales y andamios   \n",
              "3              Cimentación         Excavación de zapatas y vigas de fundación   \n",
              "4              Cimentación  Sustitución de suelo (10 cm) con material comp...   \n",
              "5              Cimentación                       Concreto ciclópeo en zapatas   \n",
              "6              Cimentación                     Vigas de fundación en concreto   \n",
              "7              Cimentación                   Acero de refuerzo en cimentación   \n",
              "8               Estructura                        Columnas de concreto armado   \n",
              "9               Estructura                Entrepisos tipo vigueta y bovedilla   \n",
              "10              Estructura                        Escalera de concreto armado   \n",
              "11              Estructura                                        Viga corona   \n",
              "12  Estructura - Aberturas           Mochetas/Jambas de puertas (0.15x0.20 m)   \n",
              "13  Estructura - Aberturas                  Dinteles de puertas (0.15x0.20 m)   \n",
              "14  Estructura - Aberturas          Mochetas/Jambas de ventanas (0.15x0.20 m)   \n",
              "15  Estructura - Aberturas                 Dinteles de ventanas (0.15x0.20 m)   \n",
              "16  Estructura - Aberturas           Acero de refuerzo en mochetas y dinteles   \n",
              "17             Mampostería                     Bloque de concreto 15x20x40 cm   \n",
              "18             Mampostería            Refuerzo horizontal y vertical en muros   \n",
              "19             Mampostería                                    Mortero de pega   \n",
              "\n",
              "   Unidad  Cantidad           Observaciones/Supuestos  \n",
              "0      m²   150.000             Área de lote estimada  \n",
              "1      m²   150.000   Según huella + áreas exteriores  \n",
              "2     glb     1.000  Incluye seguridad y señalización  \n",
              "3      m³    40.000             Profundidades típicas  \n",
              "4      m³     7.500          0.10 m x 75 m² de huella  \n",
              "5      m³    25.000                               NaN  \n",
              "6      m³    12.000                               NaN  \n",
              "7     ton     2.500                               NaN  \n",
              "8      m³    20.000                               NaN  \n",
              "9      m²    75.000          Incluye losa colaborante  \n",
              "10     ud     1.000              12-14 huellas aprox.  \n",
              "11     m³    25.000                               NaN  \n",
              "12     m³     1.010       8 puertas; 2 jambas x 2.1 m  \n",
              "13     m³     0.288            8 puertas; luz ? 1.2 m  \n",
              "14     m³     1.008         12 ventanas; alto ? 1.4 m  \n",
              "15     m³     0.540          12 ventanas; luz ? 1.5 m  \n",
              "16    ton     0.300            Estimado 100-120 kg/m³  \n",
              "17     m²   350.000                               NaN  \n",
              "18    ton     0.800                               NaN  \n",
              "19     m³    12.000                               NaN  "
            ],
            "text/html": [
              "\n",
              "  <div id=\"df-62cb4903-1300-4d44-a677-cf43900093a5\" class=\"colab-df-container\">\n",
              "    <div>\n",
              "<style scoped>\n",
              "    .dataframe tbody tr th:only-of-type {\n",
              "        vertical-align: middle;\n",
              "    }\n",
              "\n",
              "    .dataframe tbody tr th {\n",
              "        vertical-align: top;\n",
              "    }\n",
              "\n",
              "    .dataframe thead th {\n",
              "        text-align: right;\n",
              "    }\n",
              "</style>\n",
              "<table border=\"1\" class=\"dataframe\">\n",
              "  <thead>\n",
              "    <tr style=\"text-align: right;\">\n",
              "      <th></th>\n",
              "      <th>Partida</th>\n",
              "      <th>Subpartida</th>\n",
              "      <th>Unidad</th>\n",
              "      <th>Cantidad</th>\n",
              "      <th>Observaciones/Supuestos</th>\n",
              "    </tr>\n",
              "  </thead>\n",
              "  <tbody>\n",
              "    <tr>\n",
              "      <th>0</th>\n",
              "      <td>Preliminares</td>\n",
              "      <td>Limpieza y preparación del terreno</td>\n",
              "      <td>m²</td>\n",
              "      <td>150.000</td>\n",
              "      <td>Área de lote estimada</td>\n",
              "    </tr>\n",
              "    <tr>\n",
              "      <th>1</th>\n",
              "      <td>Preliminares</td>\n",
              "      <td>Trazado y nivelación</td>\n",
              "      <td>m²</td>\n",
              "      <td>150.000</td>\n",
              "      <td>Según huella + áreas exteriores</td>\n",
              "    </tr>\n",
              "    <tr>\n",
              "      <th>2</th>\n",
              "      <td>Preliminares</td>\n",
              "      <td>Servicios provisionales y andamios</td>\n",
              "      <td>glb</td>\n",
              "      <td>1.000</td>\n",
              "      <td>Incluye seguridad y señalización</td>\n",
              "    </tr>\n",
              "    <tr>\n",
              "      <th>3</th>\n",
              "      <td>Cimentación</td>\n",
              "      <td>Excavación de zapatas y vigas de fundación</td>\n",
              "      <td>m³</td>\n",
              "      <td>40.000</td>\n",
              "      <td>Profundidades típicas</td>\n",
              "    </tr>\n",
              "    <tr>\n",
              "      <th>4</th>\n",
              "      <td>Cimentación</td>\n",
              "      <td>Sustitución de suelo (10 cm) con material comp...</td>\n",
              "      <td>m³</td>\n",
              "      <td>7.500</td>\n",
              "      <td>0.10 m x 75 m² de huella</td>\n",
              "    </tr>\n",
              "    <tr>\n",
              "      <th>5</th>\n",
              "      <td>Cimentación</td>\n",
              "      <td>Concreto ciclópeo en zapatas</td>\n",
              "      <td>m³</td>\n",
              "      <td>25.000</td>\n",
              "      <td>NaN</td>\n",
              "    </tr>\n",
              "    <tr>\n",
              "      <th>6</th>\n",
              "      <td>Cimentación</td>\n",
              "      <td>Vigas de fundación en concreto</td>\n",
              "      <td>m³</td>\n",
              "      <td>12.000</td>\n",
              "      <td>NaN</td>\n",
              "    </tr>\n",
              "    <tr>\n",
              "      <th>7</th>\n",
              "      <td>Cimentación</td>\n",
              "      <td>Acero de refuerzo en cimentación</td>\n",
              "      <td>ton</td>\n",
              "      <td>2.500</td>\n",
              "      <td>NaN</td>\n",
              "    </tr>\n",
              "    <tr>\n",
              "      <th>8</th>\n",
              "      <td>Estructura</td>\n",
              "      <td>Columnas de concreto armado</td>\n",
              "      <td>m³</td>\n",
              "      <td>20.000</td>\n",
              "      <td>NaN</td>\n",
              "    </tr>\n",
              "    <tr>\n",
              "      <th>9</th>\n",
              "      <td>Estructura</td>\n",
              "      <td>Entrepisos tipo vigueta y bovedilla</td>\n",
              "      <td>m²</td>\n",
              "      <td>75.000</td>\n",
              "      <td>Incluye losa colaborante</td>\n",
              "    </tr>\n",
              "    <tr>\n",
              "      <th>10</th>\n",
              "      <td>Estructura</td>\n",
              "      <td>Escalera de concreto armado</td>\n",
              "      <td>ud</td>\n",
              "      <td>1.000</td>\n",
              "      <td>12-14 huellas aprox.</td>\n",
              "    </tr>\n",
              "    <tr>\n",
              "      <th>11</th>\n",
              "      <td>Estructura</td>\n",
              "      <td>Viga corona</td>\n",
              "      <td>m³</td>\n",
              "      <td>25.000</td>\n",
              "      <td>NaN</td>\n",
              "    </tr>\n",
              "    <tr>\n",
              "      <th>12</th>\n",
              "      <td>Estructura - Aberturas</td>\n",
              "      <td>Mochetas/Jambas de puertas (0.15x0.20 m)</td>\n",
              "      <td>m³</td>\n",
              "      <td>1.010</td>\n",
              "      <td>8 puertas; 2 jambas x 2.1 m</td>\n",
              "    </tr>\n",
              "    <tr>\n",
              "      <th>13</th>\n",
              "      <td>Estructura - Aberturas</td>\n",
              "      <td>Dinteles de puertas (0.15x0.20 m)</td>\n",
              "      <td>m³</td>\n",
              "      <td>0.288</td>\n",
              "      <td>8 puertas; luz ? 1.2 m</td>\n",
              "    </tr>\n",
              "    <tr>\n",
              "      <th>14</th>\n",
              "      <td>Estructura - Aberturas</td>\n",
              "      <td>Mochetas/Jambas de ventanas (0.15x0.20 m)</td>\n",
              "      <td>m³</td>\n",
              "      <td>1.008</td>\n",
              "      <td>12 ventanas; alto ? 1.4 m</td>\n",
              "    </tr>\n",
              "    <tr>\n",
              "      <th>15</th>\n",
              "      <td>Estructura - Aberturas</td>\n",
              "      <td>Dinteles de ventanas (0.15x0.20 m)</td>\n",
              "      <td>m³</td>\n",
              "      <td>0.540</td>\n",
              "      <td>12 ventanas; luz ? 1.5 m</td>\n",
              "    </tr>\n",
              "    <tr>\n",
              "      <th>16</th>\n",
              "      <td>Estructura - Aberturas</td>\n",
              "      <td>Acero de refuerzo en mochetas y dinteles</td>\n",
              "      <td>ton</td>\n",
              "      <td>0.300</td>\n",
              "      <td>Estimado 100-120 kg/m³</td>\n",
              "    </tr>\n",
              "    <tr>\n",
              "      <th>17</th>\n",
              "      <td>Mampostería</td>\n",
              "      <td>Bloque de concreto 15x20x40 cm</td>\n",
              "      <td>m²</td>\n",
              "      <td>350.000</td>\n",
              "      <td>NaN</td>\n",
              "    </tr>\n",
              "    <tr>\n",
              "      <th>18</th>\n",
              "      <td>Mampostería</td>\n",
              "      <td>Refuerzo horizontal y vertical en muros</td>\n",
              "      <td>ton</td>\n",
              "      <td>0.800</td>\n",
              "      <td>NaN</td>\n",
              "    </tr>\n",
              "    <tr>\n",
              "      <th>19</th>\n",
              "      <td>Mampostería</td>\n",
              "      <td>Mortero de pega</td>\n",
              "      <td>m³</td>\n",
              "      <td>12.000</td>\n",
              "      <td>NaN</td>\n",
              "    </tr>\n",
              "  </tbody>\n",
              "</table>\n",
              "</div>\n",
              "    <div class=\"colab-df-buttons\">\n",
              "\n",
              "  <div class=\"colab-df-container\">\n",
              "    <button class=\"colab-df-convert\" onclick=\"convertToInteractive('df-62cb4903-1300-4d44-a677-cf43900093a5')\"\n",
              "            title=\"Convert this dataframe to an interactive table.\"\n",
              "            style=\"display:none;\">\n",
              "\n",
              "  <svg xmlns=\"http://www.w3.org/2000/svg\" height=\"24px\" viewBox=\"0 -960 960 960\">\n",
              "    <path d=\"M120-120v-720h720v720H120Zm60-500h600v-160H180v160Zm220 220h160v-160H400v160Zm0 220h160v-160H400v160ZM180-400h160v-160H180v160Zm440 0h160v-160H620v160ZM180-180h160v-160H180v160Zm440 0h160v-160H620v160Z\"/>\n",
              "  </svg>\n",
              "    </button>\n",
              "\n",
              "  <style>\n",
              "    .colab-df-container {\n",
              "      display:flex;\n",
              "      gap: 12px;\n",
              "    }\n",
              "\n",
              "    .colab-df-convert {\n",
              "      background-color: #E8F0FE;\n",
              "      border: none;\n",
              "      border-radius: 50%;\n",
              "      cursor: pointer;\n",
              "      display: none;\n",
              "      fill: #1967D2;\n",
              "      height: 32px;\n",
              "      padding: 0 0 0 0;\n",
              "      width: 32px;\n",
              "    }\n",
              "\n",
              "    .colab-df-convert:hover {\n",
              "      background-color: #E2EBFA;\n",
              "      box-shadow: 0px 1px 2px rgba(60, 64, 67, 0.3), 0px 1px 3px 1px rgba(60, 64, 67, 0.15);\n",
              "      fill: #174EA6;\n",
              "    }\n",
              "\n",
              "    .colab-df-buttons div {\n",
              "      margin-bottom: 4px;\n",
              "    }\n",
              "\n",
              "    [theme=dark] .colab-df-convert {\n",
              "      background-color: #3B4455;\n",
              "      fill: #D2E3FC;\n",
              "    }\n",
              "\n",
              "    [theme=dark] .colab-df-convert:hover {\n",
              "      background-color: #434B5C;\n",
              "      box-shadow: 0px 1px 3px 1px rgba(0, 0, 0, 0.15);\n",
              "      filter: drop-shadow(0px 1px 2px rgba(0, 0, 0, 0.3));\n",
              "      fill: #FFFFFF;\n",
              "    }\n",
              "  </style>\n",
              "\n",
              "    <script>\n",
              "      const buttonEl =\n",
              "        document.querySelector('#df-62cb4903-1300-4d44-a677-cf43900093a5 button.colab-df-convert');\n",
              "      buttonEl.style.display =\n",
              "        google.colab.kernel.accessAllowed ? 'block' : 'none';\n",
              "\n",
              "      async function convertToInteractive(key) {\n",
              "        const element = document.querySelector('#df-62cb4903-1300-4d44-a677-cf43900093a5');\n",
              "        const dataTable =\n",
              "          await google.colab.kernel.invokeFunction('convertToInteractive',\n",
              "                                                    [key], {});\n",
              "        if (!dataTable) return;\n",
              "\n",
              "        const docLinkHtml = 'Like what you see? Visit the ' +\n",
              "          '<a target=\"_blank\" href=https://colab.research.google.com/notebooks/data_table.ipynb>data table notebook</a>'\n",
              "          + ' to learn more about interactive tables.';\n",
              "        element.innerHTML = '';\n",
              "        dataTable['output_type'] = 'display_data';\n",
              "        await google.colab.output.renderOutput(dataTable, element);\n",
              "        const docLink = document.createElement('div');\n",
              "        docLink.innerHTML = docLinkHtml;\n",
              "        element.appendChild(docLink);\n",
              "      }\n",
              "    </script>\n",
              "  </div>\n",
              "\n",
              "\n",
              "    <div id=\"df-10d20de8-f8ad-4466-83d6-8572a388f939\">\n",
              "      <button class=\"colab-df-quickchart\" onclick=\"quickchart('df-10d20de8-f8ad-4466-83d6-8572a388f939')\"\n",
              "                title=\"Suggest charts\"\n",
              "                style=\"display:none;\">\n",
              "\n",
              "<svg xmlns=\"http://www.w3.org/2000/svg\" height=\"24px\"viewBox=\"0 0 24 24\"\n",
              "     width=\"24px\">\n",
              "    <g>\n",
              "        <path d=\"M19 3H5c-1.1 0-2 .9-2 2v14c0 1.1.9 2 2 2h14c1.1 0 2-.9 2-2V5c0-1.1-.9-2-2-2zM9 17H7v-7h2v7zm4 0h-2V7h2v10zm4 0h-2v-4h2v4z\"/>\n",
              "    </g>\n",
              "</svg>\n",
              "      </button>\n",
              "\n",
              "<style>\n",
              "  .colab-df-quickchart {\n",
              "      --bg-color: #E8F0FE;\n",
              "      --fill-color: #1967D2;\n",
              "      --hover-bg-color: #E2EBFA;\n",
              "      --hover-fill-color: #174EA6;\n",
              "      --disabled-fill-color: #AAA;\n",
              "      --disabled-bg-color: #DDD;\n",
              "  }\n",
              "\n",
              "  [theme=dark] .colab-df-quickchart {\n",
              "      --bg-color: #3B4455;\n",
              "      --fill-color: #D2E3FC;\n",
              "      --hover-bg-color: #434B5C;\n",
              "      --hover-fill-color: #FFFFFF;\n",
              "      --disabled-bg-color: #3B4455;\n",
              "      --disabled-fill-color: #666;\n",
              "  }\n",
              "\n",
              "  .colab-df-quickchart {\n",
              "    background-color: var(--bg-color);\n",
              "    border: none;\n",
              "    border-radius: 50%;\n",
              "    cursor: pointer;\n",
              "    display: none;\n",
              "    fill: var(--fill-color);\n",
              "    height: 32px;\n",
              "    padding: 0;\n",
              "    width: 32px;\n",
              "  }\n",
              "\n",
              "  .colab-df-quickchart:hover {\n",
              "    background-color: var(--hover-bg-color);\n",
              "    box-shadow: 0 1px 2px rgba(60, 64, 67, 0.3), 0 1px 3px 1px rgba(60, 64, 67, 0.15);\n",
              "    fill: var(--button-hover-fill-color);\n",
              "  }\n",
              "\n",
              "  .colab-df-quickchart-complete:disabled,\n",
              "  .colab-df-quickchart-complete:disabled:hover {\n",
              "    background-color: var(--disabled-bg-color);\n",
              "    fill: var(--disabled-fill-color);\n",
              "    box-shadow: none;\n",
              "  }\n",
              "\n",
              "  .colab-df-spinner {\n",
              "    border: 2px solid var(--fill-color);\n",
              "    border-color: transparent;\n",
              "    border-bottom-color: var(--fill-color);\n",
              "    animation:\n",
              "      spin 1s steps(1) infinite;\n",
              "  }\n",
              "\n",
              "  @keyframes spin {\n",
              "    0% {\n",
              "      border-color: transparent;\n",
              "      border-bottom-color: var(--fill-color);\n",
              "      border-left-color: var(--fill-color);\n",
              "    }\n",
              "    20% {\n",
              "      border-color: transparent;\n",
              "      border-left-color: var(--fill-color);\n",
              "      border-top-color: var(--fill-color);\n",
              "    }\n",
              "    30% {\n",
              "      border-color: transparent;\n",
              "      border-left-color: var(--fill-color);\n",
              "      border-top-color: var(--fill-color);\n",
              "      border-right-color: var(--fill-color);\n",
              "    }\n",
              "    40% {\n",
              "      border-color: transparent;\n",
              "      border-right-color: var(--fill-color);\n",
              "      border-top-color: var(--fill-color);\n",
              "    }\n",
              "    60% {\n",
              "      border-color: transparent;\n",
              "      border-right-color: var(--fill-color);\n",
              "    }\n",
              "    80% {\n",
              "      border-color: transparent;\n",
              "      border-right-color: var(--fill-color);\n",
              "      border-bottom-color: var(--fill-color);\n",
              "    }\n",
              "    90% {\n",
              "      border-color: transparent;\n",
              "      border-bottom-color: var(--fill-color);\n",
              "    }\n",
              "  }\n",
              "</style>\n",
              "\n",
              "      <script>\n",
              "        async function quickchart(key) {\n",
              "          const quickchartButtonEl =\n",
              "            document.querySelector('#' + key + ' button');\n",
              "          quickchartButtonEl.disabled = true;  // To prevent multiple clicks.\n",
              "          quickchartButtonEl.classList.add('colab-df-spinner');\n",
              "          try {\n",
              "            const charts = await google.colab.kernel.invokeFunction(\n",
              "                'suggestCharts', [key], {});\n",
              "          } catch (error) {\n",
              "            console.error('Error during call to suggestCharts:', error);\n",
              "          }\n",
              "          quickchartButtonEl.classList.remove('colab-df-spinner');\n",
              "          quickchartButtonEl.classList.add('colab-df-quickchart-complete');\n",
              "        }\n",
              "        (() => {\n",
              "          let quickchartButtonEl =\n",
              "            document.querySelector('#df-10d20de8-f8ad-4466-83d6-8572a388f939 button');\n",
              "          quickchartButtonEl.style.display =\n",
              "            google.colab.kernel.accessAllowed ? 'block' : 'none';\n",
              "        })();\n",
              "      </script>\n",
              "    </div>\n",
              "\n",
              "    </div>\n",
              "  </div>\n"
            ],
            "application/vnd.google.colaboratory.intrinsic+json": {
              "type": "dataframe",
              "summary": "{\n  \"name\": \"display(df\",\n  \"rows\": 20,\n  \"fields\": [\n    {\n      \"column\": \"Partida\",\n      \"properties\": {\n        \"dtype\": \"category\",\n        \"num_unique_values\": 5,\n        \"samples\": [\n          \"Cimentaci\\u00f3n\",\n          \"Mamposter\\u00eda\",\n          \"Estructura\"\n        ],\n        \"semantic_type\": \"\",\n        \"description\": \"\"\n      }\n    },\n    {\n      \"column\": \"Subpartida\",\n      \"properties\": {\n        \"dtype\": \"string\",\n        \"num_unique_values\": 20,\n        \"samples\": [\n          \"Limpieza y preparaci\\u00f3n del terreno\",\n          \"Bloque de concreto 15x20x40 cm\",\n          \"Dinteles de ventanas (0.15x0.20 m)\"\n        ],\n        \"semantic_type\": \"\",\n        \"description\": \"\"\n      }\n    },\n    {\n      \"column\": \"Unidad\",\n      \"properties\": {\n        \"dtype\": \"category\",\n        \"num_unique_values\": 5,\n        \"samples\": [\n          \"glb\",\n          \"ud\",\n          \"m\\u00b3\"\n        ],\n        \"semantic_type\": \"\",\n        \"description\": \"\"\n      }\n    },\n    {\n      \"column\": \"Cantidad\",\n      \"properties\": {\n        \"dtype\": \"number\",\n        \"std\": 85.36427070970618,\n        \"min\": 0.288,\n        \"max\": 350.0,\n        \"num_unique_values\": 16,\n        \"samples\": [\n          150.0,\n          1.0,\n          12.0\n        ],\n        \"semantic_type\": \"\",\n        \"description\": \"\"\n      }\n    },\n    {\n      \"column\": \"Observaciones/Supuestos\",\n      \"properties\": {\n        \"dtype\": \"string\",\n        \"num_unique_values\": 12,\n        \"samples\": [\n          \"12 ventanas; luz ? 1.5 m\",\n          \"12 ventanas; alto ? 1.4 m\",\n          \"\\u00c1rea de lote estimada\"\n        ],\n        \"semantic_type\": \"\",\n        \"description\": \"\"\n      }\n    }\n  ]\n}"
            }
          },
          "metadata": {}
        }
      ]
    },
    {
      "cell_type": "markdown",
      "source": [
        "**Paso 4.** Interactuar con los datos"
      ],
      "metadata": {
        "id": "cB1zD34rGl-W"
      }
    },
    {
      "cell_type": "code",
      "source": [
        "# Ajusta estos nombres según tu CSV\n",
        "COL_PARTIDA    = \"Partida\"\n",
        "COL_SUBPARTIDA = \"Subpartida\"\n",
        "COL_UNIDAD     = \"Unidad\"\n",
        "COL_CANTIDAD   = \"Cantidad\"\n",
        "\n",
        "def norm(x):\n",
        "    return str(x).strip().lower()\n",
        "\n",
        "p = input(\"Ingrese la PARTIDA: \").strip()\n",
        "s = input(\"Ingrese la SUBPARTIDA: \").strip()\n",
        "\n",
        "# Comparación tolerante a espacios y mayúsculas/minúsculas\n",
        "mask = (df[COL_PARTIDA].map(norm) == norm(p)) & (df[COL_SUBPARTIDA].astype(str).map(norm) == norm(s))\n",
        "res = df.loc[mask, [COL_PARTIDA, COL_SUBPARTIDA, COL_UNIDAD, COL_CANTIDAD]]\n",
        "\n",
        "if res.empty:\n",
        "    print(\"⚠️ No se encontró la combinación (partida, subpartida). Verifique valores y nombres de columna.\")\n",
        "else:\n",
        "    for _, row in res.iterrows():\n",
        "        print(f\"✅ Unidad: {row[COL_UNIDAD]} | Cantidad: {row[COL_CANTIDAD]}\")\n"
      ],
      "metadata": {
        "colab": {
          "base_uri": "https://localhost:8080/"
        },
        "id": "oqSM_0xpGqvf",
        "outputId": "53d92d48-96d6-499f-bd01-6865bb3dc9a0"
      },
      "execution_count": 42,
      "outputs": [
        {
          "output_type": "stream",
          "name": "stdout",
          "text": [
            "Ingrese la PARTIDA: Estructura\n",
            "Ingrese la SUBPARTIDA: Viga corona\n",
            "✅ Unidad: m³ | Cantidad: 25.0\n"
          ]
        }
      ]
    }
  ]
}